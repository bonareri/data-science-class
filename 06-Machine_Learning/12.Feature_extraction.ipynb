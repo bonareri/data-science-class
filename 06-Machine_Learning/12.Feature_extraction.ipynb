{
 "cells": [
  {
   "cell_type": "markdown",
   "id": "991100c7",
   "metadata": {},
   "source": [
    "## What is Feature Extraction?\n",
    "\n",
    "**Feature Extraction** is the process of transforming **raw data** (such as text, images, or audio) into **numerical features** that can be used by machine learning algorithms.  \n",
    "Since ML models cannot directly understand raw text, we must convert text into structured representations (numbers, vectors, or embeddings).\n",
    "\n",
    "### Why Feature Extraction for Text?\n",
    "- Text is **unstructured** → words, sentences, paragraphs.  \n",
    "- ML models require **numerical input**.  \n",
    "- Extraction captures **important patterns** in text (e.g., word frequency, meaning, sentiment).  \n",
    "\n",
    "### Steps in Feature Extraction\n",
    "\n",
    "#### 1. Text Preprocessing (Before Feature Extraction)\n",
    "\n",
    "Preprocessing makes text cleaner and consistent. Steps include:\n",
    "\n",
    "**Lowercasing**:\n",
    "\n",
    "\"I LOVE AI\" → \"i love ai\"\n",
    "\n",
    "**Removing punctuation & special characters**:\n",
    "\n",
    "\"Data, Science!!!\" → \"data science\"\n",
    "\n",
    "**Tokenization**:\n",
    "\n",
    "- The process of splitting text into smaller units called *tokens* (words, subwords, or characters).  \n",
    "- \"Machine learning is fun\" → [\"machine\", \"learning\", \"is\", \"fun\"]\n",
    "\n",
    "**Stopword removal (common but not useful words)**:\n",
    "- Stopwords are common words (like \"the\", \"is\", \"at\", \"and\") that usually don’t add much meaning. \n",
    "- Removing them reduces noise in the text.  \n",
    "- Example: \"I am learning data science\" → \"learning data science\"\n",
    "\n",
    "**Stemming / Lemmatization (reducing to base form)**:\n",
    "- Both methods reduce words to their base form, helping models treat variations of a word as the same feature. \n",
    "\n",
    "**Stemming**\n",
    "- Stemming is a **rule-based process** that chops off prefixes or suffixes to get to the root form of a word.  \n",
    "- It doesn’t always produce valid words in the language.\n",
    "- **Algorithm examples:** Porter Stemmer, Snowball Stemmer, Lancaster Stemmer.\n",
    "- **Pros:** Fast and simple.  \n",
    "- **Cons:** Can produce stems that are not actual words.\n",
    "- **Examples**:\n",
    "- \"playing\" → \"play\"\n",
    "- \"studies\" → \"studi\"\n",
    "- \"running\" → \"run\" \n",
    "\n",
    "**Lemmatization**\n",
    "- Lemmatization uses **vocabulary analysis** to reduce words to their **dictionary form (lemma)**.  \n",
    "- It considers the **context** and part of speech (POS) of a word.\n",
    "- **Algorithm examples:** WordNet Lemmatizer (NLTK), spaCy lemmatizer.  \n",
    "- **Pros:** Produces valid words; more accurate.  \n",
    "- **Cons:** Slower than stemming because it uses dictionaries and grammar rules.\n",
    "- **Examples:**\n",
    "- \"better\" → \"good\" (adjective lemma)\n",
    "- \"studies\" → \"study\" (noun/verb lemma)\n",
    "- \"running\" → \"run\" (verb lemma)"
   ]
  },
  {
   "cell_type": "markdown",
   "id": "bf424799",
   "metadata": {},
   "source": [
    "### Types of Feature Extraction in Text\n",
    "\n",
    "Feature extraction transforms raw text into numerical features for machine learning.  \n",
    "There are **two major categories**:  \n",
    "\n",
    "### 1. Frequency-Based Methods (Classical)\n",
    "These methods rely on **word frequency statistics**.\n",
    "\n",
    "#### a) Bag of Words (BoW)\n",
    "- Represents text as a vector of **word counts**.  \n",
    "- Ignores grammar and word order.  \n",
    "- Implemented in scikit-learn using `CountVectorizer`.  \n",
    "\n",
    "**Example:**  \n",
    "For example, consider the following set of three phrases:"
   ]
  },
  {
   "cell_type": "code",
   "execution_count": 2,
   "id": "942a07a6",
   "metadata": {},
   "outputs": [],
   "source": [
    "sample = ['problem of evil',\n",
    "          'evil queen',\n",
    "          'horizon problem']"
   ]
  },
  {
   "cell_type": "code",
   "execution_count": 3,
   "id": "12a4ff16",
   "metadata": {},
   "outputs": [
    {
     "data": {
      "text/plain": [
       "<Compressed Sparse Row sparse matrix of dtype 'int64'\n",
       "\twith 7 stored elements and shape (3, 5)>"
      ]
     },
     "execution_count": 3,
     "metadata": {},
     "output_type": "execute_result"
    }
   ],
   "source": [
    "from sklearn.feature_extraction.text import CountVectorizer\n",
    "\n",
    "vec = CountVectorizer()\n",
    "X = vec.fit_transform(sample)\n",
    "X"
   ]
  },
  {
   "cell_type": "markdown",
   "id": "49139c7f",
   "metadata": {},
   "source": [
    "The result is a sparse matrix recording the number of times each word appears; it is easier to inspect if we convert this to a DataFrame with labeled columns:"
   ]
  },
  {
   "cell_type": "code",
   "execution_count": 4,
   "id": "d43cd329",
   "metadata": {},
   "outputs": [
    {
     "data": {
      "text/html": [
       "<div>\n",
       "<style scoped>\n",
       "    .dataframe tbody tr th:only-of-type {\n",
       "        vertical-align: middle;\n",
       "    }\n",
       "\n",
       "    .dataframe tbody tr th {\n",
       "        vertical-align: top;\n",
       "    }\n",
       "\n",
       "    .dataframe thead th {\n",
       "        text-align: right;\n",
       "    }\n",
       "</style>\n",
       "<table border=\"1\" class=\"dataframe\">\n",
       "  <thead>\n",
       "    <tr style=\"text-align: right;\">\n",
       "      <th></th>\n",
       "      <th>evil</th>\n",
       "      <th>horizon</th>\n",
       "      <th>of</th>\n",
       "      <th>problem</th>\n",
       "      <th>queen</th>\n",
       "    </tr>\n",
       "  </thead>\n",
       "  <tbody>\n",
       "    <tr>\n",
       "      <th>0</th>\n",
       "      <td>1</td>\n",
       "      <td>0</td>\n",
       "      <td>1</td>\n",
       "      <td>1</td>\n",
       "      <td>0</td>\n",
       "    </tr>\n",
       "    <tr>\n",
       "      <th>1</th>\n",
       "      <td>1</td>\n",
       "      <td>0</td>\n",
       "      <td>0</td>\n",
       "      <td>0</td>\n",
       "      <td>1</td>\n",
       "    </tr>\n",
       "    <tr>\n",
       "      <th>2</th>\n",
       "      <td>0</td>\n",
       "      <td>1</td>\n",
       "      <td>0</td>\n",
       "      <td>1</td>\n",
       "      <td>0</td>\n",
       "    </tr>\n",
       "  </tbody>\n",
       "</table>\n",
       "</div>"
      ],
      "text/plain": [
       "   evil  horizon  of  problem  queen\n",
       "0     1        0   1        1      0\n",
       "1     1        0   0        0      1\n",
       "2     0        1   0        1      0"
      ]
     },
     "execution_count": 4,
     "metadata": {},
     "output_type": "execute_result"
    }
   ],
   "source": [
    "import pandas as pd\n",
    "pd.DataFrame(X.toarray(), columns=vec.get_feature_names_out())"
   ]
  },
  {
   "cell_type": "markdown",
   "id": "342112f2",
   "metadata": {},
   "source": [
    "`Issue`: the raw word counts lead to features which put too much weight on words that appear very frequently\n",
    "\n",
    "One approach to fix this is known as `term frequency-inverse document frequency (TF–IDF)` which weights the word counts by a measure of how often they appear in the documents."
   ]
  },
  {
   "cell_type": "markdown",
   "id": "5db413bb",
   "metadata": {},
   "source": [
    "- pros- Simple, interpretable  \n",
    "- cons: High dimensional, ignores context  \n",
    "\n",
    "#### b) TF–IDF (Term Frequency – Inverse Document Frequency)\n",
    "- Extends BoW by weighing **important words higher**.  \n",
    "- Common words like \"the\", \"is\" get **low weight**.  \n",
    "- Rare but informative words get **high weight**.  \n",
    "\n",
    "- pros: Reduces noise from frequent words  \n",
    "- Still: ignores word order and context  "
   ]
  },
  {
   "cell_type": "code",
   "execution_count": 6,
   "id": "ca1ca30c",
   "metadata": {},
   "outputs": [
    {
     "name": "stdout",
     "output_type": "stream",
     "text": [
      "       evil   horizon   problem     queen\n",
      "0  0.707107  0.000000  0.707107  0.000000\n",
      "1  0.605349  0.000000  0.000000  0.795961\n",
      "2  0.000000  0.795961  0.605349  0.000000\n"
     ]
    }
   ],
   "source": [
    "# TF-IDF with stopword removal and min_df to filter rare words\n",
    "vec = TfidfVectorizer(\n",
    "    stop_words='english',   # remove common English stopwords like 'of'\n",
    "    min_df=1                # keep words that appear in at least 1 document\n",
    ")\n",
    "\n",
    "# Fit and transform\n",
    "X = vec.fit_transform(sample)\n",
    "\n",
    "# Convert to DataFrame with correct feature names\n",
    "df = pd.DataFrame(X.toarray(), columns=vec.get_feature_names_out())\n",
    "print(df)"
   ]
  },
  {
   "cell_type": "markdown",
   "id": "ec851472",
   "metadata": {},
   "source": [
    "#### c) N-Grams\n",
    "- Captures **sequences of words** (unigrams, bigrams, trigrams).  \n",
    "\n",
    "**Example:**  \n",
    "Sentence: \"machine learning is fun\"  \n",
    "- Unigrams: [machine, learning, is, fun]  \n",
    "- Bigrams: [machine learning, learning is, is fun]  \n",
    "\n",
    "- pros: Preserves some context  \n",
    "- cons: Feature space grows quickly  \n",
    "\n",
    "#### d) Statistical / Structural Features\n",
    "- Extracts **numeric attributes** about text:  \n",
    "  - Document length (#words, #sentences)  \n",
    "  - Average word length  \n",
    "  - Vocabulary richness  \n",
    "  - Special characters (\"!!!\", \"#\", capital letters)  \n",
    "\n",
    "- Useful in tasks like spam detection, author profiling  \n",
    "\n",
    "#### e) Sentiment Features\n",
    "- Captures **emotional tone** using polarity & subjectivity.  \n",
    "\n",
    "**Example:**  \n",
    "- \"I love this phone\" → Positive (+0.9)  \n",
    "- \"This is terrible\" → Negative (-0.8)  \n",
    "\n",
    "- pros: Adds meaning beyond raw words  \n",
    "- cons: Requires external sentiment models  \n",
    "\n",
    "### 2. Embedding-Based Methods (Modern, Semantic)\n",
    "These methods represent words/sentences as **dense vectors**(compact numerical representations) that capture meaning.\n",
    "\n",
    "#### a) Word Embeddings (Static)\n",
    "- Each word has a **fixed vector**, regardless of context.  \n",
    "- Examples: **Word2Vec, GloVe, FastText**.  \n",
    "\n",
    "**Example:**  \n",
    "- \"king\" - \"man\" + \"woman\" ≈ \"queen\"  \n",
    "- \"doctor\" and \"nurse\" → closer in vector space than \"doctor\" and \"banana\"  \n",
    "\n",
    "- pros: Captures semantic similarity  \n",
    "- cons: Same word vector in all contexts (\"bank\" = same for river bank & financial bank)  \n",
    "\n",
    "#### b) Contextual Embeddings\n",
    "- Word meaning **changes with context**.  \n",
    "- Examples: **BERT, RoBERTa, GPT embeddings**.  \n",
    "\n",
    "**Example:**  \n",
    "- \"bank\" in \"river bank\" ≠ \"bank\" in \"bank account\"  \n",
    "\n",
    "- pros: State-of-the-art for most NLP tasks  \n",
    "- cons: Requires more computation  \n",
    "\n",
    "\n",
    "### Summary\n",
    "\n",
    "**Feature extraction methods can be grouped into:**\n",
    "\n",
    "1. **Classical (Statistical):**  \n",
    "   - Bag of Words (BoW)  \n",
    "   - TF–IDF  \n",
    "   - N-Grams  \n",
    "   - Structural features  \n",
    "   - Sentiment features  \n",
    "\n",
    "2. **Modern (Semantic):**  \n",
    "   - Word embeddings (Word2Vec, GloVe, FastText)  \n",
    "   - Contextual embeddings (BERT, GPT, RoBERTa)  \n",
    "\n",
    "**Think of it like this:**  \n",
    "- **Classical methods** = count-based (how often words appear).  \n",
    "- **Modern methods** = meaning-based (what words *mean* in context). "
   ]
  },
  {
   "cell_type": "code",
   "execution_count": 13,
   "id": "7718f2d7",
   "metadata": {},
   "outputs": [],
   "source": [
    "import seaborn as sns\n",
    "import matplotlib.pyplot as plt"
   ]
  },
  {
   "cell_type": "code",
   "execution_count": 7,
   "id": "e16477d0",
   "metadata": {},
   "outputs": [
    {
     "data": {
      "text/plain": [
       "['alt.atheism',\n",
       " 'comp.graphics',\n",
       " 'comp.os.ms-windows.misc',\n",
       " 'comp.sys.ibm.pc.hardware',\n",
       " 'comp.sys.mac.hardware',\n",
       " 'comp.windows.x',\n",
       " 'misc.forsale',\n",
       " 'rec.autos',\n",
       " 'rec.motorcycles',\n",
       " 'rec.sport.baseball',\n",
       " 'rec.sport.hockey',\n",
       " 'sci.crypt',\n",
       " 'sci.electronics',\n",
       " 'sci.med',\n",
       " 'sci.space',\n",
       " 'soc.religion.christian',\n",
       " 'talk.politics.guns',\n",
       " 'talk.politics.mideast',\n",
       " 'talk.politics.misc',\n",
       " 'talk.religion.misc']"
      ]
     },
     "execution_count": 7,
     "metadata": {},
     "output_type": "execute_result"
    }
   ],
   "source": [
    "from sklearn.datasets import fetch_20newsgroups\n",
    "\n",
    "data = fetch_20newsgroups()\n",
    "data.target_names"
   ]
  },
  {
   "cell_type": "markdown",
   "id": "f0178fe0",
   "metadata": {},
   "source": [
    "For simplicity here, we will select just a few of these categories, and download the training and testing set:"
   ]
  },
  {
   "cell_type": "code",
   "execution_count": 8,
   "id": "e57401a5",
   "metadata": {},
   "outputs": [],
   "source": [
    "categories = ['talk.religion.misc', 'soc.religion.christian',\n",
    "              'sci.space', 'comp.graphics']\n",
    "train = fetch_20newsgroups(subset='train', categories=categories)\n",
    "test = fetch_20newsgroups(subset='test', categories=categories)"
   ]
  },
  {
   "cell_type": "code",
   "execution_count": 9,
   "id": "97574819",
   "metadata": {},
   "outputs": [
    {
     "name": "stdout",
     "output_type": "stream",
     "text": [
      "From: dmcgee@uluhe.soest.hawaii.edu (Don McGee)\n",
      "Subject: Federal Hearing\n",
      "Originator: dmcgee@uluhe\n",
      "Organization: School of Ocean and Earth Science and Technology\n",
      "Distribution: usa\n",
      "Lines: 10\n",
      "\n",
      "\n",
      "Fact or rumor....?  Madalyn Murray O'Hare an atheist who eliminated the\n",
      "use of the bible reading and prayer in public schools 15 years ago is now\n",
      "going to appear before the FCC with a petition to stop the reading of the\n",
      "Gospel on the airways of America.  And she is also campaigning to remove\n",
      "Christmas programs, songs, etc from the public schools.  If it is true\n",
      "then mail to Federal Communications Commission 1919 H Street Washington DC\n",
      "20054 expressing your opposition to her request.  Reference Petition number\n",
      "\n",
      "2493.\n",
      "\n"
     ]
    }
   ],
   "source": [
    "print(train.data[5])"
   ]
  },
  {
   "cell_type": "markdown",
   "id": "fe674169",
   "metadata": {},
   "source": [
    "In order to use this data for machine learning, we need to be able to convert the content of each string into a vector of numbers. For this we will use the TF-IDF vectorizer"
   ]
  },
  {
   "cell_type": "code",
   "execution_count": 10,
   "id": "7603d13d",
   "metadata": {},
   "outputs": [],
   "source": [
    "from sklearn.feature_extraction.text import TfidfVectorizer\n",
    "from sklearn.naive_bayes import MultinomialNB\n",
    "from sklearn.pipeline import make_pipeline\n",
    "\n",
    "model = make_pipeline(TfidfVectorizer(), MultinomialNB())"
   ]
  },
  {
   "cell_type": "code",
   "execution_count": 11,
   "id": "300b5ddf",
   "metadata": {},
   "outputs": [],
   "source": [
    "model.fit(train.data, train.target)\n",
    "labels = model.predict(test.data)"
   ]
  },
  {
   "cell_type": "code",
   "execution_count": 14,
   "id": "c4a2ccbb",
   "metadata": {},
   "outputs": [
    {
     "data": {
      "text/plain": [
       "Text(113.92222222222219, 0.5, 'predicted label')"
      ]
     },
     "execution_count": 14,
     "metadata": {},
     "output_type": "execute_result"
    },
    {
     "data": {
      "image/png": "[encoded data removed]",
      "text/plain": [
       "<Figure size 640x480 with 1 Axes>"
      ]
     },
     "metadata": {},
     "output_type": "display_data"
    }
   ],
   "source": [
    "from sklearn.metrics import confusion_matrix\n",
    "mat = confusion_matrix(test.target, labels)\n",
    "sns.heatmap(mat.T, square=True, annot=True, fmt='d', cbar=False,\n",
    "            xticklabels=train.target_names, yticklabels=train.target_names)\n",
    "plt.xlabel('true label')\n",
    "plt.ylabel('predicted label')"
   ]
  },
  {
   "cell_type": "code",
   "execution_count": 15,
   "id": "61841e32",
   "metadata": {},
   "outputs": [],
   "source": [
    "def predict_category(s, train=train, model=model):\n",
    "    pred = model.predict([s])\n",
    "    return train.target_names[pred[0]]"
   ]
  },
  {
   "cell_type": "code",
   "execution_count": 16,
   "id": "ce4e1122",
   "metadata": {},
   "outputs": [
    {
     "data": {
      "text/plain": [
       "'sci.space'"
      ]
     },
     "execution_count": 16,
     "metadata": {},
     "output_type": "execute_result"
    }
   ],
   "source": [
    "predict_category('sending a payload to the ISS')"
   ]
  },
  {
   "cell_type": "code",
   "execution_count": 17,
   "id": "536f1a45",
   "metadata": {},
   "outputs": [
    {
     "data": {
      "text/plain": [
       "'soc.religion.christian'"
      ]
     },
     "execution_count": 17,
     "metadata": {},
     "output_type": "execute_result"
    }
   ],
   "source": [
    "predict_category('discussing islam vs atheism')"
   ]
  },
  {
   "cell_type": "code",
   "execution_count": 18,
   "id": "e580644c",
   "metadata": {},
   "outputs": [
    {
     "data": {
      "text/plain": [
       "'comp.graphics'"
      ]
     },
     "execution_count": 18,
     "metadata": {},
     "output_type": "execute_result"
    }
   ],
   "source": [
    "predict_category('determining the screen resolution')"
   ]
  }
 ],
 "metadata": {
  "kernelspec": {
   "display_name": "env",
   "language": "python",
   "name": "python3"
  },
  "language_info": {
   "codemirror_mode": {
    "name": "ipython",
    "version": 3
   },
   "file_extension": ".py",
   "mimetype": "text/x-python",
   "name": "python",
   "nbconvert_exporter": "python",
   "pygments_lexer": "ipython3",
   "version": "3.13.3"
  }
 },
 "nbformat": 4,
 "nbformat_minor": 5
}
