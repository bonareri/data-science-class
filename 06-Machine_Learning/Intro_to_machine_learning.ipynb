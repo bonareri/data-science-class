{
 "cells": [
  {
   "cell_type": "markdown",
   "id": "01eb6367",
   "metadata": {},
   "source": [
    "## What is Machine Learning?\n",
    "\n",
    "Machine Learning is a field of Artificial Intelligence (AI) where computers learn from data and make predictions or decisions without being explicitly programmed step by step.\n",
    "\n",
    "### Real-Life Examples\n",
    "\n",
    "- Spam Email Filtering → Gmail learns which emails are spam by looking at past emails you marked as spam.\n",
    "- Netflix/YouTube Recommendations → Suggests shows/movies based on what you’ve watched before.\n",
    "- Bank Loan Approval → Predicts whether a person is likely to repay a loan using their financial history.\n",
    "- Self-Driving Cars → Learn from millions of driving examples to recognize roads, pedestrians, and traffic lights.\n",
    "\n",
    "### How Machine Learning Works\n",
    "Imagine teaching a child to recognize cats vs dogs.\n",
    "1. Show many examples of cats and dogs (data).\n",
    "2. Child notices patterns (cats have whiskers, dogs bark, etc.).\n",
    "3. When shown a new picture, the child predicts: cat or dog.\n",
    "\n",
    "`That’s what ML does: learn patterns from past data → make predictions on new data.`\n",
    "\n",
    "### Types of Machine Learning\n",
    "\n",
    "#### Supervised Learning\n",
    "\n",
    "- Learns from labeled data (input + correct output).\n",
    "- Example: Predicting exam results from study hours.\n",
    "- Tasks: Classification (categories) & Regression (numbers).\n",
    "\n",
    "#### Unsupervised Learning\n",
    "\n",
    "- No labels, just finds hidden patterns.\n",
    "- Example: Grouping customers by shopping habits (clustering).\n",
    "\n",
    "#### Reinforcement Learning\n",
    "\n",
    "- Learns by trial & error with rewards/punishments.\n",
    "- Example: Teaching a robot to walk or an AI to play chess."
   ]
  },
  {
   "cell_type": "markdown",
   "id": "b865c82c",
   "metadata": {},
   "source": [
    "## Steps in a Machine Learning Project\n",
    "\n",
    "### 1. Problem Definition\n",
    "- Clearly define **what you are trying to solve**.\n",
    "- Ask:\n",
    "  - Is it a **classification problem**? the goal is to predict a category (class/label) (e.g., Spam vs. Not Spam)\n",
    "  - Is it a **regression problem**? the goal is to predict a continuous numerical value. (e.g., Predicting house prices)\n",
    "  - Is it a **clustering problem**? the goal is to group data into clusters (e.g., Grouping customers by buying behavior)\n",
    "- Example: \"We want to predict students’ final grades based on their study hours and attendance.\"\n",
    "\n",
    "### 2. Data Collection\n",
    "- Collect data from reliable sources:\n",
    "  - Databases (SQL, NoSQL)\n",
    "  - CSV/Excel files\n",
    "  - APIs (Twitter API, weather API)\n",
    "  - Web scraping\n",
    "  - Open datasets (Kaggle, UCI Machine Learning Repository)\n",
    "- **Example dataset**: Students’ study hours, attendance %, and exam scores.\n",
    "\n",
    "### 3. Data Cleaning & Preprocessing\n",
    "- Ensure data quality by:\n",
    "  - Removing duplicates\n",
    "  - Handling missing values (mean/median imputation or dropping rows)\n",
    "  - Handling outliers\n",
    "  - Encoding categorical variables (e.g., Gender → Male=0, Female=1)\n",
    "  - Scaling/normalizing numerical values if required\n",
    "- Example: If some students’ attendance is missing, fill it with the average.\n",
    "\n",
    "### 4. Exploratory Data Analysis (EDA)\n",
    "- Use **statistics and visualization** to understand your dataset:\n",
    "  - Distribution plots (histograms, box plots)\n",
    "  - Correlation heatmaps\n",
    "  - Scatter plots\n",
    "- Goals:\n",
    "  - Detect relationships between features and target.\n",
    "  - Understand data patterns.\n",
    "- Example: Plot study hours vs exam scores to see if they are correlated.\n",
    "\n",
    "\n",
    "### 5. Feature Engineering\n",
    "- Create or select useful features for better prediction.\n",
    "- Steps include:\n",
    "  - Feature selection (remove irrelevant ones)\n",
    "  - Feature creation (combine existing features)\n",
    "  - Dimensionality reduction (PCA)\n",
    "- Example: Create a new feature \"study_efficiency = study_hours / attendance\".\n",
    "\n",
    "### 6. Model Selection\n",
    "- Choose an algorithm based on the problem type:\n",
    "  - **Regression** → Linear Regression, Random Forest Regressor\n",
    "  - **Classification** → Logistic Regression, Decision Trees, SVM\n",
    "  - **Clustering** → K-means, DBSCAN\n",
    "  - **Deep Learning** → Neural Networks (CNN for images, RNN for sequences)\n",
    "- Example: Use Linear Regression to predict exam scores.\n",
    "\n",
    "### 7. Model Training\n",
    "- Split dataset:\n",
    "  - **Training set** (usually 70–80%)\n",
    "  - **Testing set** (20–30%)\n",
    "- Fit the model on training data.\n",
    "- Example: Train Linear Regression on study hours + attendance to predict scores.\n",
    "\n",
    "### 8. Model Evaluation\n",
    "- Evaluate using performance metrics:\n",
    "  - **Classification**:\n",
    "    - Accuracy, Precision, Recall, F1-score, ROC-AUC\n",
    "  - **Regression**:\n",
    "    - RMSE (Root Mean Squared Error)\n",
    "    - MAE (Mean Absolute Error)\n",
    "    - R² (coefficient of determination)\n",
    "- Example: Evaluate exam score predictions using RMSE.\n",
    "\n",
    "### 9. Model Optimization\n",
    "- Improve performance with:\n",
    "  - Hyperparameter tuning (Grid Search, Random Search)\n",
    "  - Regularization (Lasso, Ridge)\n",
    "  - Feature selection\n",
    "  - Ensemble methods (Random Forest, XGBoost)\n",
    "- Example: Tune learning rate and max depth for XGBoost.\n",
    "\n",
    "### 10. Model Deployment\n",
    "- Make your model accessible for real-world use:\n",
    "  - **Web apps**: Flask, Django\n",
    "  - **Interactive dashboards**: Streamlit, Dash\n",
    "  - **APIs**: FastAPI, Flask REST\n",
    "  - **Cloud services**: AWS Sagemaker, GCP AI Platform, Azure ML\n",
    "- Example: Build a Streamlit app where users input study hours & attendance → get predicted score.\n",
    "\n",
    "### 11. Monitoring & Maintenance\n",
    "- Monitor model performance in production.\n",
    "- Detect **model drift** (when data changes over time).\n",
    "- Retrain the model regularly with new data.\n",
    "- Example: Update exam score prediction model every semester with new student data."
   ]
  },
  {
   "attachments": {
    "image-2.png": {
     "image/png": "[encoded data removed]"
    },
    "image-3.png": {
     "image/png": "[encoded data removed]"
    },
    "image.png": {
     "image/png": "[encoded data removed]"
    }
   },
   "cell_type": "markdown",
   "id": "49084707",
   "metadata": {},
   "source": [
    "### What is Feature Scaling?\n",
    "\n",
    "Feature scaling is the process of transforming numerical features into a similar range so that no variable dominates others due to differences in scale.\n",
    "\n",
    "- It ensures that all features contribute equally to the model’s learning process.\n",
    "- Without scaling, features with larger ranges (e.g., income in thousands vs. age in years) may dominate the training process.\n",
    "\n",
    "### Why is Feature Scaling Important?\n",
    "\n",
    "Many machine learning algorithms are sensitive to the magnitude of features.\n",
    "\n",
    "#### Common Methods of Feature Scaling\n",
    "#### 1. Min-Max Normalization (Rescaling)\n",
    "\n",
    "- Scales values between 0 and 1.\n",
    "\n",
    "![image.png](attachment:image.png)\n",
    "\n",
    "- Best when you want values in a bounded range.\n",
    "\n",
    "#### 2. Standardization (Z-score Normalization)\n",
    "\n",
    "- Transforms data to have mean = 0 and standard deviation = 1.\n",
    "\n",
    "![image-2.png](attachment:image-2.png)\n",
    "\n",
    "- X = original value\n",
    "- μ = mean of the feature\n",
    "- σ = standard deviation of the feature\n",
    "- X′= scaled value with mean = 0, standard deviation = 1\n",
    "\n",
    "- Best when data follows a normal distribution.\n",
    "\n",
    "#### 3. Robust Scaling\n",
    "\n",
    "- Uses the median and interquartile range (IQR) to scale.\n",
    "\n",
    "![image-3.png](attachment:image-3.png)\n",
    "\n",
    "- X = original value\n",
    "- Median = 50th percentile of the feature\n",
    "- IQR = Interquartile Range = Q3−Q1 (75th percentile − 25th percentile)\n",
    "- 𝑋′= scaled value, robust to outliers\n",
    "\n",
    "- Best when data has many outliers.\n",
    "\n"
   ]
  },
  {
   "cell_type": "markdown",
   "id": "0064ea8e",
   "metadata": {},
   "source": [
    "Let’s scale a dataset of students’ exam scores and study hours."
   ]
  },
  {
   "cell_type": "markdown",
   "id": "dd4075bf",
   "metadata": {},
   "source": [
    "`pip install scikit-learn`"
   ]
  },
  {
   "cell_type": "code",
   "execution_count": 3,
   "id": "ac6e07b1",
   "metadata": {},
   "outputs": [],
   "source": [
    "import numpy as np\n",
    "import pandas as pd\n",
    "from sklearn.preprocessing import MinMaxScaler, StandardScaler, RobustScaler"
   ]
  },
  {
   "cell_type": "code",
   "execution_count": 4,
   "id": "93a113ed",
   "metadata": {},
   "outputs": [],
   "source": [
    "data = {\n",
    "    \"Study_Hours\": [2, 3, 4, 5, 100],  # Notice the outlier (100 hours!)\n",
    "    \"Exam_Score\": [50, 60, 70, 80, 90]\n",
    "}"
   ]
  },
  {
   "cell_type": "code",
   "execution_count": 5,
   "id": "0746c4a5",
   "metadata": {},
   "outputs": [
    {
     "data": {
      "text/html": [
       "<div>\n",
       "<style scoped>\n",
       "    .dataframe tbody tr th:only-of-type {\n",
       "        vertical-align: middle;\n",
       "    }\n",
       "\n",
       "    .dataframe tbody tr th {\n",
       "        vertical-align: top;\n",
       "    }\n",
       "\n",
       "    .dataframe thead th {\n",
       "        text-align: right;\n",
       "    }\n",
       "</style>\n",
       "<table border=\"1\" class=\"dataframe\">\n",
       "  <thead>\n",
       "    <tr style=\"text-align: right;\">\n",
       "      <th></th>\n",
       "      <th>Study_Hours</th>\n",
       "      <th>Exam_Score</th>\n",
       "    </tr>\n",
       "  </thead>\n",
       "  <tbody>\n",
       "    <tr>\n",
       "      <th>0</th>\n",
       "      <td>2</td>\n",
       "      <td>50</td>\n",
       "    </tr>\n",
       "    <tr>\n",
       "      <th>1</th>\n",
       "      <td>3</td>\n",
       "      <td>60</td>\n",
       "    </tr>\n",
       "    <tr>\n",
       "      <th>2</th>\n",
       "      <td>4</td>\n",
       "      <td>70</td>\n",
       "    </tr>\n",
       "    <tr>\n",
       "      <th>3</th>\n",
       "      <td>5</td>\n",
       "      <td>80</td>\n",
       "    </tr>\n",
       "    <tr>\n",
       "      <th>4</th>\n",
       "      <td>100</td>\n",
       "      <td>90</td>\n",
       "    </tr>\n",
       "  </tbody>\n",
       "</table>\n",
       "</div>"
      ],
      "text/plain": [
       "   Study_Hours  Exam_Score\n",
       "0            2          50\n",
       "1            3          60\n",
       "2            4          70\n",
       "3            5          80\n",
       "4          100          90"
      ]
     },
     "execution_count": 5,
     "metadata": {},
     "output_type": "execute_result"
    }
   ],
   "source": [
    "df = pd.DataFrame(data)\n",
    "df"
   ]
  },
  {
   "cell_type": "code",
   "execution_count": 9,
   "id": "1bf0a34e",
   "metadata": {},
   "outputs": [
    {
     "data": {
      "text/plain": [
       "0    0.000000\n",
       "1    0.010204\n",
       "2    0.020408\n",
       "3    0.030612\n",
       "4    1.000000\n",
       "Name: MinMax_Scaled, dtype: float64"
      ]
     },
     "execution_count": 9,
     "metadata": {},
     "output_type": "execute_result"
    }
   ],
   "source": [
    "# Min-Max Scaling\n",
    "minmax = MinMaxScaler()\n",
    "df['MinMax_Scaled'] = minmax.fit_transform(df[['Study_Hours']])\n",
    "df['MinMax_Scaled']"
   ]
  },
  {
   "cell_type": "code",
   "execution_count": 10,
   "id": "950ba1d2",
   "metadata": {},
   "outputs": [
    {
     "data": {
      "text/plain": [
       "0   -0.538679\n",
       "1   -0.512781\n",
       "2   -0.486883\n",
       "3   -0.460985\n",
       "4    1.999329\n",
       "Name: Standard_Scaled, dtype: float64"
      ]
     },
     "execution_count": 10,
     "metadata": {},
     "output_type": "execute_result"
    }
   ],
   "source": [
    "# Standardization\n",
    "standard = StandardScaler()\n",
    "df['Standard_Scaled'] = standard.fit_transform(df[['Study_Hours']])\n",
    "df['Standard_Scaled']"
   ]
  },
  {
   "cell_type": "code",
   "execution_count": 11,
   "id": "cf1143de",
   "metadata": {},
   "outputs": [
    {
     "data": {
      "text/plain": [
       "0    -1.0\n",
       "1    -0.5\n",
       "2     0.0\n",
       "3     0.5\n",
       "4    48.0\n",
       "Name: Robust_Scaled, dtype: float64"
      ]
     },
     "execution_count": 11,
     "metadata": {},
     "output_type": "execute_result"
    }
   ],
   "source": [
    "# Robust Scaling\n",
    "robust = RobustScaler()\n",
    "df['Robust_Scaled'] = robust.fit_transform(df[['Study_Hours']])\n",
    "df['Robust_Scaled']"
   ]
  },
  {
   "cell_type": "markdown",
   "id": "311bc68e",
   "metadata": {},
   "source": [
    "## Feature Scaling: When to Use Which Based on Data\n",
    "\n",
    "Feature scaling choice depends on **data distribution, presence of outliers, and the algorithm** you’re applying.\n",
    "\n",
    "\n",
    "### 1. Min-Max Scaling (Normalization)\n",
    "- **Use when:**\n",
    "  - Data has a **known bounded range** (e.g., percentages 0–100, pixel values 0–255).\n",
    "  - You are using **distance-based algorithms** such as:\n",
    "    - k-NN\n",
    "    - k-Means\n",
    "    - Neural Networks / Deep Learning\n",
    "- **Avoid if:** Data contains **outliers** (extreme values shrink the rest).\n",
    "\n",
    "### 2. Standardization (Z-score Normalization)\n",
    "- **Use when:**\n",
    "  - Data follows (or approximately follows) a **normal/Gaussian distribution**.\n",
    "  - Algorithms that assume data is centered around zero:\n",
    "    - Linear Regression\n",
    "    - Logistic Regression\n",
    "    - SVM\n",
    "- **Avoid if:** Distribution is **heavily skewed** or has **many outliers**.\n",
    "\n",
    "### 3. Robust Scaling\n",
    "- **Use when:**\n",
    "  - Data has **many outliers** or is **skewed**.\n",
    "  - Focus is on **median and IQR** rather than extreme values.\n",
    "- **Works well for:**\n",
    "  - Most algorithms, especially those sensitive to scale but needing robustness to outliers.\n",
    "\n",
    "### Summary\n",
    "\n",
    "| Data Property                         | Best Scaling Method      |\n",
    "|---------------------------------------|--------------------------|\n",
    "| **Bounded values (e.g., pixels, %)**  | Min-Max                  |\n",
    "| **Normal distribution, no outliers**  | Standardization          |\n",
    "| **Skewed data with outliers**         | Robust Scaler            |\n",
    "| **Neural Networks**                   | Min-Max (0–1) / Standard |\n"
   ]
  }
 ],
 "metadata": {
  "kernelspec": {
   "display_name": "env",
   "language": "python",
   "name": "python3"
  },
  "language_info": {
   "codemirror_mode": {
    "name": "ipython",
    "version": 3
   },
   "file_extension": ".py",
   "mimetype": "text/x-python",
   "name": "python",
   "nbconvert_exporter": "python",
   "pygments_lexer": "ipython3",
   "version": "3.13.3"
  }
 },
 "nbformat": 4,
 "nbformat_minor": 5
}
