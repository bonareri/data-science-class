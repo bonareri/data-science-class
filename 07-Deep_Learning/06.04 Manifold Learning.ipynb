{
 "cells": [
  {
   "cell_type": "markdown",
   "id": "c65b98fb",
   "metadata": {},
   "source": [
    "### What is Manifold Learning?\n",
    "\n",
    "- `Manifold learning` is a type of nonlinear dimensionality reduction technique.\n",
    "- It is based on the idea that high-dimensional data often lies on a lower-dimensional \"manifold\" (a smooth, curved surface) inside that high-dimensional space."
   ]
  },
  {
   "cell_type": "markdown",
   "id": "a2f462b4",
   "metadata": {},
   "source": [
    "### Example\n",
    "\n",
    "- Imagine a piece of paper (2D surface).\n",
    "- You can roll it into a tube or twist it into a Swiss roll shape.\n",
    "- Even though the paper now exists in 3D space, all the points on it still lie on a 2D manifold (the paper surface).\n",
    "\n",
    "Manifold learning algorithms try to \"unroll\" this paper and find the true lower-dimensional structure of the data."
   ]
  },
  {
   "cell_type": "markdown",
   "id": "54745335",
   "metadata": {},
   "source": [
    "- Traditional PCA assumes that the important structure is linear (straight lines).\n",
    "- But in reality, data often lies on a nonlinear surface.\n",
    "- Manifold learning methods capture these curved, nonlinear relationships."
   ]
  },
  {
   "cell_type": "markdown",
   "id": "9352ee9c",
   "metadata": {},
   "source": [
    "### Common Manifold Learning Algorithms\n",
    "\n",
    "- Locally Linear Embedding (LLE) – preserves local neighborhood structure.\n",
    "- t-SNE (t-Distributed Stochastic Neighbor Embedding) – great for visualizing clusters in 2D/3D.\n",
    "- UMAP (Uniform Manifold Approximation and Projection) – preserves both local and global structure, often better than t-SNE for speed and scalability."
   ]
  },
  {
   "cell_type": "markdown",
   "id": "f7d30df8",
   "metadata": {},
   "source": []
  }
 ],
 "metadata": {
  "language_info": {
   "name": "python"
  }
 },
 "nbformat": 4,
 "nbformat_minor": 5
}
