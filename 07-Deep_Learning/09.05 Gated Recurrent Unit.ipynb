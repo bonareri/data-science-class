{
 "cells": [
  {
   "attachments": {
    "image-2.png": {
     "image/png": "[encoded data removed]"
    },
    "image-3.png": {
     "image/png": "[encoded data removed]"
    },
    "image-4.png": {
     "image/png": "[encoded data removed]"
    },
    "image.png": {
     "image/png": "[encoded data removed]"
    }
   },
   "cell_type": "markdown",
   "id": "96f08a36",
   "metadata": {},
   "source": [
    "## Gated Recurrent Units (GRUs)\n",
    "\n",
    "A **Gated Recurrent Unit (GRU)** is a type of Recurrent Neural Network (RNN) designed to capture long-term dependencies while reducing complexity compared to LSTMs.  \n",
    "It merges the **cell state** and **hidden state** into a single **hidden state** and uses only **two gates**:\n",
    "- **Update Gate**\n",
    "- **Reset Gate**\n",
    "\n",
    "### Inputs\n",
    "- **x(t):** Current input at time *t*  \n",
    "- **h(t-1):** Previous hidden state\n",
    "\n",
    "### 1.Update Gate \\( z_t \\)\n",
    "- Controls how much of the previous hidden state should be carried forward to the next step.\n",
    "- **Equation:**\n",
    "\n",
    "![image.png](attachment:image.png)\n",
    "\n",
    "- **Interpretation:**  \n",
    "  - Close to **1** → Keep most of the old memory  \n",
    "  - Close to **0** → Focus more on the new candidate\n",
    "\n",
    "### 2. Reset Gate \\( r_t \\)\n",
    "- **Purpose:** Decides how much of the past information to forget when computing the candidate hidden state.\n",
    "- **Equation:**\n",
    "\n",
    "![image-2.png](attachment:image-2.png)\n",
    "\n",
    "### 3. Candidate Hidden State \\( h_t)\n",
    "- Combines the reset gate with the previous hidden state to generate a new candidate:\n",
    "\n",
    "![image-3.png](attachment:image-3.png)\n",
    "\n",
    "### 4. New Hidden State \\( h_t \\)\n",
    "- The update gate blends the old hidden state with the candidate:\n",
    "\n",
    "![image-4.png](attachment:image-4.png)\n",
    "\n",
    "### Key Differences: GRU vs LSTM\n",
    "\n",
    "| Feature          | LSTM                              | GRU                           |\n",
    "|------------------|------------------------------------|---------------------------------|\n",
    "| **Gates**        | Forget, Input, Output             | Update, Reset                 |\n",
    "| **States**       | Hidden state **and** Cell state   | Single hidden state only       |\n",
    "| **Complexity**   | More parameters, more computation | Fewer parameters, faster train |\n",
    "\n",
    "## Intuition\n",
    "- **Update Gate:** “How much of the past do I keep?”  \n",
    "- **Reset Gate:** “How much of the past do I ignore when computing new information?”  \n",
    "\n",
    "GRUs are simpler and often train faster than LSTMs while still effectively capturing long-term dependencies in sequential data."
   ]
  },
  {
   "cell_type": "markdown",
   "id": "7db74729",
   "metadata": {},
   "source": [
    "### Implementation in Python\n",
    "Now let's implement simple GRU model in Python using Keras. We'll start by preparing the necessary libraries and dataset."
   ]
  },
  {
   "cell_type": "markdown",
   "id": "5d890684",
   "metadata": {},
   "source": [
    "#### 1. Importing Libraries"
   ]
  },
  {
   "cell_type": "code",
   "execution_count": 2,
   "id": "c78aa141",
   "metadata": {},
   "outputs": [],
   "source": [
    "import numpy as np\n",
    "import pandas as pd\n",
    "from sklearn.preprocessing import MinMaxScaler\n",
    "from tensorflow.keras.models import Sequential\n",
    "from tensorflow.keras.layers import GRU, Dense\n",
    "from tensorflow.keras.optimizers import Adam"
   ]
  },
  {
   "cell_type": "markdown",
   "id": "01625877",
   "metadata": {},
   "source": [
    "#### 2. Loading the Dataset\n",
    "\n",
    "The dataset we're using is a time-series dataset containing daily temperature data i.e forecasting dataset. It spans 8,000 days starting from January 1, 2010."
   ]
  },
  {
   "cell_type": "code",
   "execution_count": 3,
   "id": "3a52d720",
   "metadata": {},
   "outputs": [
    {
     "name": "stdout",
     "output_type": "stream",
     "text": [
      "            Temperature\n",
      "Date                   \n",
      "2010-01-01    27.483571\n",
      "2010-01-02    24.308678\n",
      "2010-01-03    28.238443\n",
      "2010-01-04    32.615149\n",
      "2010-01-05    23.829233\n"
     ]
    }
   ],
   "source": [
    "df = pd.read_csv('data (1).csv', parse_dates=['Date'], index_col='Date')\n",
    "print(df.head())"
   ]
  },
  {
   "cell_type": "markdown",
   "id": "e3f7c615",
   "metadata": {},
   "source": [
    "#### 3. Preprocessing the Data"
   ]
  },
  {
   "cell_type": "code",
   "execution_count": 4,
   "id": "e73821da",
   "metadata": {},
   "outputs": [],
   "source": [
    "scaler = MinMaxScaler(feature_range=(0, 1))\n",
    "scaled_data = scaler.fit_transform(df.values)"
   ]
  },
  {
   "cell_type": "markdown",
   "id": "2639ec54",
   "metadata": {},
   "source": [
    "#### 4. Preparing Data for GRU\n",
    "We will define a function to prepare our data for training our model.\n",
    "\n",
    "- **create_dataset()**: Prepares the dataset for time-series forecasting. It creates sliding windows of time_step length to predict the next time step.\n",
    "- **X.reshape()**: Reshapes the input data to fit the expected shape for the GRU which is 3D: [samples, time steps, features]."
   ]
  },
  {
   "cell_type": "code",
   "execution_count": 5,
   "id": "5cb4ebbb",
   "metadata": {},
   "outputs": [],
   "source": [
    "def create_dataset(data, time_step=1):\n",
    "    X, y = [], []\n",
    "    for i in range(len(data) - time_step - 1):\n",
    "        X.append(data[i:(i + time_step), 0]) \n",
    "        y.append(data[i + time_step, 0]) \n",
    "    return np.array(X), np.array(y)\n",
    "\n",
    "time_step = 100 \n",
    "X, y = create_dataset(scaled_data, time_step)\n",
    "X = X.reshape(X.shape[0], X.shape[1], 1)"
   ]
  },
  {
   "cell_type": "markdown",
   "id": "97ed66ef",
   "metadata": {},
   "source": [
    "#### 5. Building the GRU Model\n",
    "We will define our GRU model with the following components:\n",
    "\n",
    "- **GRU(units=50):** Adds a GRU layer with 50 units (neurons).\n",
    "- **return_sequences=True:** Ensures that the GRU layer returns the entire sequence (required for stacking multiple GRU layers).\n",
    "- **Dense(units=1):** The output layer which predicts a single value for the next time step.\n",
    "- **Adam():** An adaptive optimizer commonly used in deep learning."
   ]
  },
  {
   "cell_type": "code",
   "execution_count": 6,
   "id": "e66a6eda",
   "metadata": {},
   "outputs": [
    {
     "name": "stderr",
     "output_type": "stream",
     "text": [
      "c:\\Users\\user\\Desktop\\data-science-class\\07-Deep_Learning\\env\\Lib\\site-packages\\keras\\src\\layers\\rnn\\rnn.py:199: UserWarning: Do not pass an `input_shape`/`input_dim` argument to a layer. When using Sequential models, prefer using an `Input(shape)` object as the first layer in the model instead.\n",
      "  super().__init__(**kwargs)\n"
     ]
    }
   ],
   "source": [
    "model = Sequential()\n",
    "model.add(GRU(units=50, return_sequences=True, input_shape=(X.shape[1], 1)))\n",
    "model.add(GRU(units=50))\n",
    "model.add(Dense(units=1)) \n",
    "model.compile(optimizer=Adam(learning_rate=0.001), loss='mean_squared_error')"
   ]
  },
  {
   "cell_type": "code",
   "execution_count": 7,
   "id": "a45a6ff3",
   "metadata": {},
   "outputs": [
    {
     "data": {
      "text/html": [
       "<pre style=\"white-space:pre;overflow-x:auto;line-height:normal;font-family:Menlo,'DejaVu Sans Mono',consolas,'Courier New',monospace\"><span style=\"font-weight: bold\">Model: \"sequential\"</span>\n",
       "</pre>\n"
      ],
      "text/plain": [
       "\u001b[1mModel: \"sequential\"\u001b[0m\n"
      ]
     },
     "metadata": {},
     "output_type": "display_data"
    },
    {
     "data": {
      "text/html": [
       "<pre style=\"white-space:pre;overflow-x:auto;line-height:normal;font-family:Menlo,'DejaVu Sans Mono',consolas,'Courier New',monospace\">┏━━━━━━━━━━━━━━━━━━━━━━━━━━━━━━━━━┳━━━━━━━━━━━━━━━━━━━━━━━━┳━━━━━━━━━━━━━━━┓\n",
       "┃<span style=\"font-weight: bold\"> Layer (type)                    </span>┃<span style=\"font-weight: bold\"> Output Shape           </span>┃<span style=\"font-weight: bold\">       Param # </span>┃\n",
       "┡━━━━━━━━━━━━━━━━━━━━━━━━━━━━━━━━━╇━━━━━━━━━━━━━━━━━━━━━━━━╇━━━━━━━━━━━━━━━┩\n",
       "│ gru (<span style=\"color: #0087ff; text-decoration-color: #0087ff\">GRU</span>)                       │ (<span style=\"color: #00d7ff; text-decoration-color: #00d7ff\">None</span>, <span style=\"color: #00af00; text-decoration-color: #00af00\">100</span>, <span style=\"color: #00af00; text-decoration-color: #00af00\">50</span>)        │         <span style=\"color: #00af00; text-decoration-color: #00af00\">7,950</span> │\n",
       "├─────────────────────────────────┼────────────────────────┼───────────────┤\n",
       "│ gru_1 (<span style=\"color: #0087ff; text-decoration-color: #0087ff\">GRU</span>)                     │ (<span style=\"color: #00d7ff; text-decoration-color: #00d7ff\">None</span>, <span style=\"color: #00af00; text-decoration-color: #00af00\">50</span>)             │        <span style=\"color: #00af00; text-decoration-color: #00af00\">15,300</span> │\n",
       "├─────────────────────────────────┼────────────────────────┼───────────────┤\n",
       "│ dense (<span style=\"color: #0087ff; text-decoration-color: #0087ff\">Dense</span>)                   │ (<span style=\"color: #00d7ff; text-decoration-color: #00d7ff\">None</span>, <span style=\"color: #00af00; text-decoration-color: #00af00\">1</span>)              │            <span style=\"color: #00af00; text-decoration-color: #00af00\">51</span> │\n",
       "└─────────────────────────────────┴────────────────────────┴───────────────┘\n",
       "</pre>\n"
      ],
      "text/plain": [
       "┏━━━━━━━━━━━━━━━━━━━━━━━━━━━━━━━━━┳━━━━━━━━━━━━━━━━━━━━━━━━┳━━━━━━━━━━━━━━━┓\n",
       "┃\u001b[1m \u001b[0m\u001b[1mLayer (type)                   \u001b[0m\u001b[1m \u001b[0m┃\u001b[1m \u001b[0m\u001b[1mOutput Shape          \u001b[0m\u001b[1m \u001b[0m┃\u001b[1m \u001b[0m\u001b[1m      Param #\u001b[0m\u001b[1m \u001b[0m┃\n",
       "┡━━━━━━━━━━━━━━━━━━━━━━━━━━━━━━━━━╇━━━━━━━━━━━━━━━━━━━━━━━━╇━━━━━━━━━━━━━━━┩\n",
       "│ gru (\u001b[38;5;33mGRU\u001b[0m)                       │ (\u001b[38;5;45mNone\u001b[0m, \u001b[38;5;34m100\u001b[0m, \u001b[38;5;34m50\u001b[0m)        │         \u001b[38;5;34m7,950\u001b[0m │\n",
       "├─────────────────────────────────┼────────────────────────┼───────────────┤\n",
       "│ gru_1 (\u001b[38;5;33mGRU\u001b[0m)                     │ (\u001b[38;5;45mNone\u001b[0m, \u001b[38;5;34m50\u001b[0m)             │        \u001b[38;5;34m15,300\u001b[0m │\n",
       "├─────────────────────────────────┼────────────────────────┼───────────────┤\n",
       "│ dense (\u001b[38;5;33mDense\u001b[0m)                   │ (\u001b[38;5;45mNone\u001b[0m, \u001b[38;5;34m1\u001b[0m)              │            \u001b[38;5;34m51\u001b[0m │\n",
       "└─────────────────────────────────┴────────────────────────┴───────────────┘\n"
      ]
     },
     "metadata": {},
     "output_type": "display_data"
    },
    {
     "data": {
      "text/html": [
       "<pre style=\"white-space:pre;overflow-x:auto;line-height:normal;font-family:Menlo,'DejaVu Sans Mono',consolas,'Courier New',monospace\"><span style=\"font-weight: bold\"> Total params: </span><span style=\"color: #00af00; text-decoration-color: #00af00\">23,301</span> (91.02 KB)\n",
       "</pre>\n"
      ],
      "text/plain": [
       "\u001b[1m Total params: \u001b[0m\u001b[38;5;34m23,301\u001b[0m (91.02 KB)\n"
      ]
     },
     "metadata": {},
     "output_type": "display_data"
    },
    {
     "data": {
      "text/html": [
       "<pre style=\"white-space:pre;overflow-x:auto;line-height:normal;font-family:Menlo,'DejaVu Sans Mono',consolas,'Courier New',monospace\"><span style=\"font-weight: bold\"> Trainable params: </span><span style=\"color: #00af00; text-decoration-color: #00af00\">23,301</span> (91.02 KB)\n",
       "</pre>\n"
      ],
      "text/plain": [
       "\u001b[1m Trainable params: \u001b[0m\u001b[38;5;34m23,301\u001b[0m (91.02 KB)\n"
      ]
     },
     "metadata": {},
     "output_type": "display_data"
    },
    {
     "data": {
      "text/html": [
       "<pre style=\"white-space:pre;overflow-x:auto;line-height:normal;font-family:Menlo,'DejaVu Sans Mono',consolas,'Courier New',monospace\"><span style=\"font-weight: bold\"> Non-trainable params: </span><span style=\"color: #00af00; text-decoration-color: #00af00\">0</span> (0.00 B)\n",
       "</pre>\n"
      ],
      "text/plain": [
       "\u001b[1m Non-trainable params: \u001b[0m\u001b[38;5;34m0\u001b[0m (0.00 B)\n"
      ]
     },
     "metadata": {},
     "output_type": "display_data"
    }
   ],
   "source": [
    "model.summary()"
   ]
  },
  {
   "cell_type": "markdown",
   "id": "0cc0e8c9",
   "metadata": {},
   "source": [
    "#### 6. Training the Model\n",
    "- **model.fit()** trains the model on the prepared dataset.\n",
    "- The **epochs=10** specifies the number of iterations over the entire dataset, and \n",
    "- **batch_size=32** defines the number of samples per batch."
   ]
  },
  {
   "cell_type": "code",
   "execution_count": 8,
   "id": "241823a0",
   "metadata": {},
   "outputs": [
    {
     "name": "stdout",
     "output_type": "stream",
     "text": [
      "Epoch 1/10\n",
      "\u001b[1m247/247\u001b[0m \u001b[32m━━━━━━━━━━━━━━━━━━━━\u001b[0m\u001b[37m\u001b[0m \u001b[1m37s\u001b[0m 105ms/step - loss: 0.0218\n",
      "Epoch 2/10\n",
      "\u001b[1m247/247\u001b[0m \u001b[32m━━━━━━━━━━━━━━━━━━━━\u001b[0m\u001b[37m\u001b[0m \u001b[1m42s\u001b[0m 108ms/step - loss: 0.0181\n",
      "Epoch 3/10\n",
      "\u001b[1m247/247\u001b[0m \u001b[32m━━━━━━━━━━━━━━━━━━━━\u001b[0m\u001b[37m\u001b[0m \u001b[1m26s\u001b[0m 104ms/step - loss: 0.0179\n",
      "Epoch 4/10\n",
      "\u001b[1m247/247\u001b[0m \u001b[32m━━━━━━━━━━━━━━━━━━━━\u001b[0m\u001b[37m\u001b[0m \u001b[1m36s\u001b[0m 84ms/step - loss: 0.0179\n",
      "Epoch 5/10\n",
      "\u001b[1m247/247\u001b[0m \u001b[32m━━━━━━━━━━━━━━━━━━━━\u001b[0m\u001b[37m\u001b[0m \u001b[1m45s\u001b[0m 101ms/step - loss: 0.0177\n",
      "Epoch 6/10\n",
      "\u001b[1m247/247\u001b[0m \u001b[32m━━━━━━━━━━━━━━━━━━━━\u001b[0m\u001b[37m\u001b[0m \u001b[1m23s\u001b[0m 95ms/step - loss: 0.0177\n",
      "Epoch 7/10\n",
      "\u001b[1m247/247\u001b[0m \u001b[32m━━━━━━━━━━━━━━━━━━━━\u001b[0m\u001b[37m\u001b[0m \u001b[1m25s\u001b[0m 101ms/step - loss: 0.0177\n",
      "Epoch 8/10\n",
      "\u001b[1m247/247\u001b[0m \u001b[32m━━━━━━━━━━━━━━━━━━━━\u001b[0m\u001b[37m\u001b[0m \u001b[1m20s\u001b[0m 81ms/step - loss: 0.0178\n",
      "Epoch 9/10\n",
      "\u001b[1m247/247\u001b[0m \u001b[32m━━━━━━━━━━━━━━━━━━━━\u001b[0m\u001b[37m\u001b[0m \u001b[1m21s\u001b[0m 86ms/step - loss: 0.0178\n",
      "Epoch 10/10\n",
      "\u001b[1m247/247\u001b[0m \u001b[32m━━━━━━━━━━━━━━━━━━━━\u001b[0m\u001b[37m\u001b[0m \u001b[1m52s\u001b[0m 132ms/step - loss: 0.0178\n"
     ]
    },
    {
     "data": {
      "text/plain": [
       "<keras.src.callbacks.history.History at 0x1d4e31486e0>"
      ]
     },
     "execution_count": 8,
     "metadata": {},
     "output_type": "execute_result"
    }
   ],
   "source": [
    "model.fit(X, y, epochs=10, batch_size=32)"
   ]
  },
  {
   "cell_type": "markdown",
   "id": "c7cba498",
   "metadata": {},
   "source": [
    "#### 7. Making Predictions\n",
    "We will be now making predictions using our trained GRU model.\n",
    "\n",
    "- **Input Sequence:** The code takes the last 100 temperature values from the dataset `(scaled_data[-time_step:])`as an input sequence.\n",
    "- **Reshaping the Input Sequence:** The input sequence is reshaped into the `shape (1, time_step, 1)` because the GRU model expects a 3D input: [samples, time_steps, features]. Here `samples=1` because we are making one prediction, `time_steps=100` (the length of the input sequence) and `features=1` because we are predicting only the temperature value.\n",
    "- **model.predict():** Uses the trained model to predict future values based on the input data."
   ]
  },
  {
   "cell_type": "code",
   "execution_count": 9,
   "id": "fb0fcb03",
   "metadata": {},
   "outputs": [
    {
     "name": "stdout",
     "output_type": "stream",
     "text": [
      "\u001b[1m1/1\u001b[0m \u001b[32m━━━━━━━━━━━━━━━━━━━━\u001b[0m\u001b[37m\u001b[0m \u001b[1m1s\u001b[0m 1s/step   \n"
     ]
    }
   ],
   "source": [
    "input_sequence = scaled_data[-time_step:].reshape(1, time_step, 1)\n",
    "predicted_values = model.predict(input_sequence)"
   ]
  },
  {
   "cell_type": "markdown",
   "id": "aec6f902",
   "metadata": {},
   "source": [
    "#### 8. Inverse Transforming the Predictions\n",
    "Inverse Transforming the Predictions refers to the process of converting the scaled (normalized) predictions back to their original scale.\n",
    "\n",
    "- **scaler.inverse_transform():** Converts the normalized predictions back to their original scale."
   ]
  },
  {
   "cell_type": "code",
   "execution_count": 10,
   "id": "0211630d",
   "metadata": {},
   "outputs": [
    {
     "name": "stdout",
     "output_type": "stream",
     "text": [
      "The predicted temperature for the next day is: 25.26°C\n"
     ]
    }
   ],
   "source": [
    "predicted_values = scaler.inverse_transform(predicted_values)\n",
    "print(f\"The predicted temperature for the next day is: {predicted_values[0][0]:.2f}°C\")"
   ]
  }
 ],
 "metadata": {
  "kernelspec": {
   "display_name": "env",
   "language": "python",
   "name": "python3"
  },
  "language_info": {
   "codemirror_mode": {
    "name": "ipython",
    "version": 3
   },
   "file_extension": ".py",
   "mimetype": "text/x-python",
   "name": "python",
   "nbconvert_exporter": "python",
   "pygments_lexer": "ipython3",
   "version": "3.13.3"
  }
 },
 "nbformat": 4,
 "nbformat_minor": 5
}
