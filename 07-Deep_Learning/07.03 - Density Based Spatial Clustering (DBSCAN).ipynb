{
 "cells": [
  {
   "cell_type": "markdown",
   "id": "54cd6fff",
   "metadata": {},
   "source": [
    "## DBSCAN (Density-Based Spatial Clustering of Applications with Noise)\n",
    "\n",
    "`DBSCAN` is a clustering algorithm used to group data points that are close together `(dense regions)` while marking points in low-density areas as noise `(outliers)`.\n",
    "\n",
    "DBSCAN groups points that are `densely packed together` and separates them from areas of low density.\n",
    "It does not require you to specify the number of clusters in advance (unlike K-Means).\n",
    "\n",
    "### Important Parameters\n",
    "\n",
    "DBSCAN needs two main parameters:\n",
    "\n",
    "#### 1. ε (Epsilon)\n",
    "- The maximum distance between two points for them to be considered neighbors.\n",
    "- Think of it as the radius of a circle drawn around a point.\n",
    "\n",
    "#### 2. minPts (Minimum Points)\n",
    "- The minimum number of points required inside the ε-neighborhood to form a cluster.\n",
    "- Typically:\n",
    "    - 4 for 2D data\n",
    "    - Higher for higher dimensions\n",
    "\n",
    "### Key Concepts\n",
    "\n",
    "DBSCAN classifies points into three categories:\n",
    "\n",
    "| Type of Point             | Meaning                                                                      |\n",
    "| ------------------------- | ---------------------------------------------------------------------------- |\n",
    "| **Core Point**            | Has at least `minPts` points within distance `ε` (forms the cluster center). |\n",
    "| **Border Point**          | Lies within `ε` of a core point but has fewer than `minPts` neighbors.       |\n",
    "| **Noise Point (Outlier)** | Neither a core point nor a border point.                                     |\n",
    "\n",
    "### How DBSCAN Works\n",
    "\n",
    "1. Pick a random point.\n",
    "2. Check how many points are within distance `ε`.\n",
    "- If ≥ minPts → mark it as a Core Point and create a cluster.\n",
    "- If < minPts → mark it as Noise (for now).\n",
    "3. Expand the cluster by checking neighbors of neighbors (density reachability).\n",
    "4. Repeat until all points are visited."
   ]
  },
  {
   "cell_type": "markdown",
   "id": "d6390bda",
   "metadata": {},
   "source": []
  }
 ],
 "metadata": {
  "language_info": {
   "name": "python"
  }
 },
 "nbformat": 4,
 "nbformat_minor": 5
}
