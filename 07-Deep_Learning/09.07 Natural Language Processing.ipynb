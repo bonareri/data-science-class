{
 "cells": [
  {
   "cell_type": "markdown",
   "id": "271c8358",
   "metadata": {},
   "source": [
    "## Natural Language Processing (NLP)\n",
    "\n",
    "**Natural Language Processing (NLP)** is a subfield of Artificial Intelligence that leverages machine learning to enable computers to understand, interpret, and generate human language.\n",
    "\n",
    "Machine learning models are trained on large datasets of text and speech to identify patterns and relationships in language, allowing AI systems to perform tasks like `chatbots`, `translation`, `sentiment analysis`, and `text summarization`, making human-computer interaction more natural and intuitive.\n",
    "\n",
    "### How does NLP use Machine Learning?\n",
    "\n",
    "- **Data-Driven Learning:** NLP relies on machine learning models that learn from vast amounts of textual data to recognize patterns, understand context, and make predictions about language. \n",
    "- **Training Models:** Models are trained to convert unstructured human language into structured formats that computers can process, a process known as Natural Language Understanding (NLU). \n"
   ]
  },
  {
   "cell_type": "markdown",
   "id": "9ce596b0",
   "metadata": {},
   "source": [
    "## Key Tasks in NLP \n",
    "### Text Preprocessing\n",
    "\n",
    "`Text preprocessing` is the first and most critical step in any NLP workflow.\n",
    "It involves cleaning and transforming raw text into a format that machine learning models can understand.\n",
    "\n",
    "#### 1. Tokenization\n",
    "The process of breaking down text into smaller units called `tokens` (words, sentences, or subwords) so that the text can be analyzed more easily.\n",
    "\n",
    "#### Types of Tokenization\n",
    "**Word Tokenization:** Splitting text into individual words.\n",
    "- Example: \"I love NLP!\" - `[\"I\", \"love\", \"NLP\", \"!\"]`\n",
    "\n",
    "**Sentence Tokenization:** Splitting text into full sentences.\n",
    "- Example: \"I love NLP. It's amazing!\" - `[\"I love NLP.\", \"It's amazing!\"]`\n",
    "\n",
    "**Subword Tokenization:** Breaking words into smaller meaningful chunks.\n",
    "- Useful for rare words or morphologically rich languages.\n",
    "- Example: \"unhappiness\" - `[\"un\", \"happiness\"]`\n",
    "\n",
    "`Models can’t directly process raw text—they work with numerical representations of tokens.`\n",
    "\n",
    "#### 2. Stopword Removal\n",
    "Removing `stopwords`, common words that carry little meaning in analysis but occur frequently.\n",
    "\n",
    "Examples of Stopwords:\n",
    "\n",
    "`the, is, am, are, in, on, a, an, of, to, for, and, or`\n",
    "\n",
    "Example: \n",
    "\n",
    "- `Original`: \"The cat is on the mat.\"\n",
    "- After Stopword Removal: `cat mat`\n",
    "\n",
    "#### Key Considerations:\n",
    "- **Not Always Necessary:** In tasks like machine translation or text generation, stopwords might contain important context (e.g., “not” changes sentiment).\n",
    "- Custom stopword lists can be created depending on the problem.\n",
    "\n",
    "#### 3.Stemming vs. Lemmatization\n",
    "Both techniques reduce words to their base/root form to treat similar words as the same.\n",
    "\n",
    "#### Stemming\n",
    "- A rule-based process that chops off word endings without considering grammar or meaning.\n",
    "- Example: `\"running\", \"runs\", \"runner\" - \"run\"`\n",
    "- Fast but can produce non-real words:\n",
    "- Example: `\"better\" → \"bet\"`\n",
    "\n",
    "#### Lemmatization\n",
    "- Uses vocabulary and morphological analysis to return a valid base form (lemma).\n",
    "- Example: \n",
    "    - `\"running\" → \"run\"`\n",
    "    - `\"better\" → \"good\"`\n",
    "- Requires **Part-of-Speech (POS)** tagging to work accurately.\n",
    "- Tools: WordNet Lemmatizer `(NLTK)`, `spaCy`.\n",
    "\n",
    "#### 4. Normalization\n",
    "Standardizing text to reduce noise and make it consistent.\n",
    "\n",
    "#### Common Normalization Steps:\n",
    "- **Lowercasing:**\n",
    "Converts all text to lowercase to avoid treating words like NLP and nlp as different.\n",
    "- **Removing Punctuation & Special Characters:**\n",
    "- **Handling Contractions:** Expanding shortened words for consistency. e.g `\"don’t\" - \"do not\"`\n",
    "- **Whitespace Handling:** Trimming extra spaces or newlines.\n",
    "\n",
    "### Tools for Text Preprocessing\n",
    "\n",
    "- **NLTK:** Tokenization, stopword removal, stemming, lemmatization.\n",
    "- **spaCy:** Fast tokenization, lemmatization, POS tagging.\n",
    "- **TextBlob:** Simple preprocessing with spelling correction.\n",
    "- **Regular Expressions (Regex):** Custom cleaning of text patterns\n",
    "\n",
    "\n",
    "\n",
    "\n"
   ]
  },
  {
   "attachments": {
    "image-2.png": {
     "image/png": "[encoded data removed]"
    },
    "image-3.png": {
     "image/png": "[encoded data removed]"
    },
    "image.png": {
     "image/png": "[encoded data removed]"
    }
   },
   "cell_type": "markdown",
   "id": "46ffe13c",
   "metadata": {},
   "source": [
    "## Text Representation\n",
    "\n",
    "Once text is preprocessed, it needs to be `numerically` represented because machine learning models cannot work directly with raw text.\n",
    "\n",
    "Text representation transforms text into vectors (arrays of numbers) that capture `meaning`, `relationships` and `context`.\n",
    "\n",
    "### 1. Bag of Words (BoW)\n",
    "Represents text as a `bag (set)` of words where each unique word is a feature, and the value is its frequency count in the document.\n",
    "\n",
    "#### How It Works:\n",
    "- Create a vocabulary of all unique words in the dataset.\n",
    "- Count how many times each word appears in a document.\n",
    "- Example:\n",
    "\n",
    "| Sentence        | Vocabulary: [dog, cat, run, fast] |\n",
    "| --------------- | --------------------------------- |\n",
    "| \"dog runs fast\" | [1, 0, 0, 1]                      |\n",
    "| \"cat runs\"      | [0, 1, 0, 0]                      |\n",
    "\n",
    "#### Advantages:\n",
    "- Simple and easy to implement\n",
    "- Works well for basic tasks like spam detection or topic classification\n",
    "\n",
    "#### Disadvantages:\n",
    "- Ignores word order (\"dog bites man\" vs \"man bites dog\" are treated the same)\n",
    "- Leads to high-dimensional sparse vectors (many zeros)\n",
    "- Doesn’t capture meaning or context\n",
    "\n",
    "### 2. TF-IDF (Term Frequency – Inverse Document Frequency)\n",
    "An improvement over `BoW` that weights words based on importance in a document relative to the whole dataset.\n",
    "\n",
    "![image.png](attachment:image.png)\n",
    "\n",
    "- **Term Frequency (TF):** How often a word appears in a document.\n",
    "    - Example: If `NLP` appears 3 times in a document of 100 words:\n",
    "\n",
    "    ![image-2.png](attachment:image-2.png)\n",
    "\n",
    "- **Inverse Document Frequency (IDF):** How unique a word is across all documents.\n",
    "    - Rare words get higher scores, common words get lower scores.\n",
    "    - Formula:\n",
    "\n",
    "    ![image-3.png](attachment:image-3.png)\n",
    "\n",
    "Example:\n",
    "\n",
    "Suppose “machine” appears:\n",
    "- 10 times in Document A (100 words)\n",
    "- In 2 out of 50 documents in the dataset\n",
    "\n",
    "The TF-IDF score will be high because:\n",
    "- It’s frequent in Document A\n",
    "- It’s rare across the dataset\n",
    "\n",
    "#### Advantages:\n",
    "- Reduces the weight of common words (like the, is, and)\n",
    "- Better than `BoW` for tasks like information retrieval and keyword extraction\n",
    "\n",
    "#### Disadvantages:\n",
    "- Still produces sparse, high-dimensional vectors\n",
    "- Ignores word order and deep semantic meaning"
   ]
  },
  {
   "attachments": {
    "image.png": {
     "image/png": "[encoded data removed]"
    }
   },
   "cell_type": "markdown",
   "id": "c7525478",
   "metadata": {},
   "source": [
    "### 3. Word Embeddings\n",
    "\n",
    "Dense vector representations where words with `similar meanings` are close together in a multi-dimensional space.\n",
    "\n",
    "Unlike `BoW` or `TF-IDF`, embeddings capture `semantic relationships.`\n",
    "\n",
    "#### Key Characteristics:\n",
    "- Represent words as continuous `low-dimensional` vectors (e.g., 50–300 dimensions)\n",
    "- Learned from large text corpora\n",
    "- Capture context using co-occurrence patterns\n",
    "\n",
    "### Popular Models:\n",
    "- **Word2Vec (Google)**:\n",
    "    - Uses Skip-gram or CBOW (Continuous Bag of Words) to learn word relationships.\n",
    "- Famous example:\n",
    "\n",
    "![image.png](attachment:image.png)\n",
    "\n",
    "- **GloVe (Stanford):**\n",
    "    - Learns from global word co-occurrence statistics.\n",
    "- **FastText (Facebook):**\n",
    "    - Considers subword information, helping handle misspellings and rare words.\n",
    "\n",
    "#### Advantages:\n",
    "- Captures meaning and relationships\n",
    "- Dense and low-dimensional (efficient)\n",
    "- Works well for downstream NLP tasks (classification, sentiment analysis)\n",
    "\n",
    "#### Disadvantages:\n",
    "\n",
    "- Static – each word has one fixed vector, regardless of context\n",
    "\n",
    "(bank in “river bank” vs “money bank” → same vector)\n"
   ]
  },
  {
   "cell_type": "markdown",
   "id": "c8dda4f5",
   "metadata": {},
   "source": [
    "### 4 Contextual Embeddings\n",
    "\n",
    "Dynamic word representations where the `same word` can have `different vectors` depending on the context in a sentence.\n",
    "\n",
    "These embeddings are generated by `deep language models.`\n",
    "\n",
    "### Key Models\n",
    "\n",
    "#### BERT (Bidirectional Encoder Representations from Transformers)\n",
    "- Uses the Transformer architecture to consider context from both left and right of a word.  \n",
    "- Example:  \n",
    "  - \"bank\" in “river bank” → vector represents *river edge*  \n",
    "  - \"bank\" in “money bank” → vector represents *financial institution*  \n",
    "\n",
    "#### GPT (Generative Pre-trained Transformer)\n",
    "- Focuses on predicting next words for tasks like text generation.\n",
    "\n",
    "#### ELMo\n",
    "- Produces contextualized embeddings using bidirectional LSTMs.\n",
    "\n",
    "### Advantages\n",
    "- Captures deep contextual meaning  \n",
    "- Achieves state-of-the-art performance on tasks like:\n",
    "  - Question Answering (e.g., SQuAD)\n",
    "  - Sentiment Analysis\n",
    "  - Named Entity Recognition\n",
    "- Handles polysemy (words with multiple meanings)\n",
    "\n",
    "### Disadvantages\n",
    "- Requires large computational resources  \n",
    "- Complex to train from scratch (usually use pre-trained models)\n",
    "\n"
   ]
  },
  {
   "cell_type": "markdown",
   "id": "f2ab30de",
   "metadata": {},
   "source": [
    "### NLP Implementation"
   ]
  },
  {
   "cell_type": "code",
   "execution_count": 1,
   "id": "66de5cdb",
   "metadata": {},
   "outputs": [],
   "source": [
    "import numpy as np\n",
    "import re\n",
    "import string\n",
    "import matplotlib.pyplot as plt\n",
    "from sklearn.model_selection import train_test_split\n",
    "from sklearn.metrics import classification_report, confusion_matrix\n",
    "import tensorflow as tf\n",
    "from tensorflow.keras.preprocessing.text import Tokenizer\n",
    "from tensorflow.keras.preprocessing.sequence import pad_sequences\n",
    "from tensorflow.keras.models import Sequential\n",
    "from tensorflow.keras.layers import Embedding, LSTM, Dense, Dropout, Bidirectional\n",
    "from tensorflow.keras.callbacks import EarlyStopping, ModelCheckpoint"
   ]
  },
  {
   "cell_type": "code",
   "execution_count": 2,
   "id": "2e5e925c",
   "metadata": {},
   "outputs": [],
   "source": [
    "texts = [\n",
    "    \"I love this product. Fantastic value and fast delivery!\",\n",
    "    \"Terrible experience — item arrived broken and late.\",\n",
    "    \"Very satisfied: quick shipping, excellent quality.\",\n",
    "    \"Not worth the price. I want a refund.\",\n",
    "    \"Amazing! Works as advertised, highly recommend.\",\n",
    "    \"Product defective, customer service didn't help.\",\n",
    "    \"The item is okay, but the packaging was bad.\",\n",
    "    \"Superb quality and great customer support!\",\n",
    "    \"I will never buy from this seller again.\",\n",
    "    \"Exceeded my expectations — I'm very happy.\"\n",
    "]"
   ]
  },
  {
   "cell_type": "code",
   "execution_count": 3,
   "id": "7ca18002",
   "metadata": {},
   "outputs": [],
   "source": [
    "labels = [1,0,1,0,1,0,0,1,0,1]  # 1 = positive, 0 = negative"
   ]
  },
  {
   "cell_type": "code",
   "execution_count": 4,
   "id": "66c078a9",
   "metadata": {},
   "outputs": [],
   "source": [
    "# Simple preprocessing\n",
    "def preprocess_text(s):\n",
    "    s = s.lower()\n",
    "    s = re.sub(r'http\\S+|www\\.\\S+', ' ', s)            # remove urls\n",
    "    s = re.sub(r'\\S+@\\S+', ' ', s)                    # remove emails\n",
    "    s = s.replace(\"’\", \"'\")                           # normalize apostrophe\n",
    "    # Expand a few contractions (add as needed)\n",
    "    s = s.replace(\"don't\", \"do not\").replace(\"i'm\", \"i am\").replace(\"it's\", \"it is\")\n",
    "    # Remove punctuation and digits\n",
    "    s = re.sub(f\"[{re.escape(string.punctuation)}0-9]\", \" \", s)\n",
    "    s = re.sub(r'\\s+', ' ', s).strip()\n",
    "    return s\n",
    "\n",
    "texts = [preprocess_text(t) for t in texts]"
   ]
  },
  {
   "cell_type": "code",
   "execution_count": 5,
   "id": "cb08b39c",
   "metadata": {},
   "outputs": [],
   "source": [
    "# Tokenize & pad sequences\n",
    "vocab_size = 5000    # max number of words to keep\n",
    "max_len = 40         # max tokens per sequence (pad/truncate to this)\n",
    "\n",
    "tokenizer = Tokenizer(num_words=vocab_size, oov_token=\"<OOV>\")\n",
    "tokenizer.fit_on_texts(texts)\n",
    "sequences = tokenizer.texts_to_sequences(texts)\n",
    "padded = pad_sequences(sequences, maxlen=max_len, padding='post', truncating='post')"
   ]
  },
  {
   "cell_type": "code",
   "execution_count": 6,
   "id": "622a9a42",
   "metadata": {},
   "outputs": [],
   "source": [
    "# Train / test split\n",
    "X_train, X_test, y_train, y_test = train_test_split(padded, np.array(labels),\n",
    "                                                    test_size=0.2, random_state=42, stratify=labels)"
   ]
  },
  {
   "cell_type": "code",
   "execution_count": 9,
   "id": "77449a73",
   "metadata": {},
   "outputs": [
    {
     "data": {
      "text/html": [
       "<pre style=\"white-space:pre;overflow-x:auto;line-height:normal;font-family:Menlo,'DejaVu Sans Mono',consolas,'Courier New',monospace\"><span style=\"font-weight: bold\">Model: \"sequential_2\"</span>\n",
       "</pre>\n"
      ],
      "text/plain": [
       "\u001b[1mModel: \"sequential_2\"\u001b[0m\n"
      ]
     },
     "metadata": {},
     "output_type": "display_data"
    },
    {
     "data": {
      "text/html": [
       "<pre style=\"white-space:pre;overflow-x:auto;line-height:normal;font-family:Menlo,'DejaVu Sans Mono',consolas,'Courier New',monospace\">┏━━━━━━━━━━━━━━━━━━━━━━━━━━━━━━━━━┳━━━━━━━━━━━━━━━━━━━━━━━━┳━━━━━━━━━━━━━━━┓\n",
       "┃<span style=\"font-weight: bold\"> Layer (type)                    </span>┃<span style=\"font-weight: bold\"> Output Shape           </span>┃<span style=\"font-weight: bold\">       Param # </span>┃\n",
       "┡━━━━━━━━━━━━━━━━━━━━━━━━━━━━━━━━━╇━━━━━━━━━━━━━━━━━━━━━━━━╇━━━━━━━━━━━━━━━┩\n",
       "│ embedding_2 (<span style=\"color: #0087ff; text-decoration-color: #0087ff\">Embedding</span>)         │ ?                      │   <span style=\"color: #00af00; text-decoration-color: #00af00\">0</span> (unbuilt) │\n",
       "├─────────────────────────────────┼────────────────────────┼───────────────┤\n",
       "│ bidirectional_2 (<span style=\"color: #0087ff; text-decoration-color: #0087ff\">Bidirectional</span>) │ ?                      │   <span style=\"color: #00af00; text-decoration-color: #00af00\">0</span> (unbuilt) │\n",
       "├─────────────────────────────────┼────────────────────────┼───────────────┤\n",
       "│ dropout_4 (<span style=\"color: #0087ff; text-decoration-color: #0087ff\">Dropout</span>)             │ ?                      │             <span style=\"color: #00af00; text-decoration-color: #00af00\">0</span> │\n",
       "├─────────────────────────────────┼────────────────────────┼───────────────┤\n",
       "│ dense_4 (<span style=\"color: #0087ff; text-decoration-color: #0087ff\">Dense</span>)                 │ ?                      │   <span style=\"color: #00af00; text-decoration-color: #00af00\">0</span> (unbuilt) │\n",
       "├─────────────────────────────────┼────────────────────────┼───────────────┤\n",
       "│ dropout_5 (<span style=\"color: #0087ff; text-decoration-color: #0087ff\">Dropout</span>)             │ ?                      │             <span style=\"color: #00af00; text-decoration-color: #00af00\">0</span> │\n",
       "├─────────────────────────────────┼────────────────────────┼───────────────┤\n",
       "│ dense_5 (<span style=\"color: #0087ff; text-decoration-color: #0087ff\">Dense</span>)                 │ ?                      │   <span style=\"color: #00af00; text-decoration-color: #00af00\">0</span> (unbuilt) │\n",
       "└─────────────────────────────────┴────────────────────────┴───────────────┘\n",
       "</pre>\n"
      ],
      "text/plain": [
       "┏━━━━━━━━━━━━━━━━━━━━━━━━━━━━━━━━━┳━━━━━━━━━━━━━━━━━━━━━━━━┳━━━━━━━━━━━━━━━┓\n",
       "┃\u001b[1m \u001b[0m\u001b[1mLayer (type)                   \u001b[0m\u001b[1m \u001b[0m┃\u001b[1m \u001b[0m\u001b[1mOutput Shape          \u001b[0m\u001b[1m \u001b[0m┃\u001b[1m \u001b[0m\u001b[1m      Param #\u001b[0m\u001b[1m \u001b[0m┃\n",
       "┡━━━━━━━━━━━━━━━━━━━━━━━━━━━━━━━━━╇━━━━━━━━━━━━━━━━━━━━━━━━╇━━━━━━━━━━━━━━━┩\n",
       "│ embedding_2 (\u001b[38;5;33mEmbedding\u001b[0m)         │ ?                      │   \u001b[38;5;34m0\u001b[0m (unbuilt) │\n",
       "├─────────────────────────────────┼────────────────────────┼───────────────┤\n",
       "│ bidirectional_2 (\u001b[38;5;33mBidirectional\u001b[0m) │ ?                      │   \u001b[38;5;34m0\u001b[0m (unbuilt) │\n",
       "├─────────────────────────────────┼────────────────────────┼───────────────┤\n",
       "│ dropout_4 (\u001b[38;5;33mDropout\u001b[0m)             │ ?                      │             \u001b[38;5;34m0\u001b[0m │\n",
       "├─────────────────────────────────┼────────────────────────┼───────────────┤\n",
       "│ dense_4 (\u001b[38;5;33mDense\u001b[0m)                 │ ?                      │   \u001b[38;5;34m0\u001b[0m (unbuilt) │\n",
       "├─────────────────────────────────┼────────────────────────┼───────────────┤\n",
       "│ dropout_5 (\u001b[38;5;33mDropout\u001b[0m)             │ ?                      │             \u001b[38;5;34m0\u001b[0m │\n",
       "├─────────────────────────────────┼────────────────────────┼───────────────┤\n",
       "│ dense_5 (\u001b[38;5;33mDense\u001b[0m)                 │ ?                      │   \u001b[38;5;34m0\u001b[0m (unbuilt) │\n",
       "└─────────────────────────────────┴────────────────────────┴───────────────┘\n"
      ]
     },
     "metadata": {},
     "output_type": "display_data"
    },
    {
     "data": {
      "text/html": [
       "<pre style=\"white-space:pre;overflow-x:auto;line-height:normal;font-family:Menlo,'DejaVu Sans Mono',consolas,'Courier New',monospace\"><span style=\"font-weight: bold\"> Total params: </span><span style=\"color: #00af00; text-decoration-color: #00af00\">0</span> (0.00 B)\n",
       "</pre>\n"
      ],
      "text/plain": [
       "\u001b[1m Total params: \u001b[0m\u001b[38;5;34m0\u001b[0m (0.00 B)\n"
      ]
     },
     "metadata": {},
     "output_type": "display_data"
    },
    {
     "data": {
      "text/html": [
       "<pre style=\"white-space:pre;overflow-x:auto;line-height:normal;font-family:Menlo,'DejaVu Sans Mono',consolas,'Courier New',monospace\"><span style=\"font-weight: bold\"> Trainable params: </span><span style=\"color: #00af00; text-decoration-color: #00af00\">0</span> (0.00 B)\n",
       "</pre>\n"
      ],
      "text/plain": [
       "\u001b[1m Trainable params: \u001b[0m\u001b[38;5;34m0\u001b[0m (0.00 B)\n"
      ]
     },
     "metadata": {},
     "output_type": "display_data"
    },
    {
     "data": {
      "text/html": [
       "<pre style=\"white-space:pre;overflow-x:auto;line-height:normal;font-family:Menlo,'DejaVu Sans Mono',consolas,'Courier New',monospace\"><span style=\"font-weight: bold\"> Non-trainable params: </span><span style=\"color: #00af00; text-decoration-color: #00af00\">0</span> (0.00 B)\n",
       "</pre>\n"
      ],
      "text/plain": [
       "\u001b[1m Non-trainable params: \u001b[0m\u001b[38;5;34m0\u001b[0m (0.00 B)\n"
      ]
     },
     "metadata": {},
     "output_type": "display_data"
    }
   ],
   "source": [
    "# Build the LSTM model\n",
    "embedding_dim = 100\n",
    "lstm_units = 64\n",
    "dropout_rate = 0.3\n",
    "\n",
    "model = Sequential([\n",
    "    Embedding(input_dim=vocab_size, output_dim=embedding_dim, input_length=max_len),\n",
    "    Bidirectional(LSTM(lstm_units, return_sequences=False)),\n",
    "    Dropout(dropout_rate),\n",
    "    Dense(32, activation='relu'),\n",
    "    Dropout(0.2),\n",
    "    Dense(1, activation='sigmoid')   # binary classification\n",
    "])\n",
    "\n",
    "model.compile(loss='binary_crossentropy', optimizer='adam', metrics=['accuracy'])\n",
    "model.summary()"
   ]
  },
  {
   "cell_type": "code",
   "execution_count": 10,
   "id": "19a213fe",
   "metadata": {},
   "outputs": [],
   "source": [
    "es = EarlyStopping(monitor='val_loss', patience=5, restore_best_weights=True)\n",
    "ckpt = ModelCheckpoint('best_lstm_model.h5', save_best_only=True, monitor='val_loss')"
   ]
  },
  {
   "cell_type": "code",
   "execution_count": 11,
   "id": "345510d3",
   "metadata": {},
   "outputs": [
    {
     "name": "stdout",
     "output_type": "stream",
     "text": [
      "Epoch 1/50\n"
     ]
    },
    {
     "name": "stderr",
     "output_type": "stream",
     "text": [
      "WARNING:absl:You are saving your model as an HDF5 file via `model.save()` or `keras.saving.save_model(model)`. This file format is considered legacy. We recommend using instead the native Keras format, e.g. `model.save('my_model.keras')` or `keras.saving.save_model(model, 'my_model.keras')`. \n"
     ]
    },
    {
     "name": "stdout",
     "output_type": "stream",
     "text": [
      "1/1 - 11s - 11s/step - accuracy: 0.5000 - loss: 0.6918 - val_accuracy: 0.5000 - val_loss: 0.6934\n",
      "Epoch 2/50\n",
      "1/1 - 1s - 715ms/step - accuracy: 0.5000 - loss: 0.6960 - val_accuracy: 0.5000 - val_loss: 0.6935\n",
      "Epoch 3/50\n",
      "1/1 - 0s - 262ms/step - accuracy: 0.5000 - loss: 0.6891 - val_accuracy: 0.5000 - val_loss: 0.6937\n",
      "Epoch 4/50\n",
      "1/1 - 0s - 447ms/step - accuracy: 0.5000 - loss: 0.6932 - val_accuracy: 0.5000 - val_loss: 0.6943\n",
      "Epoch 5/50\n",
      "1/1 - 0s - 458ms/step - accuracy: 0.6667 - loss: 0.6814 - val_accuracy: 0.5000 - val_loss: 0.6940\n",
      "Epoch 6/50\n",
      "1/1 - 0s - 215ms/step - accuracy: 0.5000 - loss: 0.6814 - val_accuracy: 0.5000 - val_loss: 0.6941\n"
     ]
    }
   ],
   "source": [
    "# Train\n",
    "history = model.fit(\n",
    "    X_train, y_train,\n",
    "    validation_split=0.2,\n",
    "    epochs=50,\n",
    "    batch_size=8,\n",
    "    callbacks=[es, ckpt],\n",
    "    verbose=2\n",
    ")\n"
   ]
  },
  {
   "cell_type": "code",
   "execution_count": 12,
   "id": "1ea9e48c",
   "metadata": {},
   "outputs": [
    {
     "name": "stdout",
     "output_type": "stream",
     "text": [
      "\n",
      "Test loss: 0.6917  Test accuracy: 0.5000\n"
     ]
    }
   ],
   "source": [
    "# Evaluate\n",
    "loss, acc = model.evaluate(X_test, y_test, verbose=0)\n",
    "print(f\"\\nTest loss: {loss:.4f}  Test accuracy: {acc:.4f}\")"
   ]
  },
  {
   "cell_type": "code",
   "execution_count": 14,
   "id": "d644bd09",
   "metadata": {},
   "outputs": [
    {
     "name": "stdout",
     "output_type": "stream",
     "text": [
      "\u001b[1m1/1\u001b[0m \u001b[32m━━━━━━━━━━━━━━━━━━━━\u001b[0m\u001b[37m\u001b[0m \u001b[1m0s\u001b[0m 85ms/step\n",
      "\n",
      "Classification report:\n",
      "              precision    recall  f1-score   support\n",
      "\n",
      "         neg       0.00      0.00      0.00         1\n",
      "         pos       0.50      1.00      0.67         1\n",
      "\n",
      "    accuracy                           0.50         2\n",
      "   macro avg       0.25      0.50      0.33         2\n",
      "weighted avg       0.25      0.50      0.33         2\n",
      "\n"
     ]
    },
    {
     "name": "stderr",
     "output_type": "stream",
     "text": [
      "c:\\Users\\user\\Desktop\\data-science-class\\07-Deep_Learning\\env\\Lib\\site-packages\\sklearn\\metrics\\_classification.py:1731: UndefinedMetricWarning: Precision is ill-defined and being set to 0.0 in labels with no predicted samples. Use `zero_division` parameter to control this behavior.\n",
      "  _warn_prf(average, modifier, f\"{metric.capitalize()} is\", result.shape[0])\n",
      "c:\\Users\\user\\Desktop\\data-science-class\\07-Deep_Learning\\env\\Lib\\site-packages\\sklearn\\metrics\\_classification.py:1731: UndefinedMetricWarning: Precision is ill-defined and being set to 0.0 in labels with no predicted samples. Use `zero_division` parameter to control this behavior.\n",
      "  _warn_prf(average, modifier, f\"{metric.capitalize()} is\", result.shape[0])\n",
      "c:\\Users\\user\\Desktop\\data-science-class\\07-Deep_Learning\\env\\Lib\\site-packages\\sklearn\\metrics\\_classification.py:1731: UndefinedMetricWarning: Precision is ill-defined and being set to 0.0 in labels with no predicted samples. Use `zero_division` parameter to control this behavior.\n",
      "  _warn_prf(average, modifier, f\"{metric.capitalize()} is\", result.shape[0])\n"
     ]
    }
   ],
   "source": [
    "# Predictions and classification report\n",
    "y_pred_prob = model.predict(X_test).ravel()\n",
    "y_pred = (y_pred_prob >= 0.5).astype(int)\n",
    "\n",
    "print(\"\\nClassification report:\")\n",
    "print(classification_report(y_test, y_pred, target_names=[\"neg\",\"pos\"]))"
   ]
  },
  {
   "cell_type": "code",
   "execution_count": 15,
   "id": "fe7f8ef9",
   "metadata": {},
   "outputs": [
    {
     "name": "stdout",
     "output_type": "stream",
     "text": [
      "Confusion Matrix:\n",
      " [[0 1]\n",
      " [0 1]]\n"
     ]
    }
   ],
   "source": [
    "# Confusion matrix\n",
    "cm = confusion_matrix(y_test, y_pred)\n",
    "print(\"Confusion Matrix:\\n\", cm)"
   ]
  },
  {
   "cell_type": "code",
   "execution_count": 16,
   "id": "89186cf6",
   "metadata": {},
   "outputs": [
    {
     "data": {
      "image/png": "[encoded data removed]",
      "text/plain": [
       "<Figure size 1000x400 with 2 Axes>"
      ]
     },
     "metadata": {},
     "output_type": "display_data"
    }
   ],
   "source": [
    "# 9. Plot training curves\n",
    "plt.figure(figsize=(10,4))\n",
    "plt.subplot(1,2,1)\n",
    "plt.plot(history.history['loss'], label='train loss')\n",
    "plt.plot(history.history['val_loss'], label='val loss')\n",
    "plt.legend(); plt.title('Loss')\n",
    "\n",
    "plt.subplot(1,2,2)\n",
    "plt.plot(history.history['accuracy'], label='train acc')\n",
    "plt.plot(history.history['val_accuracy'], label='val acc')\n",
    "plt.legend(); plt.title('Accuracy')\n",
    "plt.show()"
   ]
  },
  {
   "cell_type": "code",
   "execution_count": 17,
   "id": "4c243c5e",
   "metadata": {},
   "outputs": [
    {
     "name": "stdout",
     "output_type": "stream",
     "text": [
      "\n",
      "Examples predictions:\n",
      "\u001b[1m1/1\u001b[0m \u001b[32m━━━━━━━━━━━━━━━━━━━━\u001b[0m\u001b[37m\u001b[0m \u001b[1m0s\u001b[0m 130ms/step\n",
      "  I am extremely happy with this purchase -> prob: 0.507, label: 1\n",
      "  Worst product ever, totally useless -> prob: 0.508, label: 1\n"
     ]
    }
   ],
   "source": [
    "# Example inference (new texts)\n",
    "def predict_sentences(texts_list):\n",
    "    texts_clean = [preprocess_text(t) for t in texts_list]\n",
    "    seqs = tokenizer.texts_to_sequences(texts_clean)\n",
    "    padd = pad_sequences(seqs, maxlen=max_len, padding='post', truncating='post')\n",
    "    probs = model.predict(padd)\n",
    "    preds = (probs.ravel() >= 0.5).astype(int)\n",
    "    return list(zip(texts_list, probs.ravel(), preds))\n",
    "\n",
    "examples = [\"I am extremely happy with this purchase\", \"Worst product ever, totally useless\"]\n",
    "print(\"\\nExamples predictions:\")\n",
    "for txt, prob, pred in predict_sentences(examples):\n",
    "    print(f\"  {txt} -> prob: {prob:.3f}, label: {pred}\")\n"
   ]
  }
 ],
 "metadata": {
  "kernelspec": {
   "display_name": "env",
   "language": "python",
   "name": "python3"
  },
  "language_info": {
   "codemirror_mode": {
    "name": "ipython",
    "version": 3
   },
   "file_extension": ".py",
   "mimetype": "text/x-python",
   "name": "python",
   "nbconvert_exporter": "python",
   "pygments_lexer": "ipython3",
   "version": "3.13.3"
  }
 },
 "nbformat": 4,
 "nbformat_minor": 5
}
