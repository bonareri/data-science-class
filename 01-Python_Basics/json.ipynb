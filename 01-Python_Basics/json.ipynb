{
 "cells": [
  {
   "cell_type": "markdown",
   "id": "6736f6a5",
   "metadata": {},
   "source": [
    "## JSON (JavaScript Object Notation)\n",
    "\n",
    "### What is JSON?\n",
    "JSON stands for **JavaScript Object Notation**. It is a **lightweight data-interchange format** that is easy for humans to read and write, and easy for machines to parse and generate.\n",
    "\n",
    "It is commonly used for transmitting data in web applications between a server and a client.\n",
    "\n",
    "---\n",
    "\n",
    "### History and Development\n",
    "JSON was originally derived from JavaScript, but it is language-independent and supported by many programming languages.\n",
    "\n",
    "\n",
    "### Structure of JSON\n",
    "JSON is built on two structures:\n",
    "\n",
    "- A collection of name/value pairs: Often referred to as an object, dictionary, hash table, keyed list, or associative array in various programming languages.\n",
    "- An ordered list of values: Often referred to as an array, vector, list, or sequence.\n",
    "\n",
    "---\n",
    "\n",
    "### JSON Syntax Rules\n",
    "- Data is in **name/value pairs**: `{ \"name\": \"John\", \"age\": 30 }`\n",
    "- Data is **comma-separated** ```{ \"name\": \"John\", \"age\": 30, \"city\": \"New York\" }```\n",
    "- Objects are wrapped in **curly braces `{ \"employee\": { \"name\": \"John\", \"age\": 30, \"city\": \"New York\" } }`**\n",
    "- Arrays are wrapped in **square brackets `{ \"employees\": [\"John\", \"Anna\", \"Peter\"] }`**\n",
    "- Keys (names) must be **strings** enclosed in double quotes\n",
    "\n",
    "---\n",
    "\n",
    "### JSON Data Types\n",
    "- String: Text data, enclosed in double quotes.\n",
    "- Number: Numeric data, without quotes.\n",
    "- Object: A collection of key/value pairs, enclosed in curly braces.\n",
    "- Array: An ordered list of values, enclosed in square brackets.\n",
    "- Boolean: True or false values.\n",
    "- Null: Represents an empty or null value\n",
    "\n",
    "---\n",
    "\n",
    "### Example of a JSON Object\n",
    "\n",
    "```json\n",
    "{\n",
    "\"employees\": [\n",
    "{\n",
    "\"name\": \"John Doe\",\n",
    "\"age\": 30,\n",
    "\"position\": \"Software Engineer\"\n",
    "},\n",
    "{\n",
    "\"name\": \"Anna Smith\",\n",
    "\"age\": 25,\n",
    "\"position\": \"Product Manager\"\n",
    "},\n",
    "{\n",
    "\"name\": \"Peter Jones\",\n",
    "\"age\": 40,\n",
    "\"position\": \"CEO\"\n",
    "}\n",
    "]\n",
    "\n",
    "}\n",
    "```\n"
   ]
  },
  {
   "cell_type": "markdown",
   "id": "498f44a8",
   "metadata": {},
   "source": [
    "### Working with JSON in Python"
   ]
  },
  {
   "cell_type": "markdown",
   "id": "86f1d5d5",
   "metadata": {},
   "source": [
    "Importing the json Module"
   ]
  },
  {
   "cell_type": "code",
   "execution_count": 21,
   "id": "bae57142",
   "metadata": {},
   "outputs": [],
   "source": [
    "import json"
   ]
  },
  {
   "cell_type": "markdown",
   "id": "853ad113",
   "metadata": {},
   "source": [
    "Parsing JSON\n",
    "\n",
    "converting a JSON-formatted string into a Python object."
   ]
  },
  {
   "cell_type": "code",
   "execution_count": 22,
   "id": "cd1f36c3",
   "metadata": {},
   "outputs": [
    {
     "data": {
      "text/plain": [
       "{'name': 'John', 'age': 30, 'city': 'New York'}"
      ]
     },
     "execution_count": 22,
     "metadata": {},
     "output_type": "execute_result"
    }
   ],
   "source": [
    "{\n",
    "  \"name\": \"John\",\n",
    "  \"age\": 30,\n",
    "  \"city\": \"New York\"\n",
    "}"
   ]
  },
  {
   "cell_type": "markdown",
   "id": "194c99ec",
   "metadata": {},
   "source": [
    "Convert JSON String to Python Dictionary:"
   ]
  },
  {
   "cell_type": "code",
   "execution_count": 30,
   "id": "61600ddc",
   "metadata": {},
   "outputs": [
    {
     "name": "stdout",
     "output_type": "stream",
     "text": [
      "John\n",
      "30\n",
      "New York\n"
     ]
    }
   ],
   "source": [
    "# JSON string\n",
    "json_string = '{\"name\": \"John\", \"age\": 30, \"city\": \"New York\"}'\n",
    "\n",
    "# Parse JSON string to Python dictionary\n",
    "python_dict = json.loads(json_string)\n",
    "python_dict\n",
    "\n",
    "# Access data\n",
    "print(python_dict[\"name\"])  \n",
    "print(python_dict[\"age\"])   \n",
    "print(python_dict[\"city\"])  "
   ]
  },
  {
   "cell_type": "markdown",
   "id": "9a6471ca",
   "metadata": {},
   "source": [
    "Convert Python to JSON string"
   ]
  },
  {
   "cell_type": "code",
   "execution_count": 11,
   "id": "27006733",
   "metadata": {},
   "outputs": [
    {
     "name": "stdout",
     "output_type": "stream",
     "text": [
      "{\"name\": \"John\", \"age\": 30, \"city\": \"New York\"}\n"
     ]
    }
   ],
   "source": [
    "# Convert dictionary to JSON string\n",
    "json_string = json.dumps(python_dict)\n",
    "\n",
    "print(json_string)"
   ]
  },
  {
   "cell_type": "markdown",
   "id": "9198a977",
   "metadata": {},
   "source": [
    "### Writing JSON to a File\n",
    "To write JSON data to a file, use the json.dump() method."
   ]
  },
  {
   "cell_type": "code",
   "execution_count": null,
   "id": "b4b51938",
   "metadata": {},
   "outputs": [],
   "source": [
    "# Python dictionary\n",
    "data = {\n",
    "    \"name\": \"John\",\n",
    "    \"age\": 30,\n",
    "    \"city\": \"New York\"\n",
    "}\n",
    "\n",
    "# Open a file for writing\n",
    "with open('data.json', 'w') as file:\n",
    "    # Write JSON data to file\n",
    "    json.dump(data, file)"
   ]
  },
  {
   "cell_type": "markdown",
   "id": "5e5dcc79",
   "metadata": {},
   "source": [
    "### Reading JSON from a File\n",
    "To read JSON data from a file, you can use the json.load() method."
   ]
  },
  {
   "cell_type": "code",
   "execution_count": 28,
   "id": "30b2cf39",
   "metadata": {},
   "outputs": [
    {
     "name": "stdout",
     "output_type": "stream",
     "text": [
      "John\n",
      "30\n",
      "New York\n"
     ]
    }
   ],
   "source": [
    "# Open and read the JSON file\n",
    "with open('data.json', 'r') as file:\n",
    "    data = json.load(file)\n",
    "\n",
    "# Access data\n",
    "print(data[\"name\"])  # Output: John\n",
    "print(data[\"age\"])   # Output: 30\n",
    "print(data[\"city\"])  # Output: New York\n"
   ]
  }
 ],
 "metadata": {
  "kernelspec": {
   "display_name": "venv",
   "language": "python",
   "name": "python3"
  },
  "language_info": {
   "codemirror_mode": {
    "name": "ipython",
    "version": 3
   },
   "file_extension": ".py",
   "mimetype": "text/x-python",
   "name": "python",
   "nbconvert_exporter": "python",
   "pygments_lexer": "ipython3",
   "version": "3.13.3"
  }
 },
 "nbformat": 4,
 "nbformat_minor": 5
}
