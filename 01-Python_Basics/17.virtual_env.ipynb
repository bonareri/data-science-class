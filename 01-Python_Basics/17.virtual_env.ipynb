{
 "cells": [
  {
   "cell_type": "markdown",
   "id": "c5226fa9",
   "metadata": {},
   "source": [
    "# Create virtual environment\n",
    "python -m venv env\n",
    "\n",
    "# - Git Bash\n",
    "source env/Scripts/activate\n",
    "\n",
    "# Activate in:\n",
    "# - CMD\n",
    "env\\Scripts\\activate\n",
    "\n",
    "# - PowerShell\n",
    ".\\env\\Scripts\\Activate.ps1"
   ]
  }
 ],
 "metadata": {
  "language_info": {
   "name": "python"
  }
 },
 "nbformat": 4,
 "nbformat_minor": 5
}
