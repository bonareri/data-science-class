{
 "cells": [
  {
   "cell_type": "markdown",
   "id": "fa8d1e36",
   "metadata": {},
   "source": [
    "## Object-Oriented Programming (OOP) in Python\n",
    "\n",
    "### What is OOP?\n",
    "\n",
    "**Object-Oriented Programming (OOP)** is a programming style that focuses on creating \"objects\" that bundle both **data** (attributes) and **functions** (methods). This makes code more **organized**, **reusable**, and **easier to manage**—especially for large programs.\n",
    "\n",
    "### Key OOP Concepts in Python\n",
    "\n",
    "| Concept          | Description                                                                 |\n",
    "|------------------|-----------------------------------------------------------------------------|\n",
    "| `Class`          | A blueprint or template for creating objects                                |\n",
    "| `Object`         | A concrete instance of a class                                              |\n",
    "| `Attribute`      | Variable inside an object that stores data                                  |\n",
    "| `Method`         | Function inside a class that defines behavior                               |\n",
    "| `Constructor`    | Special method `__init__()` to initialize object data                       |\n",
    "| `Self`           | Refers to the current object instance inside the class                      |\n",
    "| `Encapsulation`  | Hiding internal details; restricting direct access                          |\n",
    "| `Inheritance`    | A class can inherit properties and methods from another class               |\n",
    "| `Polymorphism`   | Different classes can have methods with the same name but different behavior|\n",
    "\n",
    "---\n",
    "\n",
    "\n",
    "### Why Do We Use Object-Oriented Programming (OOP)?\n",
    "\n",
    "Object-Oriented Programming is used because it makes our code:\n",
    "\n",
    "#### 1. Modular\n",
    "\n",
    "OOP allows you to break your program into smaller, self-contained pieces called **classes**.\n",
    "\n",
    "- Each class represents one concept or \"thing\" in your program (e.g., `Student`, `Book`, `Car`).\n",
    "- These pieces are easier to build, test, and debug separately.\n",
    "- You don’t have to write your entire program as one long script.\n",
    "\n",
    "#### 2. Reusable\n",
    "\n",
    "With **classes**, you can reuse code across different programs.\n",
    "\n",
    "- Once a class is defined, you can create multiple objects from it (e.g., multiple `Student` objects).\n",
    "- You can also reuse behavior through **inheritance**, where one class borrows from another.\n",
    "\n",
    "#### 3. Models Real-World Entities\n",
    "\n",
    "OOP lets you create code that mirrors real-world systems.\n",
    "\n",
    "- A `Car` class can have `start()`, `stop()`, and `fuel_level`—just like a real car.\n",
    "- A `BankAccount` class can model deposits, withdrawals, and balances.\n",
    "\n",
    "#### 4. Scalable and Maintainable\n",
    "\n",
    "As your project grows, OOP makes it easier to:\n",
    "\n",
    "- Add new features by adding new classes\n",
    "- Modify or extend existing features without changing too much code\n",
    "- Collaborate with other developers\n",
    "\n",
    "#### 5. Data Protection (Encapsulation)\n",
    "\n",
    "OOP helps protect internal object data using **encapsulation**.\n",
    "\n",
    "- Sensitive data can be made **private** (e.g., using `__balance`), and accessed only through methods.\n",
    "- Prevents unwanted or accidental changes.\n",
    "\n",
    "#### 6. Flexible Behavior (Polymorphism)\n",
    "\n",
    "OOP allows different objects to share the same method name but behave differently.\n",
    "\n",
    "- For example, a `Dog` and a `Cat` can both have a `.speak()` method, but output “Woof” and “Meow”.\n",
    "\n",
    "**Benefit:** Makes your code more flexible and interchangeable.\n",
    "\n",
    "#### 7. Encourages Team Collaboration\n",
    "\n",
    "OOP design enables multiple developers to work on different parts of the program at the same time.\n",
    "\n",
    "- One person can work on the `User` class while another works on the `Payment` class.\n",
    "- As long as everyone follows the interface (method names and expected behavior), collaboration becomes seamless."
   ]
  },
  {
   "cell_type": "markdown",
   "id": "1236f059",
   "metadata": {},
   "source": [
    "### Basic OOP Concepts"
   ]
  },
  {
   "cell_type": "markdown",
   "id": "77a22bb4",
   "metadata": {},
   "source": [
    "### What is a Class?\n",
    "\n",
    "- A class is a blueprint or template for creating objects (instances). \n",
    "- It defines the attributes and methods that the created objects will have. \n",
    "- A class encapsulates data for the object and methods to manipulate that data.\n",
    "\n",
    "Syntax:\n",
    "```python\n",
    "class ClassName:\n",
    "     # Class body\n",
    "     attributes = []\n",
    "def method_name(self):\n",
    "     # Method body\n",
    "      pass\n",
    "```"
   ]
  },
  {
   "cell_type": "markdown",
   "id": "8665f40f",
   "metadata": {},
   "source": [
    "### Creating a Class\n",
    "- To define a class in Python, you use the `class` keyword followed by the class name and a colon.\n",
    "- Inside the class, you define methods and attributes."
   ]
  },
  {
   "cell_type": "code",
   "execution_count": 45,
   "id": "bf476425",
   "metadata": {},
   "outputs": [],
   "source": [
    "class Dog:\n",
    "    def __init__(self, name, breed):\n",
    "        self.name = name\n",
    "        self.breed = breed\n",
    "\n",
    "    def bark(self):\n",
    "        return f\"{self.name} says Woof!\""
   ]
  },
  {
   "cell_type": "markdown",
   "id": "2a631497",
   "metadata": {},
   "source": [
    "- Dog is a class.\n",
    "- `__init__` is a special method (constructor) that initializes an instance of the class.\n",
    "- self.name and self.breed are instance attributes.\n",
    "- bark is a method of the class."
   ]
  },
  {
   "cell_type": "markdown",
   "id": "0b2411d6",
   "metadata": {},
   "source": [
    "### Instantiating a Class\n",
    "- Instantiating a class means creating an object from the class blueprint. \n",
    "- When you create an object, Python calls the class’s `__init__` method to initialize the object.\n",
    "- To create an object from a class, you call the class as if it were a function, passing any arguments required by the `__init__` method."
   ]
  },
  {
   "cell_type": "code",
   "execution_count": 46,
   "id": "31fb6bd9",
   "metadata": {},
   "outputs": [
    {
     "name": "stdout",
     "output_type": "stream",
     "text": [
      "Buddy says Woof!\n"
     ]
    }
   ],
   "source": [
    "my_dog = Dog(\"Buddy\", \"Golden Retriever\")\n",
    "print(my_dog.bark())"
   ]
  },
  {
   "cell_type": "markdown",
   "id": "56ad874c",
   "metadata": {},
   "source": [
    "### The `__init__` Method\n",
    "- The `__init__` method is a special method in Python classes, also known as the constructor. \n",
    "- It is automatically called when a new object is created and is used to initialize the object’s attributes."
   ]
  },
  {
   "cell_type": "code",
   "execution_count": 48,
   "id": "58de0f7f",
   "metadata": {},
   "outputs": [],
   "source": [
    "class Car:\n",
    "    def __init__(self, make, model, year, color):\n",
    "        self.make = make\n",
    "        self.model = model\n",
    "        self.year = year\n",
    "        self.color = color\n",
    "    \n",
    "    def start_engine(self):\n",
    "        print(f\"The {self.year} {self.make} {self.model} is now running.\")"
   ]
  },
  {
   "cell_type": "markdown",
   "id": "5fc76958",
   "metadata": {},
   "source": [
    "### Accessing Object Attributes and Methods:\n",
    "\n",
    "- You can access an object’s attributes and methods using dot notation. \n",
    "- The syntax is object_name.attribute_name for attributes and object_name.method_name() for methods."
   ]
  },
  {
   "cell_type": "code",
   "execution_count": 49,
   "id": "e059072d",
   "metadata": {},
   "outputs": [
    {
     "name": "stdout",
     "output_type": "stream",
     "text": [
      "Toyota\n",
      "Corolla\n",
      "The 2020 Toyota Corolla is now running.\n"
     ]
    }
   ],
   "source": [
    "my_car = Car(\"Toyota\", \"Corolla\", 2020, \"Red\")\n",
    "print(my_car.make)  \n",
    "print(my_car.model)  \n",
    "my_car.start_engine()"
   ]
  },
  {
   "cell_type": "markdown",
   "id": "b3fd51a4",
   "metadata": {},
   "source": [
    "### Modifying Object Attributes\n",
    "\n",
    "After an object is created, you can modify its attributes by assigning new values to them."
   ]
  },
  {
   "cell_type": "code",
   "execution_count": 50,
   "id": "8434acf7",
   "metadata": {},
   "outputs": [
    {
     "name": "stdout",
     "output_type": "stream",
     "text": [
      "Blue\n"
     ]
    }
   ],
   "source": [
    "my_car.color = \"Blue\"  # Changing the color attribute\n",
    "print(my_car.color)  # Output: Blue"
   ]
  },
  {
   "cell_type": "markdown",
   "id": "8813db18",
   "metadata": {},
   "source": [
    "### Creating Multiple Objects\n",
    "\n",
    "You can create multiple objects from the same class, and each object will have its own set of attributes and methods, independent of other objects."
   ]
  },
  {
   "cell_type": "code",
   "execution_count": 51,
   "id": "a50b6a81",
   "metadata": {},
   "outputs": [
    {
     "name": "stdout",
     "output_type": "stream",
     "text": [
      "The 2019 Honda Civic is now running.\n",
      "The 2021 Ford Mustang is now running.\n"
     ]
    }
   ],
   "source": [
    "car1 = Car(\"Honda\", \"Civic\", 2019, \"Black\")\n",
    "car1.start_engine()\n",
    "car2 = Car(\"Ford\", \"Mustang\", 2021, \"Yellow\")\n",
    "car2.start_engine()"
   ]
  },
  {
   "cell_type": "markdown",
   "id": "7ec6fb60",
   "metadata": {},
   "source": [
    "### Class Attributes vs. Instance Attributes\n",
    "- **Class Attributes:** Shared across all instances of a class. Defined directly inside the class but outside any methods.\n",
    "- **Instance Attributes:** Unique to each instance of the class. Defined within the `__init__` method and prefixed with self.."
   ]
  },
  {
   "cell_type": "code",
   "execution_count": null,
   "id": "1ad0ea55",
   "metadata": {},
   "outputs": [],
   "source": [
    "class Circle:\n",
    "    pi = 3.14159 # Class attribute\n",
    "\n",
    "    def __init__(self, radius):\n",
    "        self.radius = radius # Instance attribute\n",
    "\n",
    "    def area(self):\n",
    "        return self.pi * self.radius ** 2\n",
    "    \n",
    "my_circle = Circle(5)"
   ]
  },
  {
   "cell_type": "markdown",
   "id": "b2f1af4e",
   "metadata": {},
   "source": [
    "### Methods in Classes\n",
    "- Methods are functions defined inside a class that describe the behaviors of an object.\n",
    "- The first parameter of a method is typically self, which refers to the instance calling the method."
   ]
  },
  {
   "cell_type": "code",
   "execution_count": null,
   "id": "bdec7ae5",
   "metadata": {},
   "outputs": [],
   "source": [
    "class Rectangle:\n",
    "    def __init__(self, length, width):\n",
    "        self.length = length\n",
    "        self.width = width\n",
    "    \n",
    "    def area(self):\n",
    "        return self.length * self.width\n",
    "    \n"
   ]
  },
  {
   "cell_type": "markdown",
   "id": "07ab0d3d",
   "metadata": {},
   "source": [
    "### Class Attributes and Methods\n",
    "- **Class Attributes:** Defined within the class but outside any methods. Shared among all instances of the class.\n",
    "- **Instance Attributes:** Defined inside methods using self. Unique to each instance.\n",
    "- **Class Methods:** Defined using the @classmethod decorator and take cls as the first parameter.\n",
    "- **Static Methods:** Defined using the @staticmethod decorator. Do not take self or cls as parameters."
   ]
  },
  {
   "cell_type": "code",
   "execution_count": null,
   "id": "39939726",
   "metadata": {},
   "outputs": [
    {
     "name": "stdout",
     "output_type": "stream",
     "text": [
      "Area of circle with radius 5: 78.53975\n",
      "Sum of 10 and 20: 30\n"
     ]
    }
   ],
   "source": [
    "class MathOperations:\n",
    "    pi = 3.14159 # Class attribute\n",
    "\n",
    "    @classmethod\n",
    "    def circle_area(cls, radius):\n",
    "        return cls.pi * radius ** 2\n",
    "\n",
    "\n",
    "    @staticmethod\n",
    "    def add(a, b):\n",
    "        return a + b\n",
    "\n",
    "#create objects from the class    \n",
    "obj1 = MathOperations()\n",
    "obj2 = MathOperations()\n",
    "\n",
    "#using the class method via the objects\n",
    "area1 = obj1.circle_area(5)\n",
    "print(f\"Area of circle with radius 5: {area1}\")\n",
    "\n",
    "#using the static method via the class\n",
    "sum1 = obj2.add(10, 20)\n",
    "print(f\"Sum of 10 and 20: {sum1}\")\n"
   ]
  },
  {
   "cell_type": "markdown",
   "id": "b436cc7a",
   "metadata": {},
   "source": [
    "### Object Lifecycle in Object-Oriented Programming\n",
    "The object lifecycle in OOP refers to the stages an object goes through from creation to destruction. \n",
    "\n",
    "Understanding this lifecycle is crucial because it helps in managing resources, memory, and understanding the flow of an object in a program.\n",
    "\n",
    "Let’s explore the object lifecycle using an example of an Employee class."
   ]
  },
  {
   "cell_type": "markdown",
   "id": "716a6d8c",
   "metadata": {},
   "source": [
    "### 1. Object Creation\n",
    "- The object lifecycle begins when an object is created.\n",
    "- In Python, this is typically done using the class constructor, which is the __init__ method.\n",
    "\n",
    "Example: Creating an Employee Object"
   ]
  },
  {
   "cell_type": "code",
   "execution_count": 40,
   "id": "6422c253",
   "metadata": {},
   "outputs": [
    {
     "name": "stdout",
     "output_type": "stream",
     "text": [
      "Employee John Doe has been created.\n"
     ]
    }
   ],
   "source": [
    "class Employee:\n",
    "    def __init__(self, name, position):\n",
    "        self.name = name  # Initializing the name attribute\n",
    "        self.position = position  # Initializing the position attribute\n",
    "        print(f\"Employee {self.name} has been created.\")\n",
    "\n",
    "# Creating an instance of the Employee class\n",
    "emp1 = Employee(\"John Doe\", \"Software Developer\")"
   ]
  },
  {
   "cell_type": "markdown",
   "id": "40bbc287",
   "metadata": {},
   "source": [
    "### 2. Object Instantiation and Initialization\n",
    "- When an object is created, Python allocates memory for it, and the `__init__` method is called to initialize its attributes. \n",
    "- The object is now ready to be used in the program."
   ]
  },
  {
   "cell_type": "code",
   "execution_count": 41,
   "id": "ae5feb6c",
   "metadata": {},
   "outputs": [
    {
     "name": "stdout",
     "output_type": "stream",
     "text": [
      "John Doe\n",
      "Software Developer\n"
     ]
    }
   ],
   "source": [
    "print(emp1.name)  \n",
    "print(emp1.position)"
   ]
  },
  {
   "cell_type": "markdown",
   "id": "51d47d17",
   "metadata": {},
   "source": [
    "### 3. Object Usage\n",
    "- After creation and initialization, the object can be used to perform various operations. \n",
    "- Methods of the class can be called to manipulate the object’s state or to perform actions."
   ]
  },
  {
   "cell_type": "code",
   "execution_count": 42,
   "id": "a84be6bf",
   "metadata": {},
   "outputs": [
    {
     "name": "stdout",
     "output_type": "stream",
     "text": [
      "Employee John Doe has been created.\n",
      "John Doe is working as a Software Developer.\n"
     ]
    }
   ],
   "source": [
    "# Adding a Method to the Employee Class\n",
    "\n",
    "class Employee:\n",
    "\n",
    "    def __init__(self, name, position):\n",
    "        self.name = name\n",
    "        self.position = position\n",
    "        print(f\"Employee {self.name} has been created.\")\n",
    "\n",
    "    def work(self):\n",
    "        print(f\"{self.name} is working as a {self.position}.\")\n",
    "# Creating and using an Employee object\n",
    "emp1 = Employee(\"John Doe\", \"Software Developer\")\n",
    "emp1.work()  # Output: John Doe is working as a Software Developer."
   ]
  },
  {
   "cell_type": "markdown",
   "id": "c81e7eb9",
   "metadata": {},
   "source": [
    "### 4. Object Destruction\n",
    "- When an object is no longer needed, Python automatically handles its destruction through garbage collection.\n",
    "- This process reclaims the memory used by objects that are no longer in use."
   ]
  },
  {
   "cell_type": "code",
   "execution_count": 43,
   "id": "d23585ba",
   "metadata": {},
   "outputs": [
    {
     "name": "stdout",
     "output_type": "stream",
     "text": [
      "Employee John Doe has been created.\n",
      "Employee John Doe is being deleted.\n"
     ]
    }
   ],
   "source": [
    "class Employee:\n",
    "    def __init__(self, name, position):\n",
    "        self.name = name\n",
    "        self.position = position\n",
    "        print(f\"Employee {self.name} has been created.\")\n",
    "    def __del__(self):\n",
    "        print(f\"Employee {self.name} is being deleted.\")\n",
    "\n",
    "# Creating and deleting an Employee object\n",
    "emp1 = Employee(\"John Doe\", \"Software Developer\")\n",
    "del emp1  # Manually deleting the object"
   ]
  },
  {
   "cell_type": "markdown",
   "id": "295b096b",
   "metadata": {},
   "source": [
    "- `__del__` Method: This is the destructor method. It is called when the object is about to be destroyed.\n",
    "- It can be used to perform any cleanup tasks, such as closing files or releasing resources."
   ]
  },
  {
   "cell_type": "markdown",
   "id": "bd149688",
   "metadata": {},
   "source": [
    "### The @property Decorator \n",
    "- The @property decorator in Python is a powerful feature that allows you to control access to instance variables in a class. \n",
    "- It provides a way to implement getters, setters, and deleters while keeping the syntax clean and intuitive."
   ]
  },
  {
   "cell_type": "markdown",
   "id": "71dbafea",
   "metadata": {},
   "source": [
    "### Basics of the @property Decorator\n",
    "\n",
    "- The @property decorator turns a method into a “getter” for an attribute, allowing you to access an instance variable as if it were a regular attribute, but with the option to add custom logic when getting, setting, or deleting the value."
   ]
  },
  {
   "cell_type": "code",
   "execution_count": 44,
   "id": "6c99f187",
   "metadata": {},
   "outputs": [
    {
     "name": "stdout",
     "output_type": "stream",
     "text": [
      "Getting the speed\n",
      "50\n",
      "Setting the speed\n",
      "Deleting the speed\n"
     ]
    }
   ],
   "source": [
    "class Car:\n",
    "    def __init__(self, speed):\n",
    "        self._speed = speed\n",
    "\n",
    "    @property\n",
    "    def speed(self):\n",
    "        \"\"\"Getter method for the speed attribute.\"\"\"\n",
    "        print(\"Getting the speed\")\n",
    "        return self._speed\n",
    "\n",
    "    @speed.setter\n",
    "    def speed(self, value):\n",
    "        \"\"\"Setter method for the speed attribute.\"\"\"\n",
    "        if value < 0:\n",
    "            raise ValueError(\"Speed cannot be negative\")\n",
    "        print(\"Setting the speed\")\n",
    "        self._speed = value\n",
    "\n",
    "    @speed.deleter\n",
    "    def speed(self):\n",
    "        \"\"\"Deleter method for the speed attribute.\"\"\"\n",
    "        print(\"Deleting the speed\")\n",
    "        del self._speed\n",
    "\n",
    "\n",
    "car = Car(50)        # Creating a Car instance with an initial speed of 50\n",
    "print(car.speed)     # Getting the speed (using the getter method)\n",
    "car.speed = 100      # Setting the speed to 100 (using the setter method)\n",
    "del car.speed        # Deleting the speed attribute (using the deleter method)"
   ]
  },
  {
   "cell_type": "markdown",
   "id": "23eeb6c6",
   "metadata": {},
   "source": [
    "### `__init__` Method\n",
    "- Initializes the `_speed` attribute.\n",
    "- The underscore (`_`) is a naming convention to indicate the attribute is private (internal use only).\n",
    "\n",
    "### `@property` (Getter)\n",
    "- Allows access to a method like an attribute.\n",
    "- Called when you do `car.speed`.\n",
    "- Makes the class interface cleaner (you don’t need `get_speed()`).\n",
    "\n",
    "### `@speed.setter` (Setter)\n",
    "- Called when assigning a value like `car.speed = 100`.\n",
    "- You can add validation logic, e.g., check that the speed is not negative.\n",
    "\n",
    "### `@speed.deleter` (Deleter)\n",
    "- Called when you delete the attribute with `del car.speed`.\n",
    "- Useful for cleanup or logging.\n",
    "\n",
    "### Why Use `@property`?\n",
    "- **Encapsulation**: Controls how an attribute is accessed and modified.\n",
    "- **Ease of Use**: Allows you to use simple dot notation (`car.speed`) while still having logic behind it.\n",
    "- **Backward Compatibility**: You can start with a normal attribute, then add logic later using `@property` without changing how external code interacts with the class.\n"
   ]
  },
  {
   "cell_type": "code",
   "execution_count": 2,
   "id": "b23605c9",
   "metadata": {},
   "outputs": [
    {
     "data": {
      "text/plain": [
       "'Alice is 30 years old.'"
      ]
     },
     "execution_count": 2,
     "metadata": {},
     "output_type": "execute_result"
    }
   ],
   "source": [
    "class Person:\n",
    "    def __init__(self, name, age):\n",
    "        self.name = name\n",
    "        self.age = age\n",
    "\n",
    "    def name_and_age(self):\n",
    "        return f\"{self.name} is {self.age} years old.\"\n",
    "    \n",
    "person_1 = Person(\"Alice\", 30)\n",
    "person_1.name_and_age()"
   ]
  },
  {
   "cell_type": "code",
   "execution_count": 7,
   "id": "600fd468",
   "metadata": {},
   "outputs": [
    {
     "ename": "RecursionError",
     "evalue": "maximum recursion depth exceeded",
     "output_type": "error",
     "traceback": [
      "\u001b[31m---------------------------------------------------------------------------\u001b[39m",
      "\u001b[31mRecursionError\u001b[39m                            Traceback (most recent call last)",
      "\u001b[36mCell\u001b[39m\u001b[36m \u001b[39m\u001b[32mIn[7]\u001b[39m\u001b[32m, line 15\u001b[39m\n\u001b[32m     12\u001b[39m             \u001b[38;5;28;01mraise\u001b[39;00m \u001b[38;5;167;01mValueError\u001b[39;00m(\u001b[33m\"\u001b[39m\u001b[33mName cannot be empty\u001b[39m\u001b[33m\"\u001b[39m)\n\u001b[32m     13\u001b[39m         \u001b[38;5;28mself\u001b[39m.name = value\n\u001b[32m---> \u001b[39m\u001b[32m15\u001b[39m person_1 = \u001b[43mPerson\u001b[49m\u001b[43m(\u001b[49m\u001b[33;43m\"\u001b[39;49m\u001b[33;43mAlice\u001b[39;49m\u001b[33;43m\"\u001b[39;49m\u001b[43m)\u001b[49m\n\u001b[32m     16\u001b[39m \u001b[38;5;66;03m# person_1.name = \"Bob\"  # Changing the name attribute\u001b[39;00m\n",
      "\u001b[36mCell\u001b[39m\u001b[36m \u001b[39m\u001b[32mIn[7]\u001b[39m\u001b[32m, line 3\u001b[39m, in \u001b[36mPerson.__init__\u001b[39m\u001b[34m(self, name)\u001b[39m\n\u001b[32m      2\u001b[39m \u001b[38;5;28;01mdef\u001b[39;00m\u001b[38;5;250m \u001b[39m\u001b[34m__init__\u001b[39m(\u001b[38;5;28mself\u001b[39m, name):\n\u001b[32m----> \u001b[39m\u001b[32m3\u001b[39m     \u001b[38;5;28;43mself\u001b[39;49m\u001b[43m.\u001b[49m\u001b[43mname\u001b[49m = name\n",
      "\u001b[36mCell\u001b[39m\u001b[36m \u001b[39m\u001b[32mIn[7]\u001b[39m\u001b[32m, line 13\u001b[39m, in \u001b[36mPerson.name\u001b[39m\u001b[34m(self, value)\u001b[39m\n\u001b[32m     11\u001b[39m \u001b[38;5;28;01mif\u001b[39;00m \u001b[38;5;129;01mnot\u001b[39;00m value:\n\u001b[32m     12\u001b[39m     \u001b[38;5;28;01mraise\u001b[39;00m \u001b[38;5;167;01mValueError\u001b[39;00m(\u001b[33m\"\u001b[39m\u001b[33mName cannot be empty\u001b[39m\u001b[33m\"\u001b[39m)\n\u001b[32m---> \u001b[39m\u001b[32m13\u001b[39m \u001b[38;5;28;43mself\u001b[39;49m\u001b[43m.\u001b[49m\u001b[43mname\u001b[49m = value\n",
      "\u001b[36mCell\u001b[39m\u001b[36m \u001b[39m\u001b[32mIn[7]\u001b[39m\u001b[32m, line 13\u001b[39m, in \u001b[36mPerson.name\u001b[39m\u001b[34m(self, value)\u001b[39m\n\u001b[32m     11\u001b[39m \u001b[38;5;28;01mif\u001b[39;00m \u001b[38;5;129;01mnot\u001b[39;00m value:\n\u001b[32m     12\u001b[39m     \u001b[38;5;28;01mraise\u001b[39;00m \u001b[38;5;167;01mValueError\u001b[39;00m(\u001b[33m\"\u001b[39m\u001b[33mName cannot be empty\u001b[39m\u001b[33m\"\u001b[39m)\n\u001b[32m---> \u001b[39m\u001b[32m13\u001b[39m \u001b[38;5;28;43mself\u001b[39;49m\u001b[43m.\u001b[49m\u001b[43mname\u001b[49m = value\n",
      "    \u001b[31m[... skipping similar frames: Person.name at line 13 (1488 times)]\u001b[39m\n",
      "\u001b[36mCell\u001b[39m\u001b[36m \u001b[39m\u001b[32mIn[7]\u001b[39m\u001b[32m, line 13\u001b[39m, in \u001b[36mPerson.name\u001b[39m\u001b[34m(self, value)\u001b[39m\n\u001b[32m     11\u001b[39m \u001b[38;5;28;01mif\u001b[39;00m \u001b[38;5;129;01mnot\u001b[39;00m value:\n\u001b[32m     12\u001b[39m     \u001b[38;5;28;01mraise\u001b[39;00m \u001b[38;5;167;01mValueError\u001b[39;00m(\u001b[33m\"\u001b[39m\u001b[33mName cannot be empty\u001b[39m\u001b[33m\"\u001b[39m)\n\u001b[32m---> \u001b[39m\u001b[32m13\u001b[39m \u001b[38;5;28;43mself\u001b[39;49m\u001b[43m.\u001b[49m\u001b[43mname\u001b[49m = value\n",
      "\u001b[31mRecursionError\u001b[39m: maximum recursion depth exceeded"
     ]
    }
   ],
   "source": [
    "class Person:\n",
    "    def __init__(self, name):\n",
    "        self.name = name\n",
    "\n",
    "    @property\n",
    "    def name(self):\n",
    "        return self.name\n",
    "    \n",
    "    @name.setter\n",
    "    def name(self, value):\n",
    "        if not value:\n",
    "            raise ValueError(\"Name cannot be empty\")\n",
    "        self.name = value\n",
    "    \n",
    "person_1 = Person(\"Alice\")\n",
    "# person_1.name = \"Bob\"  # Changing the name attribute\n"
   ]
  },
  {
   "cell_type": "code",
   "execution_count": null,
   "id": "41b91e30",
   "metadata": {},
   "outputs": [],
   "source": []
  }
 ],
 "metadata": {
  "kernelspec": {
   "display_name": "venv",
   "language": "python",
   "name": "python3"
  },
  "language_info": {
   "codemirror_mode": {
    "name": "ipython",
    "version": 3
   },
   "file_extension": ".py",
   "mimetype": "text/x-python",
   "name": "python",
   "nbconvert_exporter": "python",
   "pygments_lexer": "ipython3",
   "version": "3.13.3"
  }
 },
 "nbformat": 4,
 "nbformat_minor": 5
}
