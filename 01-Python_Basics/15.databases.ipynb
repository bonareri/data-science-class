{
 "cells": [
  {
   "cell_type": "markdown",
   "id": "c929c10a",
   "metadata": {},
   "source": [
    "## Introduction to Databases\n",
    "- A database is an organized collection of data that is stored and managed electronically. \n",
    "- Databases are designed to store large amounts of information in a structured way, making it easy to retrieve, update and delete information efficiently and securely.\n",
    "- The data in a database is typically organized in tables composed of rows and columns. Each row represents a record, and each column represents a field in that record.\n",
    "- Databases are used in various applications, from simple personal data storage to complex systems like banking, e-commerce, and enterprise resource planning (ERP). \n",
    "- They provide the backbone for managing the data needed by software applications to function effectively.\n",
    "\n",
    "### Importance of Databases\n",
    "- Efficient Data Management: Databases organize and store large amounts of data efficiently, making retrieval and updates quick and easy.\n",
    "- Data Integrity: They ensure data is accurate and consistent through rules and transaction management.\n",
    "- Security: Databases protect data with access controls and encryption, ensuring only authorized users can view or modify it.\n",
    "- Data Retrieval: Using SQL and indexes, databases allow fast and precise data queries and searches.\n",
    "- Backup and Recovery: Automated backups and recovery options protect data from loss or corruption.\n",
    "- Concurrency Control: Databases manage simultaneous data access by multiple users without conflicts.\n",
    "- Data Relationships: They enable linking related data across tables, simplifying complex queries.\n",
    "- Data Redundancy: Databases minimize duplicate data and enforce consistency through normalization.\n",
    "- Reporting and Analytics: They support data analysis and reporting, aiding in informed decision-making.\n",
    "- Flexibility and Customization: Databases allow custom data structures and extend functionality with features like stored procedures.\n",
    "- Collaboration and Sharing: Centralized databases enable easy data sharing and consistent information across teams and applications.\n",
    "- Data Migration and Integration: They facilitate moving and integrating data between systems, ensuring smooth transitions."
   ]
  },
  {
   "cell_type": "markdown",
   "id": "715d0afc",
   "metadata": {},
   "source": [
    "### Types of Databases\n",
    "\n",
    "#### Relational Databases:\n",
    "- Data is stored in tables with rows and columns.\n",
    "- Tables can be linked (related) based on common data, and this relationship makes it easy to retrieve and manage the data using Structured Query Language (SQL).\n",
    "\n",
    "Examples:\n",
    "- SQLite: A lightweight, serverless, and self-contained relational database engine. It’s embedded in many applications, including browsers and mobile apps, and is ideal for applications with a smaller data footprint. It's built into Python\n",
    "- MySQL: Widely used in web development for applications like WordPress.\n",
    "- PostgreSQL: Known for its robustness and support for advanced features.\n",
    "- Oracle Database: Used in large enterprises for handling vast amounts of data.\n",
    "\n",
    "#### NoSQL Databases\n",
    "- Used for more flexible or unstructured data (e.g., JSON-like documents).\n",
    "\n",
    "Examples:\n",
    "\n",
    "- MongoDB\n",
    "- Firebase\n",
    "- Cassandra\n",
    "\n",
    "#### Object-Oriented Databases:\n",
    "\n",
    "- These databases store data in the form of objects, just like how we define objects in Object-Oriented Programming (OOP) in Python.\n",
    "- Each object includes both data and behavior (methods).\n",
    "- This type of database works best when you're building software in an OOP language and want a seamless way to store complex data.\n",
    "\n",
    "Use Case:\n",
    "- Storing structured data like customers, orders, shapes, or multimedia files in object form.\n",
    "- Games, simulations, or CAD systems where object properties and behaviors need to be stored together.\n",
    "\n",
    "Examples:\n",
    "- db4o: An object-oriented database for Java and .NET developers.\n",
    "- ObjectDB: A high-performance object database for Java.\n",
    "\n",
    "#### Graph Databases:\n",
    "- These databases store data using nodes, edges, and properties — just like a graph in math.\n",
    "    - Nodes = entities (like people)\n",
    "    - Edges = relationships (like “follows” or “friends with”)\n",
    "    - Properties = extra info (like age or city)\n",
    "- They're perfect when you want to model complex relationships.\n",
    "\n",
    "Use Case:\n",
    "- Social networks (e.g., who is connected to whom)\n",
    "- Fraud detection (tracking suspicious links)\n",
    "- Recommendation systems (suggesting friends, products)\n",
    "\n",
    "Examples:\n",
    "- Neo4j – The most popular graph database, widely used for relationship-heavy data.\n",
    "- Amazon Neptune – AWS-managed service for scalable graph applications.\n",
    "\n",
    "#### In-Memory Databases:\n",
    "\n",
    "- Instead of storing data on a hard disk, these databases keep everything in RAM (memory), making them extremely fast.\n",
    "- Since memory is faster than disk, these databases are used where speed and real-time performance are critical.\n",
    "\n",
    "Use Case:\n",
    "- Real-time analytics\n",
    "- High-frequency trading\n",
    "- Gaming leaderboards or session data\n",
    "- Caching frequently accessed data\n",
    "\n",
    "Examples:\n",
    "- SAP HANA – Used for enterprise-level real-time analytics.\n",
    "- Memcached – A caching system to speed up dynamic websites by storing frequently used data in memory.\n",
    "\n",
    "#### Cloud Databases:\n",
    "\n",
    "- These are databases that run on cloud platforms like AWS, Google Cloud, or Azure. You don’t have to manage the hardware or software — it’s all handled for you.\n",
    "- They offer scalability, automatic backups, and easy remote access.\n",
    "\n",
    "Use Case:\n",
    "- Web and mobile apps that need to scale quickly\n",
    "- Teams working remotely or globally\n",
    "- Startups that don’t want to manage their own database servers\n",
    "\n",
    " Examples:\n",
    "- Amazon RDS – A managed SQL database that supports MySQL, PostgreSQL, Oracle, and more.\n",
    "- Google Cloud Firestore – A NoSQL document database for building serverless mobile/web apps."
   ]
  },
  {
   "cell_type": "markdown",
   "id": "4d68b3e0",
   "metadata": {},
   "source": [
    "### Real-World Examples \n",
    "- Social Media Platforms: Databases are used to store user profiles, posts, comments, likes, and more. For instance, Facebook uses databases to manage billions of user records.\n",
    "- E-commerce Websites: Online stores like Amazon use databases to manage product inventories, customer orders, payment information, and shipment tracking.\n",
    "- Banking Systems: Banks use databases to track customer accounts, transactions, loans, and financial histories securely and accurately.\n",
    "- Healthcare Systems: Hospitals and clinics use databases to store patient records, treatment histories, medication prescriptions, and insurance information."
   ]
  },
  {
   "cell_type": "markdown",
   "id": "d04d91a9",
   "metadata": {},
   "source": [
    "###  Core Concepts in Relational Databases\n",
    "| Term            | Meaning                                              |\n",
    "| --------------- | ---------------------------------------------------- |\n",
    "| **Table**       | A set of rows and columns (like Excel sheets)        |\n",
    "| **Row**         | A single record (e.g., one student)                  |\n",
    "| **Column**      | A field of data (e.g., name, age, grade)             |\n",
    "| **Primary Key** | A unique identifier for each row                     |\n",
    "| **Foreign Key** | A link between tables (e.g., student to course)      |\n",
    "| **Query**       | A command to get or change data (`SELECT`, `INSERT`) |\n",
    "\n",
    "### Structured Query Language (SQL) \n",
    "- Structured Query Language (SQL) is the standard language for interacting with relational databases. \n",
    "- SQL allows you to perform various operations, including creating and managing tables, inserting and querying data, and even automating tasks with stored procedures and triggers.\n",
    "\n",
    "### Common SQL Commands\n",
    "| SQL Command    | What It Does                   |\n",
    "| -------------- | ------------------------------ |\n",
    "| `CREATE TABLE` | Create a new table             |\n",
    "| `INSERT INTO`  | Add data                       |\n",
    "| `SELECT`       | Retrieve data                  |\n",
    "| `UPDATE`       | Modify existing data           |\n",
    "| `DELETE`       | Remove data                    |\n",
    "| `WHERE`        | Add condition (filtering data) |"
   ]
  },
  {
   "cell_type": "markdown",
   "id": "b88ba42d",
   "metadata": {},
   "source": [
    "### Using SQLite in Python"
   ]
  },
  {
   "cell_type": "markdown",
   "id": "a51f04bf",
   "metadata": {},
   "source": [
    "#### 1. Import the Library"
   ]
  },
  {
   "cell_type": "code",
   "execution_count": 2,
   "id": "662a4ac8",
   "metadata": {},
   "outputs": [],
   "source": [
    "import sqlite3"
   ]
  },
  {
   "cell_type": "markdown",
   "id": "d55a5c00",
   "metadata": {},
   "source": [
    "#### 2. Create a New Database and Connect to It\n",
    "This creates a file called `school.db`:"
   ]
  },
  {
   "cell_type": "code",
   "execution_count": 3,
   "id": "66fc3b4e",
   "metadata": {},
   "outputs": [],
   "source": [
    "# Create or connect to the database\n",
    "conn = sqlite3.connect(\"school.db\")\n",
    "cursor = conn.cursor()"
   ]
  },
  {
   "cell_type": "markdown",
   "id": "b427403b",
   "metadata": {},
   "source": [
    "`conn = sqlite3.connect(\"school.db\")`\n",
    "- `sqlite3.connect()` is a function that connects Python to an SQLite database file.\n",
    "- `\"school.db\"` is the name of the database file you’re connecting to.\n",
    "    - If this file already exists, Python connects to it.\n",
    "    - If it doesn't exist, Python creates it automatically in the current directory.\n",
    "- `conn` is the connection object, which keeps the link between Python and the database open.\n",
    "\n",
    "`cursor = conn.cursor()`\n",
    "- A cursor is like a “control tool” that lets you execute SQL commands (like SELECT, INSERT, UPDATE, DELETE) on the database.\n",
    "- You need the cursor object to run any SQL queries.\n",
    "- Think of `conn` as the door to the database, and `cursor` as the pen that writes commands."
   ]
  },
  {
   "cell_type": "markdown",
   "id": "0408cb3a",
   "metadata": {},
   "source": [
    " #### 3. Create the students Table"
   ]
  },
  {
   "cell_type": "code",
   "execution_count": null,
   "id": "33706bf5",
   "metadata": {},
   "outputs": [],
   "source": [
    "# cursor.execute sends an SQL command to the database through the cursor\n",
    "cursor.execute(\"\"\"     \n",
    "CREATE TABLE IF NOT EXISTS students (\n",
    "    id INTEGER PRIMARY KEY AUTOINCREMENT,\n",
    "    first_name TEXT NOT NULL,\n",
    "    last_name TEXT NOT NULL,\n",
    "    age INTEGER,\n",
    "    grade TEXT,\n",
    "    email TEXT UNIQUE\n",
    ")\n",
    "\"\"\")\n",
    "conn.commit() #saves any changes made to the database permanently.\n"
   ]
  },
  {
   "cell_type": "markdown",
   "id": "c466c852",
   "metadata": {},
   "source": [
    "#### 4. Insert a Record into students"
   ]
  },
  {
   "cell_type": "code",
   "execution_count": 5,
   "id": "6cecd8a8",
   "metadata": {},
   "outputs": [],
   "source": [
    "cursor.execute(\"\"\"\n",
    "INSERT INTO students (first_name, last_name, age, grade, email)\n",
    "VALUES (?, ?, ?, ?, ?)\n",
    "\"\"\", (\"John\", \"Doe\", 15, \"10th\", \"john.doe@example.com\"))\n",
    "conn.commit()\n"
   ]
  },
  {
   "cell_type": "markdown",
   "id": "4cc189c6",
   "metadata": {},
   "source": [
    "#### 5. Select All Records (Read)"
   ]
  },
  {
   "cell_type": "code",
   "execution_count": 6,
   "id": "321ae90d",
   "metadata": {},
   "outputs": [
    {
     "name": "stdout",
     "output_type": "stream",
     "text": [
      "(1, 'John', 'Doe', 15, '10th', 'john.doe@example.com')\n"
     ]
    }
   ],
   "source": [
    "cursor.execute(\"SELECT * FROM students\")\n",
    "students = cursor.fetchall()\n",
    "\n",
    "for student in students:\n",
    "    print(student)\n"
   ]
  },
  {
   "cell_type": "markdown",
   "id": "1654ba90",
   "metadata": {},
   "source": [
    "#### 6. Update a Student’s Grade\n",
    "Update student with `id = 1`:"
   ]
  },
  {
   "cell_type": "code",
   "execution_count": 7,
   "id": "3220d647",
   "metadata": {},
   "outputs": [],
   "source": [
    "cursor.execute(\"\"\"\n",
    "UPDATE students\n",
    "SET grade = '11th'\n",
    "WHERE id = 1\n",
    "\"\"\")\n",
    "conn.commit()"
   ]
  },
  {
   "cell_type": "markdown",
   "id": "0f607faa",
   "metadata": {},
   "source": [
    "#### 7. Delete a Student Record\n",
    "Delete the student with `id = 1`:"
   ]
  },
  {
   "cell_type": "code",
   "execution_count": 8,
   "id": "9dc51722",
   "metadata": {},
   "outputs": [],
   "source": [
    "cursor.execute(\"DELETE FROM students WHERE id = 1\")\n",
    "conn.commit()"
   ]
  },
  {
   "cell_type": "markdown",
   "id": "0826e152",
   "metadata": {},
   "source": [
    "#### 8. Create a Second Table (courses) and Add a Foreign Key"
   ]
  },
  {
   "cell_type": "code",
   "execution_count": 9,
   "id": "ef005547",
   "metadata": {},
   "outputs": [],
   "source": [
    "cursor.execute(\"\"\"\n",
    "CREATE TABLE IF NOT EXISTS courses (\n",
    "    id INTEGER PRIMARY KEY AUTOINCREMENT,\n",
    "    student_id INTEGER,\n",
    "    course_name TEXT,\n",
    "    FOREIGN KEY(student_id) REFERENCES students(id)\n",
    ")\n",
    "\"\"\")\n",
    "conn.commit()"
   ]
  },
  {
   "cell_type": "markdown",
   "id": "08da9208",
   "metadata": {},
   "source": [
    "#### 9. Insert and Join Data from courses"
   ]
  },
  {
   "cell_type": "code",
   "execution_count": 10,
   "id": "b90e3661",
   "metadata": {},
   "outputs": [],
   "source": [
    "cursor.execute(\"INSERT INTO students (first_name, last_name, age, grade, email) VALUES (?, ?, ?, ?, ?)\", \n",
    "               (\"Alice\", \"Smith\", 16, \"10th\", \"alice.smith@example.com\"))\n",
    "\n",
    "cursor.execute(\"INSERT INTO courses (student_id, course_name) VALUES (?, ?)\",\n",
    "               (1, \"Mathematics\"))\n",
    "conn.commit()"
   ]
  },
  {
   "cell_type": "markdown",
   "id": "4bbc01f1",
   "metadata": {},
   "source": [
    "Perform a JOIN:"
   ]
  },
  {
   "cell_type": "code",
   "execution_count": 11,
   "id": "5b0808b4",
   "metadata": {},
   "outputs": [],
   "source": [
    "cursor.execute(\"\"\"\n",
    "SELECT students.first_name, students.last_name, courses.course_name\n",
    "FROM students\n",
    "JOIN courses ON students.id = courses.student_id\n",
    "\"\"\")\n",
    "\n",
    "for row in cursor.fetchall():\n",
    "    print(row)\n"
   ]
  },
  {
   "cell_type": "markdown",
   "id": "6231f6fb",
   "metadata": {},
   "source": [
    "#### 10. Close the Database Connection"
   ]
  },
  {
   "cell_type": "code",
   "execution_count": 12,
   "id": "e1e40d3e",
   "metadata": {},
   "outputs": [],
   "source": [
    "conn.close()"
   ]
  }
 ],
 "metadata": {
  "kernelspec": {
   "display_name": "venv",
   "language": "python",
   "name": "python3"
  },
  "language_info": {
   "codemirror_mode": {
    "name": "ipython",
    "version": 3
   },
   "file_extension": ".py",
   "mimetype": "text/x-python",
   "name": "python",
   "nbconvert_exporter": "python",
   "pygments_lexer": "ipython3",
   "version": "3.13.3"
  }
 },
 "nbformat": 4,
 "nbformat_minor": 5
}
