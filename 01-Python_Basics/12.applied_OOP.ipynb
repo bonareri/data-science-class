{
 "cells": [
  {
   "cell_type": "markdown",
   "id": "d6be0c00",
   "metadata": {},
   "source": [
    "### Special Methods in Python (a.k.a. Dunder Methods)\n",
    "\n",
    "Special methods in Python are built-in methods that start and end with double underscores (e.g., `__init__`, `__str__`).  \n",
    "They’re also known as **dunder methods** (short for *double underscore*) or **magic methods**.\n",
    "\n",
    "These methods define how objects behave with built-in Python operations such as printing, indexing, iteration, and arithmetic.\n",
    "\n",
    "---\n",
    "\n",
    "### Common Special Methods\n",
    "\n",
    "### 1. Object Initialization and Representation\n",
    "\n",
    "#### `__init__(self, ...)`\n",
    "- **Purpose**: Initializes a newly created object.\n",
    "- **Called when**: An object is created.\n"
   ]
  },
  {
   "cell_type": "code",
   "execution_count": null,
   "id": "47fbaa3c",
   "metadata": {},
   "outputs": [],
   "source": [
    "class Person:\n",
    "    def __init__(self, name, age):\n",
    "        self.name = name\n",
    "        self.age = age\n",
    "\n",
    "person_1 = Person(\"Alice\", 27)"
   ]
  },
  {
   "cell_type": "markdown",
   "id": "300dd129",
   "metadata": {},
   "source": [
    "#### `__str__(self)` -  Human-Readable Description\n",
    "- **Purpose:** Used when you print an object. It returns a string that’s easy to read and meant for users of your program.\n",
    "- **Called when:** The str() function or print() is used on the object."
   ]
  },
  {
   "cell_type": "code",
   "execution_count": 2,
   "id": "24fe6ca2",
   "metadata": {},
   "outputs": [
    {
     "data": {
      "text/plain": [
       "'Alice, Age: 30'"
      ]
     },
     "execution_count": 2,
     "metadata": {},
     "output_type": "execute_result"
    }
   ],
   "source": [
    "class Person:\n",
    "    def __init__(self, name, age):\n",
    "        self.name = name\n",
    "        self.age = age\n",
    "\n",
    "    def __str__(self):\n",
    "        return f\"{self.name}, Age: {self.age}\"\n",
    "\n",
    "person = Person(\"Alice\", 30)\n",
    "str(person)  "
   ]
  },
  {
   "cell_type": "markdown",
   "id": "45f3f8e7",
   "metadata": {},
   "source": [
    "`__repr__(self)` - Developer-Facing Description\n",
    "- Purpose: gives a technical string version of the object, helpful for debugging.\n",
    "- Called when: The repr() function is used or in an interactive session."
   ]
  },
  {
   "cell_type": "code",
   "execution_count": 3,
   "id": "0625b3a6",
   "metadata": {},
   "outputs": [
    {
     "data": {
      "text/plain": [
       "\"Person(name='Alice', age=30)\""
      ]
     },
     "execution_count": 3,
     "metadata": {},
     "output_type": "execute_result"
    }
   ],
   "source": [
    "class Person:\n",
    "    def __init__(self, name, age):\n",
    "        self.name = name\n",
    "        self.age = age\n",
    "\n",
    "    def __repr__(self):\n",
    "        return f\"Person(name='{self.name}', age={self.age})\"\n",
    "\n",
    "person = Person(\"Alice\", 30)\n",
    "repr(person)\n"
   ]
  },
  {
   "cell_type": "markdown",
   "id": "c7b850ae",
   "metadata": {},
   "source": [
    "#### 2. Object Comparison and Arithmetic\n",
    "`__eq__(self, other)` - Equality check (==)\n",
    "\n",
    "- Purpose: defines how two objects of your class are compared using the == operator.\n",
    "- Called when: == operator is used"
   ]
  },
  {
   "cell_type": "code",
   "execution_count": null,
   "id": "7d35ffcc",
   "metadata": {},
   "outputs": [
    {
     "name": "stdout",
     "output_type": "stream",
     "text": [
      "True\n"
     ]
    }
   ],
   "source": [
    "class Point:\n",
    "    def __init__(self, x, y):\n",
    "        self.x = x\n",
    "        self.y = y\n",
    "\n",
    "    def __eq__(self, other):\n",
    "        return self.x == other.x and self.y == other.y\n",
    "\n",
    "p1 = Point(2, 3)\n",
    "p2 = Point(2, 3)\n",
    "print(p1 == p2)  # Output: True"
   ]
  },
  {
   "cell_type": "markdown",
   "id": "02ed276e",
   "metadata": {},
   "source": [
    "- p1 == p2 checks if the x and y values are the same.\n",
    "- If `__eq__` was not defined, Python would say False even if values matched, unless they were the same object."
   ]
  },
  {
   "cell_type": "markdown",
   "id": "e864b651",
   "metadata": {},
   "source": [
    "`__ne__(self, other)`\n",
    "- Purpose: defines how two objects are compared using the != operator.\n",
    "- Called when: != operator is used"
   ]
  },
  {
   "cell_type": "code",
   "execution_count": 6,
   "id": "06f42a71",
   "metadata": {},
   "outputs": [
    {
     "name": "stdout",
     "output_type": "stream",
     "text": [
      "True\n"
     ]
    }
   ],
   "source": [
    "class Point:\n",
    "    def __init__(self, x, y):\n",
    "        self.x = x\n",
    "        self.y = y\n",
    "\n",
    "    def __ne__(self, other):\n",
    "        return not (self.x == other.x and self.y == other.y)\n",
    "\n",
    "p1 = Point(2, 3)\n",
    "p2 = Point(4, 5)\n",
    "print(p1 != p2)  # Output: True\n"
   ]
  },
  {
   "cell_type": "markdown",
   "id": "a9002a16",
   "metadata": {},
   "source": [
    "- self.x and self.y refer to the coordinates of the current object.\n",
    "- other.x and other.y refer to the coordinates of the object being compared to."
   ]
  },
  {
   "cell_type": "markdown",
   "id": "33acbc7a",
   "metadata": {},
   "source": [
    "`__lt__(self, other)`\n",
    "- Purpose: Less than comparison (<)\n",
    "- Called when: < operator is used"
   ]
  },
  {
   "cell_type": "code",
   "execution_count": 7,
   "id": "f14e56a6",
   "metadata": {},
   "outputs": [
    {
     "name": "stdout",
     "output_type": "stream",
     "text": [
      "True\n"
     ]
    }
   ],
   "source": [
    "class Number:\n",
    "    def __init__(self, value):\n",
    "        self.value = value\n",
    "\n",
    "    def __lt__(self, other):\n",
    "        return self.value < other.value\n",
    "\n",
    "n1 = Number(5)\n",
    "n2 = Number(10)\n",
    "print(n1 < n2)  # Output: True\n"
   ]
  },
  {
   "cell_type": "markdown",
   "id": "0c6733f2",
   "metadata": {},
   "source": [
    "`__add__(self, other)`\n",
    "- Purpose: Addition (+)\n",
    "- Called when: + operator is used"
   ]
  },
  {
   "cell_type": "code",
   "execution_count": 9,
   "id": "cae5ef83",
   "metadata": {},
   "outputs": [
    {
     "name": "stdout",
     "output_type": "stream",
     "text": [
      "Vector(4, 6)\n"
     ]
    }
   ],
   "source": [
    "class Vector:\n",
    "    def __init__(self, x, y):\n",
    "        self.x = x\n",
    "        self.y = y\n",
    "\n",
    "    def __add__(self, other):\n",
    "        return Vector(self.x + other.x, self.y + other.y)\n",
    "\n",
    "    def __repr__(self):\n",
    "        return f\"Vector({self.x}, {self.y})\"\n",
    "\n",
    "v1 = Vector(1, 2)\n",
    "v2 = Vector(3, 4)\n",
    "v3 = v1 + v2\n",
    "print(v3)  # Output: Vector(4, 6)\n"
   ]
  },
  {
   "cell_type": "markdown",
   "id": "aa8b5f48",
   "metadata": {},
   "source": [
    "### 3. Container Methods\n",
    "`__len__(self)`\n",
    "- Purpose: define what should be returned when someone calls the len() function on your custom object.\n",
    "- It allows you to control how length is calculated for objects you define using classes.\n",
    "- Called when: len() function is used"
   ]
  },
  {
   "cell_type": "code",
   "execution_count": null,
   "id": "d76e0b4f",
   "metadata": {},
   "outputs": [
    {
     "name": "stdout",
     "output_type": "stream",
     "text": [
      "3\n",
      "4\n"
     ]
    }
   ],
   "source": [
    "class Collection:\n",
    "    def __init__(self, items):\n",
    "        self.items = items\n",
    "\n",
    "    def __len__(self):\n",
    "        return len(self.items)\n",
    "\n",
    "coll = Collection([1, 2, 3])\n",
    "coll_2 = Collection([\"a\", \"b\", \"c\", \"d\"])\n",
    "print(len(coll)) \n",
    "print(len(coll_2))"
   ]
  },
  {
   "cell_type": "markdown",
   "id": "49d8e261",
   "metadata": {},
   "source": [
    "`__len__` allows your object to behave like a list (or string, or dictionary):\n",
    "\n",
    "If your class doesn't have the `__len__` method, and you try to call len() on an object of that class, Python will raise a TypeError.\n",
    "\n"
   ]
  },
  {
   "cell_type": "markdown",
   "id": "9b34b44e",
   "metadata": {},
   "source": [
    "`__getitem__(self, key)`\n",
    "- Purpose: allows indexing into your object — just like you do with lists, dictionaries, or strings.\n",
    "- Called when: accessing elements of your custom object using square brackets: obj[index]."
   ]
  },
  {
   "cell_type": "code",
   "execution_count": 11,
   "id": "4841ea82",
   "metadata": {},
   "outputs": [
    {
     "name": "stdout",
     "output_type": "stream",
     "text": [
      "20\n"
     ]
    }
   ],
   "source": [
    "class MyList:\n",
    "    def __init__(self, elements):\n",
    "        self.elements = elements\n",
    "\n",
    "    def __getitem__(self, index):\n",
    "        return self.elements[index]\n",
    "\n",
    "my_list = MyList([10, 20, 30])\n",
    "print(my_list[1])  # Output: 20\n"
   ]
  },
  {
   "cell_type": "markdown",
   "id": "e22ca618",
   "metadata": {},
   "source": [
    "#### 4. Object Lifecycle Methods\n",
    "`__del__(self)`\n",
    "\n",
    "- Purpose: gets called when an object is about to be destroyed — typically when there are no more references to it.\n",
    "- Called when: Object’s reference count drops to zero"
   ]
  },
  {
   "cell_type": "code",
   "execution_count": 12,
   "id": "ecaa79d4",
   "metadata": {},
   "outputs": [
    {
     "name": "stdout",
     "output_type": "stream",
     "text": [
      "Resource MyResource created.\n",
      "Resource MyResource destroyed.\n"
     ]
    }
   ],
   "source": [
    "class Resource:\n",
    "    def __init__(self, name):\n",
    "        self.name = name\n",
    "        print(f\"Resource {self.name} created.\")\n",
    "\n",
    "    def __del__(self):\n",
    "        print(f\"Resource {self.name} destroyed.\")\n",
    "\n",
    "res = Resource(\"MyResource\")\n",
    "del res  # Output: Resource MyResource destroyed.\n"
   ]
  },
  {
   "cell_type": "markdown",
   "id": "69041d04",
   "metadata": {},
   "source": [
    "### Object-Oriented Programming Principles\n",
    "OOP allows objects to interact with each other using four basic principles: encapsulation, inheritance, polymorphism, and abstraction. \n",
    "\n",
    "These four OOP principles enable objects to communicate and collaborate to create powerful applications."
   ]
  },
  {
   "cell_type": "markdown",
   "id": "d539d076",
   "metadata": {},
   "source": [
    "### Encapsulation in OOP\n",
    "- Encapsulation is the idea of wrapping data and the methods that work on data within one unit.\n",
    "- This puts restrictions on accessing variables and methods directly and can prevent the accidental modification of data. \n",
    "- To prevent accidental change, an object’s variable can only be changed by an object’s method. Those types of variables are known as `private variables.`\n",
    "-  The goal of information hiding is to ensure that an object’s state is always valid by controlling access to attributes that are hidden from the outside world."
   ]
  },
  {
   "cell_type": "markdown",
   "id": "cfdac33d",
   "metadata": {},
   "source": [
    "### Encapsulation Use Case: Bank Account Balance\n",
    "You don’t want your bank balance to be a piece of public information, right! This will be the case if the balance variable in the banking app is declared a public variable. And in this case, anyone could know your account balance. So, would you like it? Obviously, not!\n",
    "\n",
    "So, to avoid this case, developers declare the balance variable as private to keep the details safe so that no one can see your account balance. \n",
    "\n",
    "The person who wants to check his account balance will be authenticated. Only the authenticated users can access the private members defined inside that class. This private method would be an account verification method that will match your saved account number or userID and password in the database with the entered details (userID and password) for authentication. \n",
    "\n",
    "### Advantages of Encapsulation\n",
    "\n",
    "- Protects an object from unauthorized access\n",
    "- Prevents other classes from using the private members defined within the class\n",
    "- Prevents accidental data modification by using private and protected access levels \n",
    "- Helps to enhance security by keeping the code/logic safe from external inheritance. \n",
    "- Bundling data and methods within a class makes code more readable and maintainable"
   ]
  },
  {
   "cell_type": "markdown",
   "id": "e6c0a7ea",
   "metadata": {},
   "source": [
    "### Implementing Encapsulation in Python\n",
    "\n",
    "We will create a class Employee and add some attributes like name, ID, salary, project, etc. As per the requirement, let’s add two required features (methods) – show_sal() to print the salary and proj() to print the project working on."
   ]
  },
  {
   "cell_type": "code",
   "execution_count": 15,
   "id": "7ce41825",
   "metadata": {},
   "outputs": [
    {
     "name": "stdout",
     "output_type": "stream",
     "text": [
      "Name:  James Salary: 100000\n",
      "James is working on Python\n"
     ]
    }
   ],
   "source": [
    "class Employee:\n",
    "    # constructor\n",
    "    def __init__(self, name, id, salary, project):\n",
    "        # data members\n",
    "        self.name = name\n",
    "        self.id = id\n",
    "        self.salary = salary\n",
    "        self.project = project\n",
    "    # method to print employee's details\n",
    "    def show_sal(self):\n",
    "        # accessing public data member\n",
    "        print(\"Name: \", self.name, 'Salary:', self.salary)\n",
    "    def proj(self):\n",
    "        print(self.name, 'is working on', self.project)\n",
    "# creating object of a class\n",
    "emp_1 = Employee('James', 102, 100000, 'Python')\n",
    "# calling public method of the class\n",
    "emp_1.show_sal()\n",
    "emp_1.proj()"
   ]
  },
  {
   "cell_type": "markdown",
   "id": "5e72dd49",
   "metadata": {},
   "source": [
    "- Now let’s use Encapsulation to hide an object’s internal representation from the outside and make things secure. \n",
    "- Encapsulation is achieved by declaring a class’s data members and methods as either private or protected.\n",
    "- But in Python, we do not have keywords like public, private, and protected, as in the case of Java.\n",
    "- Instead, we achieve this by using single and double underscores.\n",
    "- Access modifiers are used to limit access to the variables and methods of a class. \n",
    "- Python provides three types of access modifiers public, private, and protected.\n",
    "\n",
    "    - Public Member: Accessible anywhere from outside the class.\n",
    "    - Private Member: Accessible within the class.\n",
    "    - Protected Member: Accessible within the class and its sub-classes."
   ]
  },
  {
   "cell_type": "code",
   "execution_count": 16,
   "id": "608baaa6",
   "metadata": {},
   "outputs": [],
   "source": [
    "class Employee:\n",
    "    # constructor\n",
    "    def __init__(self, name,id, salary, project):\n",
    "        # data members\n",
    "        self.name = name     #Public (accessible from outside and inside the class)\n",
    "        self.id = id                 #Public\n",
    "        self._project = project   #Protected (accessible within the class and its subclass)\n",
    "        self.__salary = salary  #Private (accessible only inside the class it is declared)"
   ]
  },
  {
   "cell_type": "markdown",
   "id": "7c7063bf",
   "metadata": {},
   "source": [
    "#### Public Member\n",
    "\n",
    "Public Members can be accessed from outside and within the class. Making it easy to access by all. By default, all the member variables of the class are public."
   ]
  },
  {
   "cell_type": "code",
   "execution_count": 17,
   "id": "f2f5b5bf",
   "metadata": {},
   "outputs": [
    {
     "name": "stdout",
     "output_type": "stream",
     "text": [
      "Name:  James Salary: 100000\n"
     ]
    }
   ],
   "source": [
    "class Employee:\n",
    "    # constructor\n",
    "    def __init__(self, name, salary):\n",
    "        # public data members\n",
    "        self.name = name\n",
    "        self.salary = salary\n",
    "    # public instance methods\n",
    "    def show_sal(self):\n",
    "        # accessing public data member\n",
    "        print(\"Name: \", self.name, 'Salary:', self.salary)\n",
    "# creating object of a class\n",
    "emp_1 = Employee('James', 100000)\n",
    " # accessing public data members\n",
    "print(\"Name: \", emp_1.name, 'Salary:', emp_1.salary)"
   ]
  },
  {
   "cell_type": "markdown",
   "id": "3e66e04e",
   "metadata": {},
   "source": [
    "#### Private Member\n",
    "\n",
    "We can protect variables in the class by marking them private. To make any variable a private just add two underscores as a prefix at the start of its name. For example,  __salary.\n",
    "\n",
    "Private members are accessible only within the class and cannot be accessed from the objects of the class."
   ]
  },
  {
   "cell_type": "code",
   "execution_count": 20,
   "id": "a49d47bb",
   "metadata": {},
   "outputs": [
    {
     "ename": "AttributeError",
     "evalue": "'Employee' object has no attribute '__salary'",
     "output_type": "error",
     "traceback": [
      "\u001b[31m---------------------------------------------------------------------------\u001b[39m",
      "\u001b[31mAttributeError\u001b[39m                            Traceback (most recent call last)",
      "\u001b[36mCell\u001b[39m\u001b[36m \u001b[39m\u001b[32mIn[20]\u001b[39m\u001b[32m, line 11\u001b[39m\n\u001b[32m      9\u001b[39m emp = Employee(\u001b[33m'\u001b[39m\u001b[33mJames\u001b[39m\u001b[33m'\u001b[39m, \u001b[32m100000\u001b[39m)\n\u001b[32m     10\u001b[39m  \u001b[38;5;66;03m# accessing private data members\u001b[39;00m\n\u001b[32m---> \u001b[39m\u001b[32m11\u001b[39m \u001b[38;5;28mprint\u001b[39m(\u001b[33m'\u001b[39m\u001b[33mSalary:\u001b[39m\u001b[33m'\u001b[39m, \u001b[43memp\u001b[49m\u001b[43m.\u001b[49m\u001b[43m__salary\u001b[49m)\n",
      "\u001b[31mAttributeError\u001b[39m: 'Employee' object has no attribute '__salary'"
     ]
    }
   ],
   "source": [
    "class Employee:\n",
    "    # constructor\n",
    "    def __init__(self, name, salary):\n",
    "        # public data member\n",
    "        self.name = name\n",
    "        # private member\n",
    "        self.__salary = salary\n",
    " # creating object of a class\n",
    "emp = Employee('James', 100000)\n",
    " # accessing private data members\n",
    "print('Salary:', emp.__salary)"
   ]
  },
  {
   "cell_type": "markdown",
   "id": "b4cde291",
   "metadata": {},
   "source": [
    "The output of the above code will throw an error, since we are trying to access a private variable that is hidden from the outside."
   ]
  },
  {
   "cell_type": "markdown",
   "id": "be8a2f16",
   "metadata": {},
   "source": [
    "### How to Access Private Members\n",
    "\n",
    "Add private members inside a public method\n",
    "\n",
    "You can declare a public method inside the class which uses a private member and call the public method containing a private member outside the class."
   ]
  },
  {
   "cell_type": "code",
   "execution_count": 21,
   "id": "1313fa97",
   "metadata": {},
   "outputs": [
    {
     "name": "stdout",
     "output_type": "stream",
     "text": [
      "Name:  James Salary: 100000\n"
     ]
    }
   ],
   "source": [
    "class Employee:\n",
    "    # constructor\n",
    "    def __init__(self, name, salary):\n",
    "        # public data member\n",
    "        self.name = name\n",
    "        # private member\n",
    "        self.__salary = salary\n",
    "    # public instance methods\n",
    "    def show_sal(self):\n",
    "        # private members are accessible from a class\n",
    "        print(\"Name: \", self.name, 'Salary:', self.__salary)\n",
    "# creating an object of a class\n",
    "emp = Employee('James', 100000)\n",
    "# calling public method of the class\n",
    "emp.show_sal()"
   ]
  },
  {
   "cell_type": "markdown",
   "id": "1c2cb74a",
   "metadata": {},
   "source": [
    "### Protected Member\n",
    "\n",
    "Protected members are accessible within the class and also available to its sub-classes. To define a protected member, prefix the member name with a single underscore. For example, _project. This makes the project a protected variable that can be accessed only by the child class."
   ]
  },
  {
   "cell_type": "code",
   "execution_count": 23,
   "id": "2c4ef912",
   "metadata": {},
   "outputs": [
    {
     "name": "stdout",
     "output_type": "stream",
     "text": [
      "Employee name : James\n",
      "Working on project : Python\n",
      "Project: Python\n"
     ]
    }
   ],
   "source": [
    "# base class\n",
    "class Company:\n",
    "    def __init__(self):\n",
    "        # Protected member\n",
    "        self._project = \"Python\"\n",
    "\n",
    " # child class\n",
    "class Employee(Company):\n",
    "    def __init__(self, name):\n",
    "        self.name = name\n",
    "        Company.__init__(self)\n",
    "    def show_proj(self):\n",
    "        print(\"Employee name :\", self.name)\n",
    "        # Accessing protected member in child class\n",
    "        print(\"Working on project :\", self._project)\n",
    "c = Employee(\"James\")\n",
    "c.show_proj()\n",
    " # Direct access protected data member\n",
    "print('Project:', c._project)"
   ]
  },
  {
   "cell_type": "markdown",
   "id": "b14a80b5",
   "metadata": {},
   "source": [
    "### Abstraction in OOP\n",
    "\n",
    "Abstraction means hiding complex implementation details and showing only the essential features of an object.\n",
    "\n",
    "In simple terms:\n",
    "\n",
    "`\"You only show what an object does, not how it does it.\"`\n",
    "\n",
    "It allows users to interact with objects without worrying about the intricate workings behind the scenes.\n",
    "\n",
    "### Abstraction in Real World\n",
    "We all use the social platforms and contact our friends, chat, share images etc., but we don’t know how these operations are happening in the background.That is exactly the abstraction that works in the OOP.\n",
    "\n",
    "Think about driving a car:\n",
    "\n",
    "You just press the accelerator to move the car.\n",
    "\n",
    "You don't need to know how the engine works internally.\n",
    "\n",
    "### Importance of Abstraction\n",
    "- Makes code easier to understand and maintain\n",
    "- Reduces redundancy in code\n",
    "- Improves scalability\n",
    "- Allows developers to focus on important aspects of programming, such as efficiency or scalability\n",
    "- Helps developers create shorter, more efficient programs with fewer lines of code that are easier to debug.\n",
    "- Makes software easier to maintain by allowing changes only to be made in one place instead of multiple locations within the program."
   ]
  },
  {
   "cell_type": "markdown",
   "id": "f9cb4429",
   "metadata": {},
   "source": [
    "### Achieving Abstraction\n",
    "In Python, abstraction is done using:\n",
    "- Abstract Base Classes (ABC)\n",
    "- Abstract Methods\n",
    "\n",
    "And to do that, we use Python's built-in abc module, which stands for Abstract Base Classes.\n",
    "\n",
    "ABC stands for Abstract Base Class.\n",
    "- It’s a special type of class in Python that cannot be instantiated (you can’t create an object directly from it).\n",
    "- It acts like a blueprint for other classes.\n",
    "- It often contains one or more abstract methods that must be defined in any subclass.\n",
    "\n",
    "Abstract Method?\n",
    "- An abstract method is a method without a body (no actual code inside it) that is declared in an abstract base class.\n",
    "- You define it using the @abstractmethod decorator.\n",
    "- Any class that inherits from the ABC must implement the abstract method, or Python will raise an error."
   ]
  },
  {
   "cell_type": "markdown",
   "id": "7ea6c566",
   "metadata": {},
   "source": [
    "### Step 1: Import the abc Module\n",
    "You start by importing two things from the abc module:"
   ]
  },
  {
   "cell_type": "code",
   "execution_count": 5,
   "id": "7d5aeb06",
   "metadata": {},
   "outputs": [],
   "source": [
    "from abc import ABC, abstractmethod"
   ]
  },
  {
   "cell_type": "markdown",
   "id": "c042de98",
   "metadata": {},
   "source": [
    "- ABC: This is the base class that makes a class abstract.\n",
    "- @abstractmethod: This is a decorator that marks a method as abstract, meaning it has no implementation yet."
   ]
  },
  {
   "cell_type": "markdown",
   "id": "05f85ea3",
   "metadata": {},
   "source": [
    "### Step 2: Create an Abstract Base Class\n",
    "An abstract class is a blueprint. It may contain one or more abstract methods (methods with no body) that must be implemented in any subclass."
   ]
  },
  {
   "cell_type": "code",
   "execution_count": 25,
   "id": "f7c7ede0",
   "metadata": {},
   "outputs": [],
   "source": [
    "class Animal(ABC):\n",
    "    @abstractmethod\n",
    "    def make_sound(self):\n",
    "        pass"
   ]
  },
  {
   "cell_type": "markdown",
   "id": "78e8d083",
   "metadata": {},
   "source": [
    "Explanation:\n",
    "\n",
    "- class Animal(ABC): This defines Animal as an abstract class by inheriting from ABC.\n",
    "- @abstractmethod: This tells Python that make_sound is abstract and must be implemented in any subclass.\n",
    "- pass: The method has no body—just a placeholder."
   ]
  },
  {
   "cell_type": "markdown",
   "id": "9d6b05f1",
   "metadata": {},
   "source": [
    "### Step 3: Inherit and Implement the Abstract Method in a Subclass"
   ]
  },
  {
   "cell_type": "code",
   "execution_count": 26,
   "id": "6a28b05c",
   "metadata": {},
   "outputs": [],
   "source": [
    "class Dog(Animal):\n",
    "    def make_sound(self):\n",
    "        return \"Bark\""
   ]
  },
  {
   "cell_type": "markdown",
   "id": "05491460",
   "metadata": {},
   "source": [
    "Explanation:\n",
    "\n",
    "- The class Dog inherits from Animal.\n",
    "- It provides a concrete implementation of the make_sound method.\n",
    "- If you do not implement all abstract methods in the subclass, Python will give you an error.\n",
    "\n"
   ]
  },
  {
   "cell_type": "markdown",
   "id": "4cd3f33f",
   "metadata": {},
   "source": [
    "### Step 4: Try to Create an Object"
   ]
  },
  {
   "cell_type": "code",
   "execution_count": 27,
   "id": "2028db6e",
   "metadata": {},
   "outputs": [
    {
     "name": "stdout",
     "output_type": "stream",
     "text": [
      "Bark\n"
     ]
    }
   ],
   "source": [
    "d = Dog()\n",
    "print(d.make_sound()) "
   ]
  },
  {
   "cell_type": "markdown",
   "id": "e6f1831c",
   "metadata": {},
   "source": [
    "Works fine because Dog implemented make_sound.\n",
    "\n",
    "But this won’t work:"
   ]
  },
  {
   "cell_type": "code",
   "execution_count": null,
   "id": "ed6342cb",
   "metadata": {},
   "outputs": [],
   "source": [
    "a = Animal()  # ❌ Error: Can't instantiate abstract class"
   ]
  },
  {
   "cell_type": "markdown",
   "id": "c80c88bc",
   "metadata": {},
   "source": [
    "### Polymorphism\n",
    "- Polymorphism is defined as the circumstance of occurring in several forms.\n",
    "- Polymorphism is made from 2 words – ‘poly‘ and ‘morphs.’ The word ‘poly’ means ‘many’ and ‘morphs’ means ‘many forms.’ \n",
    "- Polymorphism, in a nutshell, means having multiple forms. \n",
    "- polymorphism allows different classes to be treated as if they were the same type, even if they behave differently.\n",
    "\n",
    "#### Example in Real Life:\n",
    "Imagine a function called make_sound():\n",
    "\n",
    "- A Dog might bark\n",
    "- A Cat might meow\n",
    "- A Cow might moo\n",
    "\n",
    "But we can call the same method (make_sound) on each animal, and it does the right thing for each one."
   ]
  },
  {
   "cell_type": "markdown",
   "id": "266ad838",
   "metadata": {},
   "source": [
    "### Types of Polymorphism in Python\n",
    "#### 1. Duck Typing (Informal Polymorphism)\n",
    "Python uses duck typing — “If it walks like a duck and quacks like a duck, it’s a duck.”"
   ]
  },
  {
   "cell_type": "code",
   "execution_count": null,
   "id": "ba582ee0",
   "metadata": {},
   "outputs": [],
   "source": [
    "class Dog:\n",
    "    def speak(self):\n",
    "        return \"Bark!\"\n",
    "\n",
    "class Cat:\n",
    "    def speak(self):\n",
    "        return \"Meow!\"\n",
    "\n",
    "def animal_sound(animal):\n",
    "    print(animal.speak())\n",
    "\n",
    "dog = Dog()\n",
    "cat = Cat()\n",
    "\n",
    "animal_sound(dog)  # Output: Bark!\n",
    "animal_sound(cat)  # Output: Meow!"
   ]
  },
  {
   "cell_type": "markdown",
   "id": "5c9d6a63",
   "metadata": {},
   "source": [
    "Even though Dog and Cat are different types, Python doesn't care — as long as they both have a speak() method."
   ]
  },
  {
   "cell_type": "markdown",
   "id": "f85a12e7",
   "metadata": {},
   "source": [
    "### 2. Method Overriding (Polymorphism with Inheritance)\n",
    "When a child class redefines a method from its parent class."
   ]
  },
  {
   "cell_type": "code",
   "execution_count": 28,
   "id": "93e2d703",
   "metadata": {},
   "outputs": [
    {
     "name": "stdout",
     "output_type": "stream",
     "text": [
      "Bark\n",
      "Meow\n"
     ]
    }
   ],
   "source": [
    "class Animal:\n",
    "    def speak(self):\n",
    "        return \"Some sound\"\n",
    "\n",
    "class Dog(Animal):\n",
    "    def speak(self):\n",
    "        return \"Bark\"\n",
    "\n",
    "class Cat(Animal):\n",
    "    def speak(self):\n",
    "        return \"Meow\"\n",
    "\n",
    "animals = [Dog(), Cat()]\n",
    "for animal in animals:\n",
    "    print(animal.speak())\n"
   ]
  },
  {
   "cell_type": "markdown",
   "id": "2fadf998",
   "metadata": {},
   "source": [
    "### 3. Polymorphism in Functions or Loops"
   ]
  },
  {
   "cell_type": "code",
   "execution_count": 29,
   "id": "fe071bb4",
   "metadata": {},
   "outputs": [
    {
     "name": "stdout",
     "output_type": "stream",
     "text": [
      "78.5\n",
      "16\n"
     ]
    }
   ],
   "source": [
    "class Circle:\n",
    "    def area(self):\n",
    "        return 3.14 * 5 * 5\n",
    "\n",
    "class Square:\n",
    "    def area(self):\n",
    "        return 4 * 4\n",
    "\n",
    "shapes = [Circle(), Square()]\n",
    "\n",
    "for shape in shapes:\n",
    "    print(shape.area())\n"
   ]
  },
  {
   "cell_type": "markdown",
   "id": "41effaa1",
   "metadata": {},
   "source": [
    "### Benefits of Polymorphism\n",
    "\n",
    "| Benefit              | Description                                                                                        |\n",
    "| -------------------- | -------------------------------------------------------------------------------------------------- |\n",
    "| **Code Reusability** | Write one function that works for many types.                                                      |\n",
    "| **Scalability**      | Easy to add new types without changing existing code.                                              |\n",
    "| **Cleaner Code**     | No need for multiple if-else statements to check types.                                            |\n",
    "| **Flexibility**      | Functions can work on objects from different classes as long as they follow the expected behavior. |\n"
   ]
  },
  {
   "cell_type": "markdown",
   "id": "02685f92",
   "metadata": {},
   "source": [
    "### Inheritance in OOP\n",
    "Inheritance is an Object-Oriented Programming (OOP) concept that allows a class (child) to inherit properties and behaviors (attributes and methods) from another class (parent).\n",
    "\n",
    "It promotes code reuse and establishes a natural hierarchy.\n",
    "\n",
    "### Why Use Inheritance?\n",
    "- Avoid code duplication: Define common features in one place.\n",
    "- Build hierarchies: e.g., a Dog is an Animal, a Car is a Vehicle.\n",
    "- Enhance functionality: A child class can extend or override parent behavior.\n",
    "\n",
    "Basic Syntax"
   ]
  },
  {
   "cell_type": "code",
   "execution_count": 30,
   "id": "b32de56e",
   "metadata": {},
   "outputs": [
    {
     "name": "stdout",
     "output_type": "stream",
     "text": [
      "Hello from the Parent class!\n"
     ]
    }
   ],
   "source": [
    "class Parent:\n",
    "    def greet(self):\n",
    "        print(\"Hello from the Parent class!\")\n",
    "\n",
    "class Child(Parent):\n",
    "    pass\n",
    "\n",
    "c = Child()\n",
    "c.greet()  # Inherited from Parent\n"
   ]
  },
  {
   "cell_type": "markdown",
   "id": "9d5d2260",
   "metadata": {},
   "source": [
    "### Example: Inheriting and Overriding"
   ]
  },
  {
   "cell_type": "code",
   "execution_count": 31,
   "id": "2e286b6e",
   "metadata": {},
   "outputs": [
    {
     "name": "stdout",
     "output_type": "stream",
     "text": [
      "Bark\n",
      "Meow\n"
     ]
    }
   ],
   "source": [
    "class Animal:\n",
    "    def sound(self):\n",
    "        print(\"Some generic animal sound\")\n",
    "\n",
    "class Dog(Animal):\n",
    "    def sound(self):\n",
    "        print(\"Bark\")\n",
    "\n",
    "class Cat(Animal):\n",
    "    def sound(self):\n",
    "        print(\"Meow\")\n",
    "\n",
    "# Using the classes\n",
    "d = Dog()\n",
    "c = Cat()\n",
    "\n",
    "d.sound()  # Bark\n",
    "c.sound()  # Meow\n"
   ]
  },
  {
   "cell_type": "markdown",
   "id": "12a3cb2a",
   "metadata": {},
   "source": [
    "### Types of Inheritance in Python\n",
    "\n",
    "| Type             | Description                                 |\n",
    "| ---------------- | ------------------------------------------- |\n",
    "| **Single**       | One parent, one child class                 |\n",
    "| **Multiple**     | Child inherits from multiple parent classes |\n",
    "| **Multilevel**   | Inheritance in a chain (A → B → C)          |\n",
    "| **Hierarchical** | One parent, multiple children               |"
   ]
  },
  {
   "cell_type": "markdown",
   "id": "13d1a0c1",
   "metadata": {},
   "source": [
    "Single Inheritance"
   ]
  },
  {
   "cell_type": "code",
   "execution_count": 32,
   "id": "d0260f85",
   "metadata": {},
   "outputs": [
    {
     "name": "stdout",
     "output_type": "stream",
     "text": [
      "Starting engine...\n",
      "Driving the car.\n"
     ]
    }
   ],
   "source": [
    "class Vehicle:\n",
    "    def start(self):\n",
    "        print(\"Starting engine...\")\n",
    "\n",
    "class Car(Vehicle):\n",
    "    def drive(self):\n",
    "        print(\"Driving the car.\")\n",
    "\n",
    "c = Car()\n",
    "c.start()  # Inherited\n",
    "c.drive()  # Defined in Car\n"
   ]
  },
  {
   "cell_type": "markdown",
   "id": "573a429e",
   "metadata": {},
   "source": [
    "Multilevel Inheritance"
   ]
  },
  {
   "cell_type": "code",
   "execution_count": 33,
   "id": "8085139d",
   "metadata": {},
   "outputs": [
    {
     "name": "stdout",
     "output_type": "stream",
     "text": [
      "Hi from grandparent\n"
     ]
    }
   ],
   "source": [
    "class Grandparent:\n",
    "    def say_hi(self):\n",
    "        print(\"Hi from grandparent\")\n",
    "\n",
    "class Parent(Grandparent):\n",
    "    pass\n",
    "\n",
    "class Child(Parent):\n",
    "    pass\n",
    "\n",
    "c = Child()\n",
    "c.say_hi()\n"
   ]
  },
  {
   "cell_type": "markdown",
   "id": "d5669069",
   "metadata": {},
   "source": [
    "Multiple Inheritance"
   ]
  },
  {
   "cell_type": "code",
   "execution_count": 34,
   "id": "4f3edfe3",
   "metadata": {},
   "outputs": [
    {
     "name": "stdout",
     "output_type": "stream",
     "text": [
      "Programming\n"
     ]
    }
   ],
   "source": [
    "class Father:\n",
    "    def skills(self):\n",
    "        print(\"Programming\")\n",
    "\n",
    "class Mother:\n",
    "    def skills(self):\n",
    "        print(\"Cooking\")\n",
    "\n",
    "class Child(Father, Mother):\n",
    "    pass\n",
    "\n",
    "c = Child()\n",
    "c.skills()  # Output depends on order (Father → Mother)\n"
   ]
  },
  {
   "cell_type": "markdown",
   "id": "c5146f91",
   "metadata": {},
   "source": [
    "Using super()\n",
    "\n",
    "The super() function is used to call the parent class’s method."
   ]
  },
  {
   "cell_type": "code",
   "execution_count": 35,
   "id": "cae7778a",
   "metadata": {},
   "outputs": [],
   "source": [
    "class Person:\n",
    "    def __init__(self, name):\n",
    "        self.name = name\n",
    "\n",
    "class Student(Person):\n",
    "    def __init__(self, name, student_id):\n",
    "        super().__init__(name)  # calls Person's __init__\n",
    "        self.student_id = student_id\n"
   ]
  }
 ],
 "metadata": {
  "kernelspec": {
   "display_name": "venv",
   "language": "python",
   "name": "python3"
  },
  "language_info": {
   "codemirror_mode": {
    "name": "ipython",
    "version": 3
   },
   "file_extension": ".py",
   "mimetype": "text/x-python",
   "name": "python",
   "nbconvert_exporter": "python",
   "pygments_lexer": "ipython3",
   "version": "3.13.3"
  }
 },
 "nbformat": 4,
 "nbformat_minor": 5
}
