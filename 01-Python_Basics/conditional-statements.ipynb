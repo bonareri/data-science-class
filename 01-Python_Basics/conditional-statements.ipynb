{
 "cells": [
  {
   "cell_type": "markdown",
   "id": "07a3d694",
   "metadata": {},
   "source": [
    "### Control Flow in Python\n",
    "\n",
    "Python provides tools to **control the flow of your program** using **conditional statements** and **loops**. These help your code make decisions and repeat actions.\n",
    "\n",
    "---\n",
    "\n",
    "#### 1. Conditional Statements\n",
    "\n",
    "Conditional statements let your program choose different actions depending on conditions.\n",
    "\n",
    "##### Basic `if` Statement\n",
    "\n",
    "The boolean expression after the <code>if</code> statement is called the <em>condition</em>. We end the <code>if</code> statement with a colon character (:) and the line(s) after the if statement are indented.\n",
    "<figure><img src=\"https://www.py4e.com/images/if.svg\" alt=\"If Logic\" /><figcaption>If Logic</figcaption></figure>\n",
    "If the logical condition is true, then the indented statement gets executed. If the logical condition is false, the indented statement is skipped.\n"
   ]
  },
  {
   "cell_type": "code",
   "execution_count": 3,
   "id": "8bb2e220",
   "metadata": {},
   "outputs": [],
   "source": [
    "age = 10\n",
    "\n",
    "if age >= 18:\n",
    "    print(\"You are an adult\")"
   ]
  },
  {
   "cell_type": "code",
   "execution_count": 11,
   "id": "ef534447",
   "metadata": {},
   "outputs": [
    {
     "name": "stdout",
     "output_type": "stream",
     "text": [
      "The number is odd\n"
     ]
    }
   ],
   "source": [
    "num = 5\n",
    "\n",
    "if num % 2 == 0:\n",
    "    print(\"The number is even\")\n",
    "else:\n",
    "    print(\"The number is odd\")"
   ]
  },
  {
   "cell_type": "markdown",
   "id": "a1a0c295",
   "metadata": {},
   "source": [
    "<figure><img src=\"https://www.py4e.com/images/if-else.svg\" alt=\"If-Then-Else Logic\" /><figcaption>If-Then-Else Logic</figcaption></figure>\n",
    "Since the condition must either be true or false, exactly one of the alternatives will be executed. The alternatives are called <em>branches</em>, because they are branches in the flow of execution.\n",
    "<h2 id=\"chained-conditionals\">Chained conditionals</h2>\n",
    "Sometimes there are more than two possibilities and we need more than two branches. One way to express a computation like that is a <em>chained conditional</em>:\n",
    "<pre class=\"python\"><code>if x &lt; y:\n",
    "    print('x is less than y')\n",
    "elif x &gt; y:\n",
    "    print('x is greater than y')\n",
    "else:\n",
    "    print('x and y are equal')</code></pre>\n",
    "<code>elif</code> is an abbreviation of “else if.” Again, exactly one branch will be executed.\n",
    "<figure><img src=\"https://www.py4e.com/images/elif.svg\" alt=\"If-Then-ElseIf Logic\" /><figcaption>If-Then-ElseIf Logic</figcaption></figure>\n",
    "There is no limit on the number of <code>elif</code> statements. If there is an <code>else</code> clause, it has to be at the end, but there doesn’t have to be one.\n",
    "\n",
    "&nbsp;\n",
    "<pre class=\"python\"><code>if choice == 'a':\n",
    "    print('Bad guess')\n",
    "elif choice == 'b':\n",
    "    print('Good guess')\n",
    "elif choice == 'c':\n",
    "    print('Close, but not correct')</code></pre>\n",
    "Each condition is checked in order. If the first is false, the next is checked, and so on. If one of them is true, the corresponding branch executes, and the statement ends. Even if more than one condition is true, only the first true branch executes."
   ]
  },
  {
   "cell_type": "code",
   "execution_count": 12,
   "id": "86b262e3",
   "metadata": {},
   "outputs": [
    {
     "name": "stdout",
     "output_type": "stream",
     "text": [
      "Grade: C\n"
     ]
    }
   ],
   "source": [
    "score = 75\n",
    "\n",
    "if score >= 90:\n",
    "    print(\"Grade: A\")\n",
    "elif score >= 80:\n",
    "    print(\"Grade: B\")\n",
    "elif score >= 70:\n",
    "    print(\"Grade: C\")\n",
    "else:\n",
    "    print(\"Grade: F\")"
   ]
  },
  {
   "cell_type": "markdown",
   "id": "75c5f794",
   "metadata": {},
   "source": [
    "## Extended If Statements\n",
    "<h2 id=\"nested-conditionals\">Nested conditionals</h2>\n",
    "One conditional can also be nested within another. We could have written the three-branch example like this:\n",
    "<pre class=\"python\"><code>if x == y:\n",
    "    print('x and y are equal')\n",
    "else:\n",
    "    if x &lt; y:\n",
    "        print('x is less than y')\n",
    "    else:\n",
    "        print('x is greater than y')</code></pre>\n",
    "The outer conditional contains two branches. The first branch contains a simple statement. The second branch contains another <code>if</code> statement, which has two branches of its own. Those two branches are both simple statements, although they could have been conditional statements as well.\n",
    "<figure><img src=\"https://www.py4e.com/images/nested.svg\" alt=\"Nested If Statements\" /><figcaption>Nested If Statements</figcaption></figure>\n",
    "Although the indentation of the statements makes the structure apparent, <em>nested conditionals</em> become difficult to read very quickly. In general, it is a good idea to avoid them when you can.\n",
    "\n",
    "Logical operators often provide a way to simplify nested conditional statements. For example, we can rewrite the following code using a single conditional:\n",
    "<pre class=\"python\"><code>if 0 &lt; x:\n",
    "    if x &lt; 10:\n",
    "        print('x is a positive single-digit number.')</code></pre>\n",
    "The <code>print</code> statement is executed only if we make it past both conditionals, so we can get the same effect with the <code>and</code> operator:\n",
    "<pre class=\"python\"><code>if 0 &lt; x and x &lt; 10:\n",
    "    print('x is a positive single-digit number.')</code></pre>"
   ]
  },
  {
   "cell_type": "code",
   "execution_count": 23,
   "id": "72f68b48",
   "metadata": {},
   "outputs": [
    {
     "name": "stdout",
     "output_type": "stream",
     "text": [
      "5 is a positive single-digit number\n"
     ]
    }
   ],
   "source": [
    "x = 5\n",
    "if 0 < x:\n",
    "    if x < 10:\n",
    "        print(f\"{x} is a positive single-digit number\")"
   ]
  },
  {
   "cell_type": "code",
   "execution_count": 24,
   "id": "849d0f40",
   "metadata": {},
   "outputs": [
    {
     "name": "stdout",
     "output_type": "stream",
     "text": [
      "5 is a positive single-digit number\n"
     ]
    }
   ],
   "source": [
    "x = 5\n",
    "if x > 0 and x < 10:\n",
    "    print(f\"{x} is a positive single-digit number\")"
   ]
  },
  {
   "cell_type": "markdown",
   "id": "38ac2a36",
   "metadata": {},
   "source": [
    "<h2 id=\"catching-exceptions-using-try-and-except\">Catching exceptions using try and except</h2>\n",
    "Earlier we saw a code segment where we used the <code>input</code> and <code>int</code> functions to read and parse an integer number entered by the user. \n",
    "\n",
    "Here is a sample program to convert a Fahrenheit temperature to a Celsius temperature:\n",
    "<pre class=\"python\"><code>inp = input('Enter Fahrenheit Temperature: ')\n",
    "fahr = float(inp)\n",
    "cel = (fahr - 32.0) * 5.0 / 9.0\n",
    "print(cel)\n",
    "\n",
    "# Code: http://www.py4e.com/code3/fahren.py</code></pre>\n",
    "If we execute this code and give it invalid input, it simply fails with an unfriendly error message:\n",
    "<pre><code>python fahren.py\n",
    "Enter Fahrenheit Temperature:72\n",
    "22.22222222222222</code></pre>\n",
    "<pre><code>python fahren.py\n",
    "Enter Fahrenheit Temperature:fred\n",
    "Traceback (most recent call last):\n",
    "  File \"fahren.py\", line 2, in &lt;module&gt;\n",
    "    fahr = float(inp)\n",
    "ValueError: could not convert string to float: 'fred'</code></pre>\n",
    "There is a conditional execution structure built into Python to handle these types of expected and unexpected errors called “try / except”. The idea of <code>try</code> and <code>except</code> is that you know that some sequence of instruction(s) may have a problem and you want to add some statements to be executed if an error occurs. These extra statements (the except block) are ignored if there is no error.\n",
    "\n",
    "You can think of the <code>try</code> and <code>except</code> feature in Python as an “insurance policy” on a sequence of statements.\n",
    "\n",
    "We can rewrite our temperature converter as follows:\n",
    "<pre class=\"python\"><code>inp = input('Enter Fahrenheit Temperature:')\n",
    "try:\n",
    "    fahr = float(inp)\n",
    "    cel = (fahr - 32.0) * 5.0 / 9.0\n",
    "    print(cel)\n",
    "except:\n",
    "    print('Please enter a number')\n",
    "\n",
    "# Code: http://www.py4e.com/code3/fahren2.py</code></pre>\n",
    "Python starts by executing the sequence of statements in the <code>try</code> block. If all goes well, it skips the <code>except</code> block and proceeds. If an exception occurs in the <code>try</code> block, Python jumps out of the <code>try</code> block and executes the sequence of statements in the <code>except</code> block.\n",
    "<pre><code>python fahren2.py\n",
    "Enter Fahrenheit Temperature:72\n",
    "22.22222222222222</code></pre>\n",
    "<pre><code>python fahren2.py\n",
    "Enter Fahrenheit Temperature:fred\n",
    "Please enter a number</code></pre>\n",
    "Handling an exception with a <code>try</code> statement is called <em>catching</em> an exception. In this example, the <code>except</code> clause prints an error message. In general, catching an exception gives you a chance to fix the problem, or try again, or at least end the program gracefully."
   ]
  },
  {
   "cell_type": "code",
   "execution_count": 27,
   "id": "0f94c7cd",
   "metadata": {},
   "outputs": [
    {
     "ename": "ValueError",
     "evalue": "could not convert string to float: 'hot'",
     "output_type": "error",
     "traceback": [
      "\u001b[31m---------------------------------------------------------------------------\u001b[39m",
      "\u001b[31mValueError\u001b[39m                                Traceback (most recent call last)",
      "\u001b[36mCell\u001b[39m\u001b[36m \u001b[39m\u001b[32mIn[27]\u001b[39m\u001b[32m, line 2\u001b[39m\n\u001b[32m      1\u001b[39m inp = \u001b[38;5;28minput\u001b[39m(\u001b[33m\"\u001b[39m\u001b[33mEnter Farenheit temperature: \u001b[39m\u001b[33m\"\u001b[39m)\n\u001b[32m----> \u001b[39m\u001b[32m2\u001b[39m farenheit = \u001b[38;5;28;43mfloat\u001b[39;49m\u001b[43m(\u001b[49m\u001b[43minp\u001b[49m\u001b[43m)\u001b[49m\n\u001b[32m      3\u001b[39m celsius = (farenheit - \u001b[32m32\u001b[39m) * \u001b[32m5\u001b[39m / \u001b[32m9\u001b[39m\n\u001b[32m      4\u001b[39m \u001b[38;5;28mprint\u001b[39m(\u001b[33m\"\u001b[39m\u001b[33mTemperature in Celsius:\u001b[39m\u001b[33m\"\u001b[39m, celsius)\n",
      "\u001b[31mValueError\u001b[39m: could not convert string to float: 'hot'"
     ]
    }
   ],
   "source": [
    "inp = input(\"Enter Farenheit temperature: \")\n",
    "farenheit = float(inp)\n",
    "celsius = (farenheit - 32) * 5 / 9\n",
    "print(\"Temperature in Celsius:\", celsius)"
   ]
  },
  {
   "cell_type": "code",
   "execution_count": 26,
   "id": "fdc18e22",
   "metadata": {},
   "outputs": [
    {
     "name": "stdout",
     "output_type": "stream",
     "text": [
      "Temperature in Celsius: 7.222222222222222\n"
     ]
    }
   ],
   "source": [
    "inp = input(\"Enter Farenheit temperature: \")\n",
    "try:\n",
    "    farenheit = float(inp)\n",
    "    celsius = (farenheit - 32) * 5 / 9\n",
    "    print(\"Temperature in Celsius:\", celsius)\n",
    "except:\n",
    "    print(\"Invalid input. Please enter a valid number.\")"
   ]
  },
  {
   "cell_type": "markdown",
   "id": "a4dc49b6",
   "metadata": {},
   "source": [
    " Simple Calculator"
   ]
  },
  {
   "cell_type": "code",
   "execution_count": null,
   "id": "0bd88db1",
   "metadata": {},
   "outputs": [],
   "source": [
    "# Prompt the user for two numbers and an operation\n",
    "num1 = float(input(\"Enter first number: \"))\n",
    "num2 = float(input(\"Enter second number: \"))\n",
    "op = input(\"Choose operation (+, -, *, /): \")\n",
    "\n",
    "if op == \"+\":\n",
    "    result = num1 + num2\n",
    "elif op == \"-\":\n",
    "    result = num1 - num2\n",
    "elif op == \"*\":\n",
    "    result = num1 * num2\n",
    "elif op == \"/\":\n",
    "    if num2 != 0:\n",
    "        result = num1 / num2\n",
    "    else:\n",
    "        result = \"Error: Division by zero\"\n",
    "else:\n",
    "    result = \"Invalid operation\"\n",
    "\n",
    "print(\"Result:\", result)\n"
   ]
  },
  {
   "cell_type": "markdown",
   "id": "fde78cf4",
   "metadata": {},
   "source": [
    "## While Loops\n",
    "<h2 id=\"updating-variables\">Updating variables</h2>\n",
    "A common pattern in assignment statements is an assignment statement that updates a variable, where the new value of the variable depends on the old.\n",
    "<pre class=\"python\"><code>x = x + 1</code></pre>\n",
    "This means “get the current value of <code>x</code>, add 1, and then update <code>x</code> with the new value.”\n",
    "\n",
    "If you try to update a variable that doesn’t exist, you get an error, because Python evaluates the right side before it assigns a value to <code>x</code>:\n",
    "<pre class=\"python\"><code>&gt;&gt;&gt; x = x + 1\n",
    "NameError: name 'x' is not defined</code></pre>\n",
    "Before you can update a variable, you have to <em>initialize</em> it, usually with a simple assignment:\n",
    "<pre class=\"python\"><code>&gt;&gt;&gt; x = 0\n",
    "&gt;&gt;&gt; x = x + 1</code></pre>\n",
    "Updating a variable by adding 1 is called an <em>increment</em>; subtracting 1 is called a <em>decrement</em>.\n",
    "<h2 id=\"the-while-statement\">The <code>while</code> statement</h2>\n",
    "Computers are often used to automate repetitive tasks. Repeating identical or similar tasks without making errors is something that computers do well and people do poorly. Because iteration is so common, Python provides several language features to make it easier.\n",
    "\n",
    "One form of iteration in Python is the <code>while</code> statement. Here is a simple program that counts down from five and then says “Blastoff!”.\n",
    "<pre class=\"python\"><code>n = 5\n",
    "while n &gt; 0:\n",
    "    print(n)\n",
    "    n = n - 1\n",
    "print('Blastoff!')</code></pre>\n",
    "\n",
    "\n",
    "Here is the flow of execution for a <code>while</code> statement:\n",
    "<ol type=\"1\">\n",
    " \t<li>Evaluate the condition, yielding <code>True</code> or <code>False</code>.</li>\n",
    " \t<li>If the condition is false, exit the <code>while</code> statement and continue execution at the next statement.</li>\n",
    " \t<li>If the condition is true, execute the body and then go back to step 1.</li>\n",
    "</ol>\n",
    "This type of flow is called a <em>loop</em> because the third step loops back around to the top. We call each time we execute the body of the loop an <em>iteration</em>. For the above loop, we would say, “It had five iterations”, which means that the body of the loop was executed five times.\n",
    "\n",
    "&nbsp;\n",
    "\n",
    "The body of the loop should change the value of one or more variables so that eventually the condition becomes false and the loop terminates. We call the variable that changes each time the loop executes and controls when the loop finishes the <em>iteration variable</em>. If there is no iteration variable, the loop will repeat forever, resulting in an <em>infinite loop</em>.\n",
    "<h2 id=\"infinite-loops\">Infinite loops</h2>\n",
    "In the case of <code>countdown</code>, we can prove that the loop terminates because we know that the value of <code>n</code> is finite, and we can see that the value of <code>n</code> gets smaller each time through the loop, so eventually we have to get to 0. Other times a loop is obviously infinite because it has no iteration variable at all.\n",
    "\n",
    "Sometimes you don’t know it’s time to end a loop until you get half way through the body. In that case you can write an infinite loop on purpose and then use the <code>break</code> statement to jump out of the loop.\n",
    "\n",
    "This loop is obviously an <em>infinite loop</em> because the logical expression on the <code>while</code> statement is simply the logical constant <code>True</code>:\n",
    "<pre class=\"python\"><code>n = 10\n",
    "while True:\n",
    "    print(n, end=' ')\n",
    "    n = n - 1\n",
    "print('Done!')</code></pre>\n",
    "If you make the mistake and run this code, you will learn quickly how to stop a runaway Python process on your system or find where the power-off button is on your computer. This program will run forever or until your battery runs out because the logical expression at the top of the loop is always true by virtue of the fact that the expression is the constant value <code>True</code>.\n",
    "\n",
    "While this is a dysfunctional infinite loop, we can still use this pattern to build useful loops as long as we carefully add code to the body of the loop to explicitly exit the loop using <code>break</code> when we have reached the exit condition.\n",
    "\n",
    "For example, suppose you want to take input from the user until they type <code>done</code>. You could write:\n",
    "<pre class=\"python\"><code>while True:\n",
    "    line = input('&gt; ')\n",
    "    if line == 'done':\n",
    "        break\n",
    "    print(line)\n",
    "print('Done!')\n",
    "\n",
    "# Code: http://www.py4e.com/code3/copytildone1.py</code></pre>\n",
    "The loop condition is <code>True</code>, which is always true, so the loop runs repeatedly until it hits the break statement.\n",
    "\n",
    "Each time through, it prompts the user with an angle bracket. If the user types <code>done</code>, the <code>break</code> statement exits the loop. Otherwise the program echoes whatever the user types and goes back to the top of the loop. Here’s a sample run:\n",
    "<pre><code>&gt; hello there\n",
    "hello there\n",
    "&gt; finished\n",
    "finished\n",
    "&gt; done\n",
    "Done!</code></pre>\n",
    "This way of writing <code>while</code> loops is common because you can check the condition anywhere in the loop (not just at the top) and you can express the stop condition affirmatively (“stop when this happens”) rather than negatively (“keep going until that happens.”).\n",
    "<h2 id=\"finishing-iterations-with-continue\">Finishing iterations with <code>continue</code></h2>\n",
    "Sometimes you are in an iteration of a loop and want to finish the current iteration and immediately jump to the next iteration. In that case you can use the <code>continue</code> statement to skip to the next iteration without finishing the body of the loop for the current iteration.\n"
   ]
  },
  {
   "cell_type": "code",
   "execution_count": 38,
   "id": "57205aa4",
   "metadata": {},
   "outputs": [
    {
     "name": "stdout",
     "output_type": "stream",
     "text": [
      "You entered: 1\n",
      "You entered: 2\n",
      "You entered: 3\n",
      "Please enter a valid number.\n",
      "You entered: 4\n"
     ]
    }
   ],
   "source": [
    "while True:\n",
    "    user_input = input(\"Enter a number (or 'stop' to quit): \")\n",
    "\n",
    "    if user_input == \"stop\":\n",
    "        break  # Exit the loop completely\n",
    "\n",
    "    if not user_input.isdigit():\n",
    "        print(\"Please enter a valid number.\")\n",
    "        continue  # Skip the rest and go back to the top of the loop\n",
    "\n",
    "    number = int(user_input)\n",
    "    print(f\"You entered: {number}\")"
   ]
  },
  {
   "cell_type": "code",
   "execution_count": 5,
   "id": "19f8ddb1",
   "metadata": {},
   "outputs": [
    {
     "name": "stdout",
     "output_type": "stream",
     "text": [
      "Count:  0\n",
      "Count:  1\n",
      "Count:  2\n",
      "Count:  3\n",
      "Count:  4\n",
      "Count:  5\n"
     ]
    }
   ],
   "source": [
    "count = 0\n",
    "\n",
    "while count <= 5:\n",
    "    print(\"Count: \", count)\n",
    "    count += 1"
   ]
  },
  {
   "cell_type": "markdown",
   "id": "621fc9b6",
   "metadata": {},
   "source": [
    "## For Loops\n",
    "<h2 id=\"definite-loops-using-for\">Definite loops using <code>for</code></h2>\n",
    "Sometimes we want to loop through a <em>set</em> of things such as a list of words, the lines in a file, or a list of numbers. When we have a list of things to loop through, we can construct a <em>definite</em> loop using a <code>for</code> statement. We call the <code>while</code> statement an <em>indefinite</em> loop because it simply loops until some condition becomes <code>False</code>, whereas the <code>for</code> loop is looping through a known set of items so it runs through as many iterations as there are items in the set."
   ]
  },
  {
   "cell_type": "code",
   "execution_count": 40,
   "id": "a89faa60",
   "metadata": {},
   "outputs": [
    {
     "name": "stdout",
     "output_type": "stream",
     "text": [
      "apple\n",
      "banana\n",
      "cherry\n"
     ]
    }
   ],
   "source": [
    "fruits = [\"apple\", \"banana\", \"cherry\"]\n",
    "for fruit in fruits:\n",
    "    print(fruit)"
   ]
  },
  {
   "cell_type": "code",
   "execution_count": 30,
   "id": "2cd66402",
   "metadata": {},
   "outputs": [
    {
     "name": "stdout",
     "output_type": "stream",
     "text": [
      "1\n",
      "2\n",
      "3\n",
      "4\n",
      "5\n"
     ]
    }
   ],
   "source": [
    "for i in range(1, 6):\n",
    "    print(i)"
   ]
  },
  {
   "cell_type": "markdown",
   "id": "cd11e7fb",
   "metadata": {},
   "source": [
    "- Use for loops when you are looping through a known sequence (like a list or range).\n",
    "- Use while loops when the number of iterations is not known in advance and depends on a condition."
   ]
  },
  {
   "cell_type": "markdown",
   "id": "1db0ac90",
   "metadata": {},
   "source": [
    "#### 5.Loop Idioms\n",
    "\n",
    "**Loop idioms** are common programming patterns used inside loops to perform specific tasks like:\n",
    "\n",
    "- Counting\n",
    "- Summing values\n",
    "- Finding the minimum or maximum\n",
    "- Searching\n",
    "- Filtering\n",
    "- Tracking positions or indexes\n",
    "\n",
    "These idioms make code efficient and readable. Let’s explore them with examples."
   ]
  },
  {
   "cell_type": "code",
   "execution_count": 33,
   "id": "575a5aa2",
   "metadata": {},
   "outputs": [
    {
     "name": "stdout",
     "output_type": "stream",
     "text": [
      "There are 3 numbers greater than 5.\n"
     ]
    }
   ],
   "source": [
    "# Count how many times a condition is met.\n",
    "\n",
    "numbers = [2, 4, 7, 9, 12]\n",
    "count = 0\n",
    "\n",
    "for num in numbers:\n",
    "    if num > 5:\n",
    "        count += 1\n",
    "\n",
    "print(f\"There are {count} numbers greater than 5.\")"
   ]
  },
  {
   "cell_type": "code",
   "execution_count": 41,
   "id": "e0696359",
   "metadata": {},
   "outputs": [
    {
     "name": "stdout",
     "output_type": "stream",
     "text": [
      "Total sum is 30\n"
     ]
    }
   ],
   "source": [
    "# summing numbers in a list\n",
    "numbers = [5, 10, 15]\n",
    "total = 0\n",
    "\n",
    "for num in numbers:\n",
    "    total += num\n",
    "\n",
    "print(f\"Total sum is {total}\")\n"
   ]
  },
  {
   "cell_type": "code",
   "execution_count": 35,
   "id": "a955f830",
   "metadata": {},
   "outputs": [
    {
     "name": "stdout",
     "output_type": "stream",
     "text": [
      "The maximum number is 12\n"
     ]
    }
   ],
   "source": [
    "# Finding Maximum\n",
    "numbers = [3, 9, 1, 12, 7]\n",
    "maximum = numbers[0]\n",
    "\n",
    "for num in numbers:\n",
    "    if num > maximum:\n",
    "        maximum = num\n",
    "\n",
    "print(f\"The maximum number is {maximum}\")\n"
   ]
  },
  {
   "cell_type": "code",
   "execution_count": 36,
   "id": "a9376c49",
   "metadata": {},
   "outputs": [
    {
     "name": "stdout",
     "output_type": "stream",
     "text": [
      "The minimum number is 2\n"
     ]
    }
   ],
   "source": [
    "# Finding Minimum\n",
    "numbers = [8, 2, 10, 5]\n",
    "minimum = numbers[0]\n",
    "\n",
    "for num in numbers:\n",
    "    if num < minimum:\n",
    "        minimum = num\n",
    "\n",
    "print(f\"The minimum number is {minimum}\")\n"
   ]
  },
  {
   "cell_type": "code",
   "execution_count": 42,
   "id": "87c3dbbe",
   "metadata": {},
   "outputs": [
    {
     "name": "stdout",
     "output_type": "stream",
     "text": [
      "Bob found!\n"
     ]
    }
   ],
   "source": [
    "# Searching for a Value\n",
    "names = [\"Alice\", \"Bob\", \"Charlie\"]\n",
    "found = False\n",
    "\n",
    "for name in names:\n",
    "    if name == \"Bob\":\n",
    "        found = True\n",
    "        break\n",
    "\n",
    "print(\"Bob found!\" if found else \"Bob not found.\")\n"
   ]
  },
  {
   "cell_type": "code",
   "execution_count": null,
   "id": "e51782a1",
   "metadata": {},
   "outputs": [],
   "source": []
  }
 ],
 "metadata": {
  "kernelspec": {
   "display_name": "myenv",
   "language": "python",
   "name": "python3"
  },
  "language_info": {
   "codemirror_mode": {
    "name": "ipython",
    "version": 3
   },
   "file_extension": ".py",
   "mimetype": "text/x-python",
   "name": "python",
   "nbconvert_exporter": "python",
   "pygments_lexer": "ipython3",
   "version": "3.13.3"
  }
 },
 "nbformat": 4,
 "nbformat_minor": 5
}
