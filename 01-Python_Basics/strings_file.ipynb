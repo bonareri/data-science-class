{
 "cells": [
  {
   "cell_type": "markdown",
   "id": "0e5949ca",
   "metadata": {},
   "source": [
    "## STRINGS IN PYTHON\n",
    "### What is a String?\n",
    "A string is a data type in Python used to represent text. It's a sequence of characters enclosed in:\n",
    "\n",
    "- Single quotes ' '\n",
    "- Double quotes \" \"\n",
    "- Triple quotes ''' ''' or \"\"\" \"\"\" (for multi-line text)"
   ]
  },
  {
   "cell_type": "code",
   "execution_count": null,
   "id": "fc42c7e1",
   "metadata": {},
   "outputs": [],
   "source": [
    "single = 'Hello'\n",
    "double = \"World\"\n",
    "multi_line = '''This is\n",
    "a string that spans\n",
    "multiple lines'''"
   ]
  },
  {
   "cell_type": "markdown",
   "id": "9f8bdf33",
   "metadata": {},
   "source": [
    " ### 1. String Indexing\n",
    "Strings are indexed starting at 0."
   ]
  },
  {
   "cell_type": "code",
   "execution_count": 1,
   "id": "8d220e4d",
   "metadata": {},
   "outputs": [
    {
     "name": "stdout",
     "output_type": "stream",
     "text": [
      "P\n",
      "h\n",
      "n\n"
     ]
    }
   ],
   "source": [
    "word = \"Python\"\n",
    "print(word[0])  # 'P'\n",
    "print(word[3])  # 'h'\n",
    "print(word[-1]) # 'n' (last character)"
   ]
  },
  {
   "cell_type": "markdown",
   "id": "9549171f",
   "metadata": {},
   "source": [
    "### 2. String Slicing\n",
    "Slicing returns a part (substring) of the string."
   ]
  },
  {
   "cell_type": "code",
   "execution_count": 2,
   "id": "1c0463d4",
   "metadata": {},
   "outputs": [
    {
     "name": "stdout",
     "output_type": "stream",
     "text": [
      "Progr\n",
      "Prog\n",
      "gramming\n",
      "ing\n"
     ]
    }
   ],
   "source": [
    "s = \"Programming\"\n",
    "\n",
    "print(s[0:5])   # 'Progr'\n",
    "print(s[:4])    # 'Prog' (start is 0)\n",
    "print(s[3:])    # 'gramming' (to end)\n",
    "print(s[-3:])   # 'ing'"
   ]
  },
  {
   "cell_type": "markdown",
   "id": "59caa14e",
   "metadata": {},
   "source": [
    "### 3. Common String Methods\n",
    "a. Case Methods"
   ]
  },
  {
   "cell_type": "code",
   "execution_count": 3,
   "id": "e7c4072b",
   "metadata": {},
   "outputs": [
    {
     "name": "stdout",
     "output_type": "stream",
     "text": [
      "hello world\n",
      "HELLO WORLD\n",
      "Hello World\n"
     ]
    }
   ],
   "source": [
    "text = \"Hello World\"\n",
    "print(text.lower())  # 'hello world'\n",
    "print(text.upper())  # 'HELLO WORLD'\n",
    "print(text.title())  # 'Hello World'\n"
   ]
  },
  {
   "cell_type": "markdown",
   "id": "87c47ab7",
   "metadata": {},
   "source": [
    "b. Whitespace Removal"
   ]
  },
  {
   "cell_type": "code",
   "execution_count": 4,
   "id": "ce02d994",
   "metadata": {},
   "outputs": [
    {
     "name": "stdout",
     "output_type": "stream",
     "text": [
      "clean me\n",
      "clean me   \n",
      "   clean me\n"
     ]
    }
   ],
   "source": [
    "msg = \"   clean me   \"\n",
    "print(msg.strip())    # 'clean me'\n",
    "print(msg.lstrip())   # removes left spaces\n",
    "print(msg.rstrip())   # removes right spaces"
   ]
  },
  {
   "cell_type": "markdown",
   "id": "5add0d29",
   "metadata": {},
   "source": [
    "c. Replacement & Searching"
   ]
  },
  {
   "cell_type": "code",
   "execution_count": 5,
   "id": "4f4abd08",
   "metadata": {},
   "outputs": [
    {
     "name": "stdout",
     "output_type": "stream",
     "text": [
      "Data is knowledge\n",
      "True\n"
     ]
    }
   ],
   "source": [
    "sentence = \"Data is power\"\n",
    "print(sentence.replace(\"power\", \"knowledge\"))  # 'Data is knowledge'\n",
    "print(\"power\" in sentence)  # True\n"
   ]
  },
  {
   "cell_type": "markdown",
   "id": "23397cfa",
   "metadata": {},
   "source": [
    "e. Count & Find"
   ]
  },
  {
   "cell_type": "code",
   "execution_count": 6,
   "id": "da630533",
   "metadata": {},
   "outputs": [
    {
     "name": "stdout",
     "output_type": "stream",
     "text": [
      "3\n",
      "3\n"
     ]
    }
   ],
   "source": [
    "phrase = \"hello hello hello\"\n",
    "print(phrase.count(\"hello\"))   # 3\n",
    "print(phrase.find(\"lo\"))       # 3 (first index of 'lo')\n"
   ]
  },
  {
   "cell_type": "markdown",
   "id": "50e91553",
   "metadata": {},
   "source": [
    "### Practice for Strings"
   ]
  },
  {
   "cell_type": "code",
   "execution_count": 7,
   "id": "a8ca0898",
   "metadata": {},
   "outputs": [
    {
     "name": "stdout",
     "output_type": "stream",
     "text": [
      "Number of vowels: 5\n"
     ]
    }
   ],
   "source": [
    "# Count vowels in a string\n",
    "word = \"education\"\n",
    "vowels = \"aeiou\"\n",
    "count = 0\n",
    "\n",
    "for letter in word:\n",
    "    if letter in vowels:\n",
    "        count += 1\n",
    "\n",
    "print(\"Number of vowels:\", count)  # Output: 5\n"
   ]
  },
  {
   "cell_type": "markdown",
   "id": "a0a8dfe8",
   "metadata": {},
   "source": [
    "## FILE HANDLING IN PYTHON\n",
    "In Python, file handling lets us create, read, update, and delete files. This is useful for saving data permanently — unlike variables, which are lost once the program ends.\n",
    "\n",
    "### In-Built File Handling Functions\n",
    "\n",
    "| Function      | Purpose                                    |\n",
    "| ------------- | ------------------------------------------ |\n",
    "| `open()`      | Opens a file and returns a file object     |\n",
    "| `write()`     | Writes text to the file                    |\n",
    "| `read()`      | Reads the entire file content as a string  |\n",
    "| `readline()`  | Reads a single line                        |\n",
    "| `readlines()` | Reads all lines and returns them in a list |\n",
    "| `close()`     | Closes the file                            |\n",
    "| `with`        | Automatically manages opening and closing  |"
   ]
  },
  {
   "cell_type": "markdown",
   "id": "a54acbf6",
   "metadata": {},
   "source": [
    "### What is mode in Python File Handling?\n",
    "When you open a file in Python using the open() function, you must specify a file mode. The mode tells Python what you want to do with the file:\n",
    "\n",
    "- Do you want to read from it?\n",
    "- Do you want to write to it?\n",
    "- Do you want to add content to the end?\n",
    "- Are you working with text or binary data?\n",
    "\n",
    "syntax\n",
    "```open(\"filename\", \"mode\")```\n"
   ]
  },
  {
   "cell_type": "markdown",
   "id": "c5582ee4",
   "metadata": {},
   "source": [
    "| Mode  | Description                         |\n",
    "|-------|-------------------------------------|\n",
    "| `'r'` | Read (default)                      |\n",
    "| `'w'` | Write (overwrites existing file)    |\n",
    "| `'a'` | Append (adds to the end of file)    |\n",
    "| `'x'` | Create new file (fails if exists)   |\n",
    "| `'b'` | Binary mode (used for non-text files) |\n"
   ]
  },
  {
   "cell_type": "markdown",
   "id": "c0e28a59",
   "metadata": {},
   "source": [
    "#### 1. open() – Opening a File"
   ]
  },
  {
   "cell_type": "code",
   "execution_count": 31,
   "id": "d5ae241f",
   "metadata": {},
   "outputs": [],
   "source": [
    "file = open(\"example.txt\", \"w\") # Open file in write mode"
   ]
  },
  {
   "cell_type": "markdown",
   "id": "d37fe730",
   "metadata": {},
   "source": [
    "#### 2. write() – Writing to a File"
   ]
  },
  {
   "cell_type": "code",
   "execution_count": 32,
   "id": "5ccc93d0",
   "metadata": {},
   "outputs": [
    {
     "data": {
      "text/plain": [
       "27"
      ]
     },
     "execution_count": 32,
     "metadata": {},
     "output_type": "execute_result"
    }
   ],
   "source": [
    "file.write(\"Hello, world!\\n\")\n",
    "file.write(\"I love Python programming.\\n\")"
   ]
  },
  {
   "cell_type": "markdown",
   "id": "ba4f0f30",
   "metadata": {},
   "source": [
    "#### 3. read() – Reading Entire File Content"
   ]
  },
  {
   "cell_type": "code",
   "execution_count": 33,
   "id": "8ea0f9e0",
   "metadata": {},
   "outputs": [
    {
     "name": "stdout",
     "output_type": "stream",
     "text": [
      "Hello, world!\n",
      "I love Python programming.\n",
      "\n"
     ]
    }
   ],
   "source": [
    "file = open(\"example.txt\", \"r\")  # Open file in read mode\n",
    "content = file.read()\n",
    "print(content)"
   ]
  },
  {
   "cell_type": "markdown",
   "id": "5082ab7c",
   "metadata": {},
   "source": [
    "#### 4. readline() – Read a Single Line"
   ]
  },
  {
   "cell_type": "code",
   "execution_count": 36,
   "id": "5c4e8db8",
   "metadata": {},
   "outputs": [
    {
     "name": "stdout",
     "output_type": "stream",
     "text": [
      "Hello, world!\n",
      "\n"
     ]
    }
   ],
   "source": [
    "file = open(\"example.txt\", \"r\")  # Open file in read mode\n",
    "line1 = file.readline()\n",
    "line2 = file.readline()\n",
    "print(line1)  # First line"
   ]
  },
  {
   "cell_type": "markdown",
   "id": "1363a4b4",
   "metadata": {},
   "source": [
    "#### 5. readlines() – Read All Lines into a List\n",
    "\n",
    "- Reads all lines and returns them as a list of strings\n",
    "- Useful when you want to loop over the lines later"
   ]
  },
  {
   "cell_type": "code",
   "execution_count": 37,
   "id": "4cfa90b0",
   "metadata": {},
   "outputs": [
    {
     "name": "stdout",
     "output_type": "stream",
     "text": [
      "['Hello, world!\\n', 'I love Python programming.\\n']\n"
     ]
    }
   ],
   "source": [
    "file = open(\"example.txt\", \"r\")  # Open file in read mode\n",
    "lines = file.readlines()\n",
    "print(lines)\n",
    "file.close()  # Close the file"
   ]
  },
  {
   "cell_type": "markdown",
   "id": "d39bca4b",
   "metadata": {},
   "source": [
    "#### 6. close() – Closing a File\n",
    "\n",
    "- Closes the file after you’re done with it\n",
    "- Very important to free system resources and avoid file corruption"
   ]
  },
  {
   "cell_type": "code",
   "execution_count": 38,
   "id": "92783f2f",
   "metadata": {},
   "outputs": [],
   "source": [
    "file.close()  # Close the file"
   ]
  },
  {
   "cell_type": "markdown",
   "id": "50ca1d89",
   "metadata": {},
   "source": [
    "#### 7. Using with – Automatically Handles close()\n",
    "\n",
    "- Best practice for working with files\n",
    "- Automatically calls file.close() for you"
   ]
  },
  {
   "cell_type": "code",
   "execution_count": null,
   "id": "08d0193e",
   "metadata": {},
   "outputs": [],
   "source": [
    "with open(\"example.txt\", \"r\") as file:\n",
    "    content = file.read()"
   ]
  },
  {
   "cell_type": "markdown",
   "id": "910fdb26",
   "metadata": {},
   "source": [
    "### File Modes in Action"
   ]
  },
  {
   "cell_type": "markdown",
   "id": "65538f8e",
   "metadata": {},
   "source": [
    "####  1. w – Write Mode"
   ]
  },
  {
   "cell_type": "code",
   "execution_count": 39,
   "id": "f58c3e35",
   "metadata": {},
   "outputs": [],
   "source": [
    "# creates and overwites the file\n",
    "with open(\"anthem.txt\", \"w\") as file:\n",
    "    file.write(\"O God of creation\\n\")\n",
    "    file.write(\"Bless this our Land and nation\\n\")"
   ]
  },
  {
   "cell_type": "markdown",
   "id": "5aad071b",
   "metadata": {},
   "source": [
    "#### 2. a – Append Mode"
   ]
  },
  {
   "cell_type": "code",
   "execution_count": 40,
   "id": "07be042f",
   "metadata": {},
   "outputs": [],
   "source": [
    "# Add more content to the file\n",
    "with open(\"anthem.txt\", \"a\") as file:\n",
    "    file.write(\"Justice be our shield and defender,\\n\")\n",
    "    file.write(\"May we dwell in unity,\\n\")"
   ]
  },
  {
   "cell_type": "markdown",
   "id": "bb8ac77f",
   "metadata": {},
   "source": [
    "#### 3. x – Exclusive Creation Mode"
   ]
  },
  {
   "cell_type": "code",
   "execution_count": 41,
   "id": "d6b4323d",
   "metadata": {},
   "outputs": [
    {
     "name": "stdout",
     "output_type": "stream",
     "text": [
      "File already exists. 'x' mode cannot overwrite it.\n"
     ]
    }
   ],
   "source": [
    "# Tries to create a new file, but errors if it already exists\n",
    "try:\n",
    "    with open(\"anthem.txt\", \"x\") as file:\n",
    "        file.write(\"Peace and liberty.\\n\")\n",
    "        file.write(\"Plenty be found within our borders.\\n\")\n",
    "    print(\"New file created using exclusive mode.\")\n",
    "except FileExistsError:\n",
    "    print(\"File already exists. 'x' mode cannot overwrite it.\")\n"
   ]
  },
  {
   "cell_type": "markdown",
   "id": "ab1e5b51",
   "metadata": {},
   "source": [
    "#### 4. r – Read Mode"
   ]
  },
  {
   "cell_type": "code",
   "execution_count": 42,
   "id": "c8dfbb9a",
   "metadata": {},
   "outputs": [
    {
     "name": "stdout",
     "output_type": "stream",
     "text": [
      "\n",
      "--- Anthem Contents ---\n",
      "\n",
      "O God of creation\n",
      "Bless this our Land and nation\n",
      "Justice be our shield and defender,\n",
      "May we dwell in unity,\n",
      "\n"
     ]
    }
   ],
   "source": [
    "# Open and read the file\n",
    "with open(\"anthem.txt\", \"r\") as file:\n",
    "    content = file.read()\n",
    "    print(\"\\n--- Anthem Contents ---\\n\")\n",
    "    print(content)\n"
   ]
  },
  {
   "cell_type": "markdown",
   "id": "3f4d7d96",
   "metadata": {},
   "source": [
    "### What is Binary Mode in File Handling?\n",
    "In Python, files can be opened in Text Mode (default) or Binary Mode.\n",
    "\n",
    "- Text Mode ('t'): Reads/writes strings (human-readable)\n",
    "- Binary Mode ('b'): Reads/writes bytes (machine-readable)\n",
    "\n",
    "Binary mode is useful when dealing with:\n",
    "\n",
    "- Images (.jpg, .png)\n",
    "- Audio files (.mp3)\n",
    "- Video files (.mp4)\n",
    "- PDFs, spreadsheets, etc.\n",
    "- Any non-text file\n",
    "\n",
    "Binary mode flags\n",
    "\n",
    "| Mode   | Meaning                                       |\n",
    "| ------ | --------------------------------------------- |\n",
    "| `'rb'` | Read a binary file                            |\n",
    "| `'wb'` | Write to a binary file (overwrites existing)  |\n",
    "| `'ab'` | Append to a binary file                       |\n",
    "| `'xb'` | Create a new binary file (error if it exists) |\n"
   ]
  }
 ],
 "metadata": {
  "kernelspec": {
   "display_name": "myenv",
   "language": "python",
   "name": "python3"
  },
  "language_info": {
   "codemirror_mode": {
    "name": "ipython",
    "version": 3
   },
   "file_extension": ".py",
   "mimetype": "text/x-python",
   "name": "python",
   "nbconvert_exporter": "python",
   "pygments_lexer": "ipython3",
   "version": "3.13.3"
  }
 },
 "nbformat": 4,
 "nbformat_minor": 5
}
