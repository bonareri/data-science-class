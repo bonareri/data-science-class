{
 "cells": [
  {
   "cell_type": "markdown",
   "id": "86741682",
   "metadata": {},
   "source": [
    "## Dictionary\n",
    "\n",
    "A **dictionary** in Python is an **unordered**, **mutable**, and **indexed** collection of key-value pairs.  \n",
    "Each item in a dictionary is stored as:\n",
    "\n",
    "```key: value```\n",
    "\n",
    "- **Keys** must be unique and immutable (e.g., strings, numbers, tuples).\n",
    "- **Values** can be of any data type and can repeat.\n",
    "\n"
   ]
  },
  {
   "cell_type": "markdown",
   "id": "e0c2ec3d",
   "metadata": {},
   "source": [
    "### Creating a Dictionary"
   ]
  },
  {
   "cell_type": "code",
   "execution_count": 1,
   "id": "d38df1d0",
   "metadata": {},
   "outputs": [],
   "source": [
    "# Empty dictionary\n",
    "empty_dict = {}"
   ]
  },
  {
   "cell_type": "code",
   "execution_count": 3,
   "id": "b65c1973",
   "metadata": {},
   "outputs": [
    {
     "data": {
      "text/plain": [
       "{'name': 'Alice', 'age': 22, 'grade': 'A'}"
      ]
     },
     "execution_count": 3,
     "metadata": {},
     "output_type": "execute_result"
    }
   ],
   "source": [
    "# Dictionary with data\n",
    "student = {\n",
    "    'name': 'Alice',\n",
    "    'age': 22,\n",
    "    'grade': 'A'\n",
    "}\n",
    "student"
   ]
  },
  {
   "cell_type": "code",
   "execution_count": 2,
   "id": "91f660c4",
   "metadata": {},
   "outputs": [
    {
     "data": {
      "text/plain": [
       "{'name': ['Alice', 'John', 'Kim'],\n",
       " 'age': [22, 25, 20],\n",
       " 'grade': ['A', 'B', 'C'],\n",
       " 'major': ['Computer Science', 'Mathematics', 'Physics']}"
      ]
     },
     "execution_count": 2,
     "metadata": {},
     "output_type": "execute_result"
    }
   ],
   "source": [
    "students = {\n",
    "    'name': ['Alice', 'John', 'Kim'],\n",
    "    'age': [22, 25, 20],\n",
    "    'grade': ['A', 'B', 'C'],\n",
    "    'major': ['Computer Science', 'Mathematics', 'Physics']\n",
    "}\n",
    "students"
   ]
  },
  {
   "cell_type": "markdown",
   "id": "dbb34f3b",
   "metadata": {},
   "source": [
    "### Common Dictionary Methods\n",
    "\n",
    "| Method       | Description                         | Example                              |\n",
    "|--------------|-------------------------------------|--------------------------------------|\n",
    "| `get(key)`   | Get value for key                   | `student.get('age')`                 |\n",
    "| `keys()`     | Returns all keys                    | `student.keys()`                     |\n",
    "| `values()`   | Returns all values                  | `student.values()`                   |\n",
    "| `items()`    | Returns (key, value) pairs          | `student.items()`                    |\n",
    "| `update()`   | Updates dictionary with another     | `student.update({'age': 23})`        |\n",
    "| `pop(key)`   | Removes key and returns value       | `student.pop('grade')`               |\n",
    "| `clear()`    | Clears all items                    | `student.clear()`                    |\n"
   ]
  },
  {
   "cell_type": "markdown",
   "id": "1bcc9f93",
   "metadata": {},
   "source": [
    "#### Accessing Dictionary Values"
   ]
  },
  {
   "cell_type": "code",
   "execution_count": 5,
   "id": "ead9c0b9",
   "metadata": {},
   "outputs": [
    {
     "data": {
      "text/plain": [
       "{'name': 'Alice', 'age': 22, 'grade': 'A'}"
      ]
     },
     "execution_count": 5,
     "metadata": {},
     "output_type": "execute_result"
    }
   ],
   "source": [
    "student"
   ]
  },
  {
   "cell_type": "code",
   "execution_count": 6,
   "id": "f3cea9bd",
   "metadata": {},
   "outputs": [
    {
     "name": "stdout",
     "output_type": "stream",
     "text": [
      "Alice\n"
     ]
    },
    {
     "ename": "KeyError",
     "evalue": "'email'",
     "output_type": "error",
     "traceback": [
      "\u001b[31m---------------------------------------------------------------------------\u001b[39m",
      "\u001b[31mKeyError\u001b[39m                                  Traceback (most recent call last)",
      "\u001b[36mCell\u001b[39m\u001b[36m \u001b[39m\u001b[32mIn[6]\u001b[39m\u001b[32m, line 3\u001b[39m\n\u001b[32m      1\u001b[39m \u001b[38;5;66;03m# Access by key\u001b[39;00m\n\u001b[32m      2\u001b[39m \u001b[38;5;28mprint\u001b[39m(student[\u001b[33m'\u001b[39m\u001b[33mname\u001b[39m\u001b[33m'\u001b[39m])    \n\u001b[32m----> \u001b[39m\u001b[32m3\u001b[39m \u001b[43mstudent\u001b[49m\u001b[43m[\u001b[49m\u001b[33;43m'\u001b[39;49m\u001b[33;43memail\u001b[39;49m\u001b[33;43m'\u001b[39;49m\u001b[43m]\u001b[49m   \n",
      "\u001b[31mKeyError\u001b[39m: 'email'"
     ]
    }
   ],
   "source": [
    "# Access by key\n",
    "print(student['name'])    \n",
    "student['email']   "
   ]
  },
  {
   "cell_type": "code",
   "execution_count": 41,
   "id": "6e1322e2",
   "metadata": {},
   "outputs": [
    {
     "name": "stdout",
     "output_type": "stream",
     "text": [
      "22\n",
      "None\n"
     ]
    }
   ],
   "source": [
    "# Using get() (safe access)\n",
    "print(student.get('age'))    # 22\n",
    "print(student.get('email'))  # None (does not raise an error)"
   ]
  },
  {
   "cell_type": "code",
   "execution_count": 7,
   "id": "51e7b2b2",
   "metadata": {},
   "outputs": [
    {
     "data": {
      "text/plain": [
       "{'name': ['Alice', 'John', 'Kim'],\n",
       " 'age': [22, 25, 20],\n",
       " 'grade': ['A', 'B', 'C'],\n",
       " 'major': ['Computer Science', 'Mathematics', 'Physics']}"
      ]
     },
     "execution_count": 7,
     "metadata": {},
     "output_type": "execute_result"
    }
   ],
   "source": [
    "students"
   ]
  },
  {
   "cell_type": "code",
   "execution_count": 8,
   "id": "461a71ab",
   "metadata": {},
   "outputs": [
    {
     "data": {
      "text/plain": [
       "['Alice', 'John', 'Kim']"
      ]
     },
     "execution_count": 8,
     "metadata": {},
     "output_type": "execute_result"
    }
   ],
   "source": [
    "# Accessing a value\n",
    "students.get('name')"
   ]
  },
  {
   "cell_type": "code",
   "execution_count": 10,
   "id": "8983bc1f",
   "metadata": {},
   "outputs": [
    {
     "data": {
      "text/plain": [
       "'Alice'"
      ]
     },
     "execution_count": 10,
     "metadata": {},
     "output_type": "execute_result"
    }
   ],
   "source": [
    "# Accesing a specific value using the index\n",
    "students['name'][0]"
   ]
  },
  {
   "cell_type": "code",
   "execution_count": 11,
   "id": "1fbb8828",
   "metadata": {},
   "outputs": [
    {
     "data": {
      "text/plain": [
       "dict_keys(['name', 'age', 'grade', 'major'])"
      ]
     },
     "execution_count": 11,
     "metadata": {},
     "output_type": "execute_result"
    }
   ],
   "source": [
    "# Return all keys\n",
    "students.keys()"
   ]
  },
  {
   "cell_type": "code",
   "execution_count": 12,
   "id": "dcf6ed72",
   "metadata": {},
   "outputs": [
    {
     "data": {
      "text/plain": [
       "dict_values([['Alice', 'John', 'Kim'], [22, 25, 20], ['A', 'B', 'C'], ['Computer Science', 'Mathematics', 'Physics']])"
      ]
     },
     "execution_count": 12,
     "metadata": {},
     "output_type": "execute_result"
    }
   ],
   "source": [
    "# Return all values\n",
    "students.values()"
   ]
  },
  {
   "cell_type": "code",
   "execution_count": 13,
   "id": "ca64d0d4",
   "metadata": {},
   "outputs": [
    {
     "data": {
      "text/plain": [
       "dict_items([('name', ['Alice', 'John', 'Kim']), ('age', [22, 25, 20]), ('grade', ['A', 'B', 'C']), ('major', ['Computer Science', 'Mathematics', 'Physics'])])"
      ]
     },
     "execution_count": 13,
     "metadata": {},
     "output_type": "execute_result"
    }
   ],
   "source": [
    "# Return key-value pairs\n",
    "students.items()"
   ]
  },
  {
   "cell_type": "code",
   "execution_count": 14,
   "id": "cd415fa4",
   "metadata": {},
   "outputs": [
    {
     "data": {
      "text/plain": [
       "{'name': ['Alice', 'John', 'Kim'],\n",
       " 'age': [22, 25, 20],\n",
       " 'grade': ['A', 'B', 'C'],\n",
       " 'major': ['Computer Science', 'Mathematics', 'Physics']}"
      ]
     },
     "execution_count": 14,
     "metadata": {},
     "output_type": "execute_result"
    }
   ],
   "source": [
    "students"
   ]
  },
  {
   "cell_type": "markdown",
   "id": "c29108d0",
   "metadata": {},
   "source": [
    "### Updating and Adding Items"
   ]
  },
  {
   "cell_type": "code",
   "execution_count": 16,
   "id": "a73da147",
   "metadata": {},
   "outputs": [
    {
     "data": {
      "text/plain": [
       "{'name': ['Alice', 'John', 'Kim'],\n",
       " 'age': [23, 25, 20],\n",
       " 'grade': ['A', 'F', 'C'],\n",
       " 'major': ['Computer Science', 'Mathematics', 'Physics']}"
      ]
     },
     "execution_count": 16,
     "metadata": {},
     "output_type": "execute_result"
    }
   ],
   "source": [
    "# Update the age of 'Alice'\n",
    "# students['age'][0] = 23\n",
    "# students\n",
    "\n",
    "students['grade'][1] = 'F'\n",
    "students"
   ]
  },
  {
   "cell_type": "code",
   "execution_count": 57,
   "id": "08b99e6f",
   "metadata": {},
   "outputs": [
    {
     "data": {
      "text/plain": [
       "{'name': ['Alice', 'John', 'Kim'],\n",
       " 'age': [23, 27, 20],\n",
       " 'grade': ['A', 'B', 'C'],\n",
       " 'major': ['Computer Science', 'Mathematics', 'Physics']}"
      ]
     },
     "execution_count": 57,
     "metadata": {},
     "output_type": "execute_result"
    }
   ],
   "source": [
    "# using update method\n",
    "students.update({'age': [23, 27, 20]})\n",
    "students"
   ]
  },
  {
   "cell_type": "code",
   "execution_count": 58,
   "id": "5d1df533",
   "metadata": {},
   "outputs": [
    {
     "data": {
      "text/plain": [
       "{'name': ['Alice', 'John', 'Kim'],\n",
       " 'age': [23, 27, 20],\n",
       " 'grade': ['A', 'B', 'C'],\n",
       " 'major': ['Computer Science', 'Mathematics', 'Physics'],\n",
       " 'email': 'alice@example.com'}"
      ]
     },
     "execution_count": 58,
     "metadata": {},
     "output_type": "execute_result"
    }
   ],
   "source": [
    "# Add a new key-value pair\n",
    "students['email'] = 'alice@example.com'\n",
    "students"
   ]
  },
  {
   "cell_type": "markdown",
   "id": "b4fbb2c7",
   "metadata": {},
   "source": [
    "### Removing Items"
   ]
  },
  {
   "cell_type": "code",
   "execution_count": 59,
   "id": "8578d597",
   "metadata": {},
   "outputs": [
    {
     "data": {
      "text/plain": [
       "{'name': ['Alice', 'John', 'Kim'],\n",
       " 'age': [23, 27, 20],\n",
       " 'major': ['Computer Science', 'Mathematics', 'Physics'],\n",
       " 'email': 'alice@example.com'}"
      ]
     },
     "execution_count": 59,
     "metadata": {},
     "output_type": "execute_result"
    }
   ],
   "source": [
    "# Remove grade\n",
    "students.pop('grade')\n",
    "students"
   ]
  },
  {
   "cell_type": "code",
   "execution_count": null,
   "id": "5e7f5c78",
   "metadata": {},
   "outputs": [
    {
     "data": {
      "text/plain": [
       "('email', 'alice@example.com')"
      ]
     },
     "execution_count": 60,
     "metadata": {},
     "output_type": "execute_result"
    }
   ],
   "source": [
    "# Remove last inserted item\n",
    "students.popitem()"
   ]
  },
  {
   "cell_type": "code",
   "execution_count": 61,
   "id": "f4642d9b",
   "metadata": {},
   "outputs": [
    {
     "data": {
      "text/plain": [
       "{'name': ['Alice', 'John', 'Kim'],\n",
       " 'age': [23, 27, 20],\n",
       " 'major': ['Computer Science', 'Mathematics', 'Physics']}"
      ]
     },
     "execution_count": 61,
     "metadata": {},
     "output_type": "execute_result"
    }
   ],
   "source": [
    "students"
   ]
  },
  {
   "cell_type": "code",
   "execution_count": 62,
   "id": "fabe05c0",
   "metadata": {},
   "outputs": [
    {
     "data": {
      "text/plain": [
       "{}"
      ]
     },
     "execution_count": 62,
     "metadata": {},
     "output_type": "execute_result"
    }
   ],
   "source": [
    "# Clear all items\n",
    "student.clear()\n",
    "student"
   ]
  },
  {
   "cell_type": "markdown",
   "id": "1176c9be",
   "metadata": {},
   "source": [
    "### Applying Dictionaries:\n",
    "- Loop through keys/values:"
   ]
  },
  {
   "cell_type": "code",
   "execution_count": 3,
   "id": "4ae06414",
   "metadata": {},
   "outputs": [
    {
     "data": {
      "text/plain": [
       "{'name': ['Alice', 'John', 'Kim'],\n",
       " 'age': [22, 25, 20],\n",
       " 'grade': ['A', 'B', 'C'],\n",
       " 'major': ['Computer Science', 'Mathematics', 'Physics']}"
      ]
     },
     "execution_count": 3,
     "metadata": {},
     "output_type": "execute_result"
    }
   ],
   "source": [
    "students"
   ]
  },
  {
   "cell_type": "code",
   "execution_count": 7,
   "id": "3d1e55a7",
   "metadata": {},
   "outputs": [
    {
     "name": "stdout",
     "output_type": "stream",
     "text": [
      "name ['Alice', 'John', 'Kim']\n",
      "age [22, 25, 20]\n",
      "grade ['A', 'B', 'C']\n",
      "major ['Computer Science', 'Mathematics', 'Physics']\n"
     ]
    }
   ],
   "source": [
    "# for key, value in students.items():\n",
    "#     print(key, value)\n",
    "\n",
    "for key, value in students.items():\n",
    "    print(key, value)\n"
   ]
  },
  {
   "cell_type": "code",
   "execution_count": 4,
   "id": "9adec8fa",
   "metadata": {},
   "outputs": [
    {
     "name": "stdout",
     "output_type": "stream",
     "text": [
      "Alice\n",
      "John\n",
      "Kim\n"
     ]
    }
   ],
   "source": [
    "# for student in students['name']:\n",
    "#     print(student)\n",
    "\n",
    "for student in students['name']:\n",
    "    print(student)"
   ]
  },
  {
   "cell_type": "markdown",
   "id": "9ef08a36",
   "metadata": {},
   "source": [
    "- Check if a key exists:"
   ]
  },
  {
   "cell_type": "code",
   "execution_count": 6,
   "id": "f3f55abe",
   "metadata": {},
   "outputs": [
    {
     "data": {
      "text/plain": [
       "False"
      ]
     },
     "execution_count": 6,
     "metadata": {},
     "output_type": "execute_result"
    }
   ],
   "source": [
    "# 'name' in students \n",
    "'faculty' in students"
   ]
  },
  {
   "cell_type": "markdown",
   "id": "f0e8f2c6",
   "metadata": {},
   "source": [
    "### Nested Dictionaries\n",
    "\n",
    "- You can create dictionaries inside dictionaries:"
   ]
  },
  {
   "cell_type": "code",
   "execution_count": 9,
   "id": "3d68d846",
   "metadata": {},
   "outputs": [
    {
     "data": {
      "text/plain": [
       "'Bob'"
      ]
     },
     "execution_count": 9,
     "metadata": {},
     "output_type": "execute_result"
    }
   ],
   "source": [
    "students = {\n",
    "    \"student1\": {\n",
    "        \"name\": \"Alice\",\n",
    "        \"age\": 22\n",
    "    },\n",
    "    \"student2\": {\n",
    "        \"name\": \"Bob\",\n",
    "        \"age\": 25\n",
    "    }\n",
    "}\n",
    "\n",
    "# print(students[\"student1\"][\"name\"])  # Alice\n",
    "students[\"student2\"][\"name\"]\n"
   ]
  },
  {
   "cell_type": "code",
   "execution_count": 10,
   "id": "ba352cdd",
   "metadata": {},
   "outputs": [
    {
     "name": "stdout",
     "output_type": "stream",
     "text": [
      "The sum of all the values in the dictionary is: 35\n"
     ]
    }
   ],
   "source": [
    "# dictionary\n",
    "my_dict = {\n",
    "    'apple': 10,\n",
    "    'banana': 5,\n",
    "    'orange': 8,\n",
    "    'mango': 12\n",
    "}\n",
    "\n",
    "# Calculate the sum of all values\n",
    "total = sum(my_dict.values())\n",
    "\n",
    "# Display the result\n",
    "print(\"The sum of all the values in the dictionary is:\", total)\n"
   ]
  },
  {
   "cell_type": "code",
   "execution_count": 11,
   "id": "44592dad",
   "metadata": {},
   "outputs": [
    {
     "name": "stdout",
     "output_type": "stream",
     "text": [
      "The sum of all the values in the dictionary is: 24\n"
     ]
    }
   ],
   "source": [
    "# Dictionary with tuples as values\n",
    "my_dict = {\n",
    "    'apple': (2, 4),\n",
    "    'banana': (1, 3),\n",
    "    'orange': (5,),\n",
    "    'mango': (6, 2, 1)\n",
    "}\n",
    "\n",
    "total = sum([num for values in my_dict.values() for num in values])\n",
    "\n",
    "print(\"The sum of all the values in the dictionary is:\", total)\n"
   ]
  },
  {
   "cell_type": "code",
   "execution_count": null,
   "id": "b9a8122a",
   "metadata": {},
   "outputs": [],
   "source": []
  }
 ],
 "metadata": {
  "kernelspec": {
   "display_name": "myenv",
   "language": "python",
   "name": "python3"
  },
  "language_info": {
   "codemirror_mode": {
    "name": "ipython",
    "version": 3
   },
   "file_extension": ".py",
   "mimetype": "text/x-python",
   "name": "python",
   "nbconvert_exporter": "python",
   "pygments_lexer": "ipython3",
   "version": "3.13.3"
  }
 },
 "nbformat": 4,
 "nbformat_minor": 5
}
