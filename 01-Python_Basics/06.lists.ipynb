{
 "cells": [
  {
   "cell_type": "markdown",
   "id": "b99b7ff0",
   "metadata": {},
   "source": [
    "## Lists\n",
    "\n",
    "A **list** is a built-in Python data structure used to store **multiple items** in a **single variable**.  \n",
    "Lists are:\n",
    "\n",
    "- **Ordered**: Elements maintain their insertion order.\n",
    "- **Mutable**: Can be changed (items can be added, removed, or modified).\n",
    "- **Indexed**: Accessed by zero-based index.\n",
    "- **Allow duplicates**: Multiple identical values are allowed.\n",
    "- **Can hold mixed data types**: e.g., integers, strings, even other lists.\n",
    "\n",
    "---\n",
    "\n",
    "### Creating Lists\n"
   ]
  },
  {
   "cell_type": "code",
   "execution_count": 4,
   "id": "e86be5f0",
   "metadata": {},
   "outputs": [
    {
     "data": {
      "text/plain": [
       "[[1, 2], [3, 4]]"
      ]
     },
     "execution_count": 4,
     "metadata": {},
     "output_type": "execute_result"
    }
   ],
   "source": [
    "# Empty list\n",
    "my_list = []\n",
    "\n",
    "# List of integers\n",
    "numbers = [1, 2, 3, 4, 5]\n",
    "\n",
    "# Mixed data types\n",
    "mixed = [1, 'apple', 3.14, True]\n",
    "\n",
    "# Nested list (list of lists)\n",
    "nested = [[1, 2], [3, 4]]\n",
    "\n",
    "#my_list\n",
    "nested"
   ]
  },
  {
   "cell_type": "markdown",
   "id": "32eafa24",
   "metadata": {},
   "source": [
    "### Accessing Elements\n",
    "\n",
    "#### By Index\n",
    "\n",
    "#### What is Indexing?\n",
    "- Indexing means retrieving a specific element from a sequence (like a list or tuple) using its position.\n",
    "- Python uses zero-based indexing, meaning the first item is at index 0, the second at 1, and so on."
   ]
  },
  {
   "cell_type": "code",
   "execution_count": 6,
   "id": "ff8ddcb7",
   "metadata": {},
   "outputs": [
    {
     "data": {
      "text/plain": [
       "'mango'"
      ]
     },
     "execution_count": 6,
     "metadata": {},
     "output_type": "execute_result"
    }
   ],
   "source": [
    "fruits = ['apple', 'banana', 'mango', 'orange', 'grape']\n",
    "#fruits[0]\n",
    "fruits[2]"
   ]
  },
  {
   "cell_type": "markdown",
   "id": "08cc29d5",
   "metadata": {},
   "source": [
    "#### Negative Indexing\n",
    "- You can access items from the end using negative indices:"
   ]
  },
  {
   "cell_type": "code",
   "execution_count": 8,
   "id": "39f03cc4",
   "metadata": {},
   "outputs": [
    {
     "data": {
      "text/plain": [
       "['apple', 'banana', 'mango', 'orange', 'grape']"
      ]
     },
     "execution_count": 8,
     "metadata": {},
     "output_type": "execute_result"
    }
   ],
   "source": [
    "fruits"
   ]
  },
  {
   "cell_type": "code",
   "execution_count": 9,
   "id": "97e9e253",
   "metadata": {},
   "outputs": [
    {
     "name": "stdout",
     "output_type": "stream",
     "text": [
      "orange\n"
     ]
    }
   ],
   "source": [
    "#print(fruits[-1])  \n",
    "print(fruits[-2])  "
   ]
  },
  {
   "cell_type": "markdown",
   "id": "6469f506",
   "metadata": {},
   "source": [
    "#### By Slicing\n",
    "\n",
    "- Slicing lets you access a range of items from a list, tuple, or string using the syntax:\n",
    "```sequence[start:stop:step]```\n",
    "- start: index to begin (inclusive)\n",
    "- stop: index to end (exclusive)\n",
    "- step: how many items to skip at a time\n"
   ]
  },
  {
   "cell_type": "code",
   "execution_count": 5,
   "id": "6ef12bce",
   "metadata": {},
   "outputs": [
    {
     "data": {
      "text/plain": [
       "['apple', 'banana', 'mango', 'orange', 'grape']"
      ]
     },
     "execution_count": 5,
     "metadata": {},
     "output_type": "execute_result"
    }
   ],
   "source": [
    "fruits"
   ]
  },
  {
   "cell_type": "code",
   "execution_count": 16,
   "id": "65661f75",
   "metadata": {},
   "outputs": [
    {
     "data": {
      "text/plain": [
       "['grape', 'mango']"
      ]
     },
     "execution_count": 16,
     "metadata": {},
     "output_type": "execute_result"
    }
   ],
   "source": [
    "#fruits[1:4]\n",
    "#fruits[:]\n",
    "#fruits[:3]\n",
    "#fruits[2:]\n",
    "#reverse the list\n",
    "#fruits[::-1]\n",
    "fruits[-1:-4:-2]"
   ]
  },
  {
   "cell_type": "markdown",
   "id": "4fbe762b",
   "metadata": {},
   "source": [
    "#### Question: Access ['apple', 'mango']"
   ]
  },
  {
   "cell_type": "code",
   "execution_count": null,
   "id": "4844394d",
   "metadata": {},
   "outputs": [
    {
     "data": {
      "text/plain": [
       "['banana', 'grape']"
      ]
     },
     "execution_count": 22,
     "metadata": {},
     "output_type": "execute_result"
    }
   ],
   "source": [
    "#fruits[0:3:2]\n",
    "#fruits[1:5:3]"
   ]
  },
  {
   "cell_type": "code",
   "execution_count": 17,
   "id": "dc704b5e",
   "metadata": {},
   "outputs": [
    {
     "data": {
      "text/plain": [
       "['apple', 'banana', 'mango', 'orange', 'grape']"
      ]
     },
     "execution_count": 17,
     "metadata": {},
     "output_type": "execute_result"
    }
   ],
   "source": [
    "fruits"
   ]
  },
  {
   "cell_type": "markdown",
   "id": "ba4fbe3b",
   "metadata": {},
   "source": [
    "### Modifying Lists"
   ]
  },
  {
   "cell_type": "code",
   "execution_count": null,
   "id": "5ee89ee2",
   "metadata": {},
   "outputs": [
    {
     "data": {
      "text/plain": [
       "['apple', 'Kiwi', 'mango', 'orange', 'grape']"
      ]
     },
     "execution_count": 18,
     "metadata": {},
     "output_type": "execute_result"
    }
   ],
   "source": [
    "# fruits[1] = 'Kiwi'\n",
    "# fruits"
   ]
  },
  {
   "cell_type": "markdown",
   "id": "8046edc2",
   "metadata": {},
   "source": [
    "### Common List Methods\n",
    "\n",
    "| Method             | Description                         | Example                          |\n",
    "|--------------------|-------------------------------------|----------------------------------|\n",
    "| `append(x)`         | Add item `x` to end                 | `fruits.append('orange')`        |\n",
    "| `insert(i, x)`      | Insert `x` at index `i`             | `fruits.insert(1, 'kiwi')`       |\n",
    "| `remove(x)`         | Remove first occurrence of `x`      | `fruits.remove('apple')`         |\n",
    "| `pop(i)`            | Remove and return item at index `i` | `fruits.pop(2)`                  |\n",
    "| `sort()`            | Sort list in place                  | `numbers.sort()`                 |\n",
    "| `reverse()`         | Reverse list in place               | `numbers.reverse()`              |\n",
    "| `count(x)`          | Count occurrences of `x`            | `fruits.count('banana')`         |\n",
    "| `index(x)`          | Return first index of `x`           | `fruits.index('mango')`          |\n",
    "| `extend([x, y])`    | Add multiple elements               | `fruits.extend(['grape', 'pear'])` |\n"
   ]
  },
  {
   "cell_type": "code",
   "execution_count": 17,
   "id": "628d542c",
   "metadata": {},
   "outputs": [
    {
     "data": {
      "text/plain": [
       "['apple', 'Kiwi', 'mango', 'orange', 'grape']"
      ]
     },
     "execution_count": 17,
     "metadata": {},
     "output_type": "execute_result"
    }
   ],
   "source": [
    "fruits"
   ]
  },
  {
   "cell_type": "code",
   "execution_count": 18,
   "id": "31c15bdf",
   "metadata": {},
   "outputs": [
    {
     "data": {
      "text/plain": [
       "['apple', 'Kiwi', 'mango', 'orange', 'grape', 'pineapple']"
      ]
     },
     "execution_count": 18,
     "metadata": {},
     "output_type": "execute_result"
    }
   ],
   "source": [
    "# Add a new fruit at the end\n",
    "fruits.append('pineapple')\n",
    "fruits"
   ]
  },
  {
   "cell_type": "code",
   "execution_count": 19,
   "id": "67174dd4",
   "metadata": {},
   "outputs": [
    {
     "data": {
      "text/plain": [
       "['apple', 'Kiwi', 'mango', 'orange', 'kiwi', 'grape', 'pineapple']"
      ]
     },
     "execution_count": 19,
     "metadata": {},
     "output_type": "execute_result"
    }
   ],
   "source": [
    "# Add a new fruit at index 1\n",
    "fruits.insert(4, 'kiwi')\n",
    "fruits"
   ]
  },
  {
   "cell_type": "code",
   "execution_count": 21,
   "id": "f8c7946b",
   "metadata": {},
   "outputs": [
    {
     "ename": "ValueError",
     "evalue": "list.remove(x): x not in list",
     "output_type": "error",
     "traceback": [
      "\u001b[31m---------------------------------------------------------------------------\u001b[39m",
      "\u001b[31mValueError\u001b[39m                                Traceback (most recent call last)",
      "\u001b[36mCell\u001b[39m\u001b[36m \u001b[39m\u001b[32mIn[21]\u001b[39m\u001b[32m, line 2\u001b[39m\n\u001b[32m      1\u001b[39m \u001b[38;5;66;03m# Remove the first occurrence of 'Kiwi'\u001b[39;00m\n\u001b[32m----> \u001b[39m\u001b[32m2\u001b[39m \u001b[43mfruits\u001b[49m\u001b[43m.\u001b[49m\u001b[43mremove\u001b[49m\u001b[43m(\u001b[49m\u001b[33;43m'\u001b[39;49m\u001b[33;43mKiwi\u001b[39;49m\u001b[33;43m'\u001b[39;49m\u001b[43m)\u001b[49m\n\u001b[32m      3\u001b[39m fruits\n",
      "\u001b[31mValueError\u001b[39m: list.remove(x): x not in list"
     ]
    }
   ],
   "source": [
    "# Remove the first occurrence of 'Kiwi'\n",
    "fruits.remove('Kiwi')\n",
    "fruits"
   ]
  },
  {
   "cell_type": "code",
   "execution_count": 22,
   "id": "066a6622",
   "metadata": {},
   "outputs": [
    {
     "data": {
      "text/plain": [
       "['apple', 'mango', 'orange', 'kiwi', 'grape', 'pineapple']"
      ]
     },
     "execution_count": 22,
     "metadata": {},
     "output_type": "execute_result"
    }
   ],
   "source": [
    "fruits"
   ]
  },
  {
   "cell_type": "code",
   "execution_count": 23,
   "id": "4a3792ee",
   "metadata": {},
   "outputs": [
    {
     "data": {
      "text/plain": [
       "['apple', 'mango', 'orange', 'kiwi', 'grape', 'pineapple', 'grape', 'pear']"
      ]
     },
     "execution_count": 23,
     "metadata": {},
     "output_type": "execute_result"
    }
   ],
   "source": [
    "# Add multiple items at once\n",
    "fruits.extend(['grape', 'pear'])\n",
    "fruits"
   ]
  },
  {
   "cell_type": "markdown",
   "id": "7a774573",
   "metadata": {},
   "source": [
    "### Looping Through a List"
   ]
  },
  {
   "cell_type": "code",
   "execution_count": 19,
   "id": "16dcd2ce",
   "metadata": {},
   "outputs": [
    {
     "data": {
      "text/plain": [
       "['apple', 'Kiwi', 'mango', 'orange', 'grape']"
      ]
     },
     "execution_count": 19,
     "metadata": {},
     "output_type": "execute_result"
    }
   ],
   "source": [
    "fruits"
   ]
  },
  {
   "cell_type": "code",
   "execution_count": 20,
   "id": "7ceb4650",
   "metadata": {},
   "outputs": [
    {
     "name": "stdout",
     "output_type": "stream",
     "text": [
      "apple\n",
      "Kiwi\n",
      "mango\n",
      "orange\n",
      "grape\n"
     ]
    }
   ],
   "source": [
    "for fruit in fruits:\n",
    "    print(fruit)"
   ]
  },
  {
   "cell_type": "markdown",
   "id": "fbe17d1d",
   "metadata": {},
   "source": [
    " ### String and List Relationship\n",
    "- Strings can be converted to lists using split():"
   ]
  },
  {
   "cell_type": "code",
   "execution_count": 22,
   "id": "cea12e4e",
   "metadata": {},
   "outputs": [
    {
     "data": {
      "text/plain": [
       "['Data', 'Science', 'is', 'fun']"
      ]
     },
     "execution_count": 22,
     "metadata": {},
     "output_type": "execute_result"
    }
   ],
   "source": [
    "sentence = \"Data Science is fun\"\n",
    "words = sentence.split()   \n",
    "words"
   ]
  },
  {
   "cell_type": "markdown",
   "id": "099c3537",
   "metadata": {},
   "source": [
    "- Lists can be converted back to strings using join():"
   ]
  },
  {
   "cell_type": "code",
   "execution_count": 23,
   "id": "962ae1f4",
   "metadata": {},
   "outputs": [
    {
     "data": {
      "text/plain": [
       "'Data Science is fun'"
      ]
     },
     "execution_count": 23,
     "metadata": {},
     "output_type": "execute_result"
    }
   ],
   "source": [
    "sentence = ' '.join(words)\n",
    "sentence"
   ]
  },
  {
   "cell_type": "markdown",
   "id": "c6d809fb",
   "metadata": {},
   "source": [
    "### Useful Built-in Functions"
   ]
  },
  {
   "cell_type": "code",
   "execution_count": 24,
   "id": "753f43ee",
   "metadata": {},
   "outputs": [
    {
     "data": {
      "text/plain": [
       "['apple', 'Kiwi', 'mango', 'orange', 'grape']"
      ]
     },
     "execution_count": 24,
     "metadata": {},
     "output_type": "execute_result"
    }
   ],
   "source": [
    "fruits"
   ]
  },
  {
   "cell_type": "code",
   "execution_count": 25,
   "id": "7028567a",
   "metadata": {},
   "outputs": [
    {
     "data": {
      "text/plain": [
       "5"
      ]
     },
     "execution_count": 25,
     "metadata": {},
     "output_type": "execute_result"
    }
   ],
   "source": [
    "len(fruits)"
   ]
  },
  {
   "cell_type": "code",
   "execution_count": 28,
   "id": "2cf8bf48",
   "metadata": {},
   "outputs": [
    {
     "data": {
      "text/plain": [
       "[1, 2, 3, 4, 5, 100]"
      ]
     },
     "execution_count": 28,
     "metadata": {},
     "output_type": "execute_result"
    }
   ],
   "source": [
    "numbers = [1, 2, 3, 4, 5, 100]\n",
    "numbers"
   ]
  },
  {
   "cell_type": "code",
   "execution_count": 29,
   "id": "31e60143",
   "metadata": {},
   "outputs": [
    {
     "data": {
      "text/plain": [
       "100"
      ]
     },
     "execution_count": 29,
     "metadata": {},
     "output_type": "execute_result"
    }
   ],
   "source": [
    "max(numbers)"
   ]
  },
  {
   "cell_type": "code",
   "execution_count": 30,
   "id": "293e8c85",
   "metadata": {},
   "outputs": [
    {
     "data": {
      "text/plain": [
       "115"
      ]
     },
     "execution_count": 30,
     "metadata": {},
     "output_type": "execute_result"
    }
   ],
   "source": [
    "sum(numbers)"
   ]
  },
  {
   "cell_type": "code",
   "execution_count": 45,
   "id": "884966bd",
   "metadata": {},
   "outputs": [
    {
     "data": {
      "text/plain": [
       "15"
      ]
     },
     "execution_count": 45,
     "metadata": {},
     "output_type": "execute_result"
    }
   ],
   "source": [
    "len(fruits)       # Number of items\n",
    "max(numbers)      # Largest number\n",
    "min(numbers)      # Smallest number\n",
    "sum(numbers)  "
   ]
  }
 ],
 "metadata": {
  "kernelspec": {
   "display_name": "venv",
   "language": "python",
   "name": "python3"
  },
  "language_info": {
   "codemirror_mode": {
    "name": "ipython",
    "version": 3
   },
   "file_extension": ".py",
   "mimetype": "text/x-python",
   "name": "python",
   "nbconvert_exporter": "python",
   "pygments_lexer": "ipython3",
   "version": "3.13.3"
  }
 },
 "nbformat": 4,
 "nbformat_minor": 5
}
