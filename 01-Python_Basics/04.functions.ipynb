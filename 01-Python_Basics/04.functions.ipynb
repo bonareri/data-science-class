{
 "cells": [
  {
   "cell_type": "markdown",
   "id": "b65a3fbf",
   "metadata": {},
   "source": [
    "## Overview of Functions\n",
    "<h2 id=\"function-calls\">Function calls</h2>\n",
    "In the context of programming, a <em>function</em> is a named sequence of statements that performs a computation. When you define a function, you specify the name and the sequence of statements. Later, you can “call” the function by name. We have already seen one example of a <em>function call</em>:\n",
    "<pre class=\"python\"><code>&gt;&gt;&gt; type(32)\n",
    "&lt;class 'int'&gt;</code></pre>\n",
    "The name of the function is <code>type</code>. The expression in parentheses is called the <em>argument</em> of the function. The argument is a value or variable that we are passing into the function as input to the function. The result, for the <code>type</code> function, is the type of the argument.\n",
    "\n",
    "It is common to say that a function “takes” an argument and “returns” a result. The result is called the <em>return value</em>.\n",
    "<h2 id=\"built-in-functions\">Built-in functions</h2>\n",
    "Python provides a number of important built-in functions that we can use without needing to provide the function definition. The creators of Python wrote a set of functions to solve common problems and included them in Python for us to use.\n",
    "\n",
    "The <code>max</code> and <code>min</code> functions give us the largest and smallest values in a list, respectively:\n",
    "<pre class=\"python\"><code>&gt;&gt;&gt; max('Hello world')\n",
    "'w'\n",
    "&gt;&gt;&gt; min('Hello world')\n",
    "' '\n",
    "&gt;&gt;&gt;</code></pre>\n",
    "The <code>max</code> function tells us the “largest character” in the string (which turns out to be the letter “w”) and the <code>min</code> function shows us the smallest character (which turns out to be a space).\n",
    "\n",
    "Another very common built-in function is the <code>len</code> function which tells us how many items are in its argument. If the argument to <code>len</code> is a string, it returns the number of characters in the string.\n",
    "<pre class=\"python\"><code>&gt;&gt;&gt; len('Hello world')\n",
    "11\n",
    "&gt;&gt;&gt;</code></pre>\n",
    "These functions are not limited to looking at strings. They can operate on any set of values, as we will see in later chapters.\n",
    "\n",
    "You should treat the names of built-in functions as reserved words (i.e., avoid using “max” as a variable name).\n",
    "<h2 id=\"type-conversion-functions\">Type conversion functions</h2>\n",
    "Python also provides built-in functions that convert values from one type to another. The <code>int</code> function takes any value and converts it to an integer, if it can, or complains otherwise:\n",
    "<pre class=\"python\"><code>&gt;&gt;&gt; int('32')\n",
    "32\n",
    "&gt;&gt;&gt; int('Hello')\n",
    "ValueError: invalid literal for int() with base 10: 'Hello'</code></pre>\n",
    "<code>int</code> can convert floating-point values to integers, but it doesn’t round off; it chops off the fraction part:\n",
    "<pre class=\"python\"><code>&gt;&gt;&gt; int(3.99999)\n",
    "3\n",
    "&gt;&gt;&gt; int(-2.3)\n",
    "-2</code></pre>\n",
    "<code>float</code> converts integers and strings to floating-point numbers:\n",
    "<pre class=\"python\"><code>&gt;&gt;&gt; float(32)\n",
    "32.0\n",
    "&gt;&gt;&gt; float('3.14159')\n",
    "3.14159</code></pre>\n",
    "Finally, <code>str</code> converts its argument to a string:\n",
    "<pre class=\"python\"><code>&gt;&gt;&gt; str(32)\n",
    "'32'\n",
    "&gt;&gt;&gt; str(3.14159)\n",
    "'3.14159'</code></pre>\n",
    "<h2 id=\"math-functions\">Math functions</h2>\n",
    "Python has a <code>math</code> module that provides most of the familiar mathematical functions. Before we can use the module, we have to import it:\n",
    "<pre class=\"python\"><code>&gt;&gt;&gt; import math</code></pre>\n",
    "This statement creates a <em>module object</em> named math. If you print the module object, you get some information about it:\n",
    "<pre class=\"python\"><code>&gt;&gt;&gt; print(math)\n",
    "&lt;module 'math' (built-in)&gt;</code></pre>\n",
    "The module object contains the functions and variables defined in the module. To access one of the functions, you have to specify the name of the module and the name of the function, separated by a dot (also known as a period). This format is called <em>dot notation</em>.\n",
    "<pre class=\"python\"><code>&gt;&gt;&gt; ratio = signal_power / noise_power\n",
    "&gt;&gt;&gt; decibels = 10 * math.log10(ratio)\n",
    "\n",
    "&gt;&gt;&gt; radians = 0.7\n",
    "&gt;&gt;&gt; height = math.sin(radians)</code></pre>\n",
    "The first example computes the logarithm base 10 of the signal-to-noise ratio. The math module also provides a function called <code>log</code> that computes logarithms base e.\n",
    "\n",
    "The second example finds the sine of <code>radians</code>. The name of the variable is a hint that <code>sin</code> and the other trigonometric functions (<code>cos</code>, <code>tan</code>, etc.) take arguments in radians. To convert from degrees to radians, divide by 360 and multiply by <span class=\"math inline\">2<em>π</em></span>:\n",
    "<pre class=\"python\"><code>&gt;&gt;&gt; degrees = 45\n",
    "&gt;&gt;&gt; radians = degrees / 360.0 * 2 * math.pi\n",
    "&gt;&gt;&gt; math.sin(radians)\n",
    "0.7071067811865476</code></pre>\n",
    "The expression <code>math.pi</code> gets the variable <code>pi</code> from the math module. The value of this variable is an approximation of <span class=\"math inline\"><em>π</em></span>, accurate to about 15 digits.\n",
    "\n",
    "If you know your trigonometry, you can check the previous result by comparing it to the square root of two divided by two:\n",
    "<pre class=\"python\"><code>&gt;&gt;&gt; math.sqrt(2) / 2.0\n",
    "0.7071067811865476</code></pre>\n",
    "<h2 id=\"random-numbers\">Random numbers</h2>\n",
    "Given the same inputs, most computer programs generate the same outputs every time, so they are said to be <em>deterministic</em>. Determinism is usually a good thing, since we expect the same calculation to yield the same result. For some applications, though, we want the computer to be unpredictable. Games are an obvious example, but there are more.\n",
    "\n",
    "Making a program truly nondeterministic turns out to be not so easy, but there are ways to make it at least seem nondeterministic. One of them is to use <em>algorithms</em> that generate <em>pseudorandom</em> numbers. Pseudorandom numbers are not truly random because they are generated by a deterministic computation, but just by looking at the numbers it is all but impossible to distinguish them from random.\n",
    "\n",
    "The <code>random</code> module provides functions that generate pseudorandom numbers (which I will simply call “random” from here on).\n",
    "\n",
    "The function <code>random</code> returns a random float between 0.0 and 1.0 (including 0.0 but not 1.0). Each time you call <code>random</code>, you get the next number in a long series. To see a sample, run this loop:\n",
    "<pre class=\"python\"><code>import random\n",
    "\n",
    "for i in range(10):\n",
    "    x = random.random()\n",
    "    print(x)</code></pre>\n",
    "This program produces the following list of 10 random numbers between 0.0 and up to but not including 1.0.\n",
    "<pre><code>0.11132867921152356\n",
    "0.5950949227890241\n",
    "0.04820265884996877\n",
    "0.841003109276478\n",
    "0.997914947094958\n",
    "0.04842330803368111\n",
    "0.7416295948208405\n",
    "0.510535245390327\n",
    "0.27447040171978143\n",
    "0.028511805472785867</code></pre>\n",
    "<strong>Exercise 1: Run the program on your system and see what numbers you get. Run the program more than once and see what numbers you get.</strong>\n",
    "\n",
    "The <code>random</code> function is only one of many functions that handle random numbers. The function <code>randint</code> takes the parameters <code>low</code> and <code>high</code>, and returns an integer between <code>low</code> and <code>high</code> (including both).\n"
   ]
  },
  {
   "cell_type": "markdown",
   "id": "79f596cd",
   "metadata": {},
   "source": [
    "## Building Functions\n",
    "<h2 id=\"adding-new-functions\">Adding new functions</h2>\n",
    "So far, we have only been using the functions that come with Python, but it is also possible to add new functions. A <em>function definition</em> specifies the name of a new function and the sequence of statements that execute when the function is called. Once we define a function, we can reuse the function over and over throughout our program.\n",
    "\n",
    "---\n",
    "\n",
    "### 1. Defining a Function\n",
    "\n",
    "```python\n",
    "def function_name(parameters):\n",
    "    \"\"\"\n",
    "    Optional docstring:\n",
    "    Describe what the function does, its parameters, and return value.\n",
    "    \"\"\"\n",
    "    # Body of the function\n",
    "    # perform tasks\n",
    "    return result  # optional\n",
    "```\n",
    "\n",
    "- def: Keyword to introduce a function.\n",
    "- function_name: Follows the same rules as variable names (lowercase, underscores).\n",
    "- parameters: Comma-separated list of input names (can be empty).\n",
    "- return: Optional; sends a value back to the caller. If omitted, the function returns None.\n",
    "\n",
    "<h3 id=\"parameters-and-arguments\">Parameters and arguments</h3>\n",
    "&nbsp;\n",
    "\n",
    "Some of the built-in functions we have seen require arguments. For example, when you call <code>math.sin</code> you pass a number as an argument. Some functions take more than one argument: <code>math.pow</code> takes two, the base and the exponent.\n",
    "\n",
    "Inside the function, the arguments are assigned to variables called <em>parameters</em>. Here is an example of a user-defined function that takes an argument:\n",
    "<pre class=\"python\"><code>def print_twice(bruce):\n",
    "    print(bruce)\n",
    "    print(bruce)</code></pre>\n",
    "This function assigns the argument to a parameter named <code>bruce</code>. When the function is called, it prints the value of the parameter (whatever it is) twice."
   ]
  },
  {
   "cell_type": "markdown",
   "id": "1f7c0bfa",
   "metadata": {},
   "source": [
    "\n",
    "### 2. Positional vs. Keyword Arguments\n",
    "#### a) Positional Arguments\n",
    "Arguments are matched to parameters in order:\n"
   ]
  },
  {
   "cell_type": "code",
   "execution_count": 10,
   "id": "ce6ec674",
   "metadata": {},
   "outputs": [
    {
     "name": "stdout",
     "output_type": "stream",
     "text": [
      "Bruce Lee\n",
      "Bruce Lee\n"
     ]
    }
   ],
   "source": [
    "def print_twice(bruce):\n",
    "    print(bruce)\n",
    "    print(bruce)\n",
    "\n",
    "print_twice(bruce=\"Bruce Lee\")"
   ]
  },
  {
   "cell_type": "code",
   "execution_count": 1,
   "id": "548ab7c8",
   "metadata": {},
   "outputs": [
    {
     "name": "stdout",
     "output_type": "stream",
     "text": [
      "My name is Alice and I'm 30 years old.\n"
     ]
    }
   ],
   "source": [
    "def introduce(name, age):\n",
    "    print(f\"My name is {name} and I'm {age} years old.\")\n",
    "\n",
    "introduce(\"Alice\", 30)  # name=\"Alice\", age=30"
   ]
  },
  {
   "cell_type": "markdown",
   "id": "249f8414",
   "metadata": {},
   "source": [
    "b) Keyword Arguments\n",
    "- You can specify parameters by name (order doesn’t matter):"
   ]
  },
  {
   "cell_type": "code",
   "execution_count": 2,
   "id": "837a76ff",
   "metadata": {},
   "outputs": [
    {
     "name": "stdout",
     "output_type": "stream",
     "text": [
      "My name is Bob and I'm 25 years old.\n"
     ]
    }
   ],
   "source": [
    "introduce(age=25, name=\"Bob\")"
   ]
  },
  {
   "cell_type": "markdown",
   "id": "59ed3494",
   "metadata": {},
   "source": [
    "### 3. Default Parameter Values\n",
    "Define default values for parameters; callers may omit them:"
   ]
  },
  {
   "cell_type": "code",
   "execution_count": 3,
   "id": "49db05ff",
   "metadata": {},
   "outputs": [
    {
     "name": "stdout",
     "output_type": "stream",
     "text": [
      "Hello, Friend!\n",
      "Hello, Melody!\n",
      "Welcome, Bonareri!\n"
     ]
    }
   ],
   "source": [
    "def greet(name=\"Friend\", greeting=\"Hello\"):\n",
    "    print(f\"{greeting}, {name}!\")\n",
    "\n",
    "greet()                      # \"Hello, Friend!\"\n",
    "greet(\"Melody\")              # \"Hello, Melody!\"\n",
    "greet(\"Bonareri\", \"Welcome\") # \"Welcome, Bonareri!\"\n"
   ]
  },
  {
   "cell_type": "markdown",
   "id": "8c3007cc",
   "metadata": {},
   "source": [
    "## Fruitful vs. Void Functions in Python\n",
    "\n",
    "### Fruitful Function\n",
    "- **Returns a value** using the `return` keyword.\n",
    "- The result can be stored in a variable or used in expressions.\n",
    "\n",
    "```python\n",
    "def square(x):\n",
    "    return x * x\n",
    "\n",
    "result = square(4)\n",
    "print(result)  # Output: 16\n",
    "\n",
    "```\n",
    "\n",
    "### Void Function\n",
    "- Does not return a value.\n",
    "- Usually performs an action like printing.\n",
    "- Automatically returns None.\n",
    "\n",
    "```python\n",
    "def greet(name):\n",
    "    print(\"Hello\", name)\n",
    "\n",
    "output = greet(\"Alice\")\n",
    "print(output)  # Output: Hello Alice\n",
    "               #         None\n",
    "```"
   ]
  },
  {
   "cell_type": "markdown",
   "id": "3ffa6ecf",
   "metadata": {},
   "source": [
    "### 4. Variable-Length Arguments: *args and **kwargs\n",
    "a) *args (Positional Variable Arguments)\n",
    "- Collect any extra positional arguments as a tuple"
   ]
  },
  {
   "cell_type": "code",
   "execution_count": 11,
   "id": "35b980b4",
   "metadata": {},
   "outputs": [
    {
     "name": "stdout",
     "output_type": "stream",
     "text": [
      "15\n"
     ]
    }
   ],
   "source": [
    "def sum_all(*args):\n",
    "    total = 0\n",
    "    for num in args:\n",
    "        total += num\n",
    "    return total\n",
    "\n",
    "print(sum_all(1, 2, 3, 4, 5))  # 10\n"
   ]
  },
  {
   "cell_type": "markdown",
   "id": "89f41efb",
   "metadata": {},
   "source": [
    "- args inside the function is a tuple of all passed positional arguments beyond those explicitly named."
   ]
  },
  {
   "cell_type": "markdown",
   "id": "3aedb5a1",
   "metadata": {},
   "source": [
    "b) **kwargs (Keyword Variable Arguments)\n",
    "- Collect any extra keyword arguments as a dictionary:"
   ]
  },
  {
   "cell_type": "code",
   "execution_count": 5,
   "id": "4bef0fb2",
   "metadata": {},
   "outputs": [
    {
     "name": "stdout",
     "output_type": "stream",
     "text": [
      "name: Melody\n",
      "age: 25\n",
      "country: Kenya\n"
     ]
    }
   ],
   "source": [
    "def print_info(**kwargs):\n",
    "    for key, value in kwargs.items():\n",
    "        print(f\"{key}: {value}\")\n",
    "\n",
    "print_info(name=\"Melody\", age=25, country=\"Kenya\")"
   ]
  },
  {
   "cell_type": "markdown",
   "id": "ed32f64e",
   "metadata": {},
   "source": [
    "- ```kwargs``` inside the function is a dict mapping parameter names to values for any keywords not captured by named parameters."
   ]
  },
  {
   "cell_type": "markdown",
   "id": "41b8fe1c",
   "metadata": {},
   "source": [
    "<h2 id=\"why-functions\">Why functions?</h2>\n",
    "It may not be clear why it is worth the trouble to divide a program into functions. There are several reasons:\n",
    "<ul>\n",
    " \t<li>Creating a new function gives you an opportunity to name a group of statements, which makes your program easier to read, understand, and debug.</li>\n",
    " \t<li>Functions can make a program smaller by eliminating repetitive code. Later, if you make a change, you only have to make it in one place.</li>\n",
    " \t<li>Dividing a long program into functions allows you to debug the parts one at a time and then assemble them into a working whole.</li>\n",
    " \t<li>Well-designed functions are often useful for many programs. Once you write and debug one, you can reuse it.</li>\n",
    "</ul>"
   ]
  }
 ],
 "metadata": {
  "kernelspec": {
   "display_name": "myenv",
   "language": "python",
   "name": "python3"
  },
  "language_info": {
   "codemirror_mode": {
    "name": "ipython",
    "version": 3
   },
   "file_extension": ".py",
   "mimetype": "text/x-python",
   "name": "python",
   "nbconvert_exporter": "python",
   "pygments_lexer": "ipython3",
   "version": "3.13.3"
  }
 },
 "nbformat": 4,
 "nbformat_minor": 5
}
