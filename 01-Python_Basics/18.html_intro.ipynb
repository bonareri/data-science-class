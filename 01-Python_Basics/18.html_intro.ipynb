{
 "cells": [
  {
   "cell_type": "markdown",
   "id": "784f9fbf",
   "metadata": {},
   "source": [
    "# Introduction to HTML for Web Scraping\n",
    "\n",
    "To effectively scrape websites, it's essential to understand how HTML (HyperText Markup Language) structures content on web pages.\n",
    "\n",
    "---\n",
    "\n",
    "## 1. Basic Structure of an HTML Document\n",
    "\n",
    "```html\n",
    "<!DOCTYPE html>\n",
    "<html>\n",
    "  <head>\n",
    "    <title>Page Title</title>\n",
    "  </head>\n",
    "  <body>\n",
    "    <h1>This is a heading</h1>\n",
    "    <p>This is a paragraph.</p>\n",
    "  </body>\n",
    "</html>\n",
    "```\n",
    "\n",
    "Breakdown:\n",
    "- ```<!DOCTYPE html>:``` Declares the document as HTML5.\n",
    "- ```<html>:``` Root of the HTML document.\n",
    "- ```<head>:``` Metadata like title, styles, scripts.\n",
    "- ```<body>:``` Main content of the page.\n"
   ]
  },
  {
   "cell_type": "markdown",
   "id": "720d58dd",
   "metadata": {},
   "source": [
    "### 2: HTML Tags\n",
    "Tags are used to define elements.\n",
    "\n",
    "| Tag            | Description               |\n",
    "| -------------- | ------------------------- |\n",
    "| `<h1>`         | Heading (levels h1 to h6) |\n",
    "| `<p>`          | Paragraph                 |\n",
    "| `<a>`          | Hyperlink                 |\n",
    "| `<div>`        | Division/container        |\n",
    "| `<span>`       | Inline container          |\n",
    "| `<ul>`, `<li>` | List and List Items       |\n",
    "| `<img>`        | Image                     |\n",
    "\n",
    "\n"
   ]
  },
  {
   "cell_type": "markdown",
   "id": "89a02cec",
   "metadata": {},
   "source": [
    "### 3. Attributes\n",
    "Attributes provide additional information about elements.\n",
    "\n",
    "```html\n",
    "<a href=\"https://example.com\" class=\"link\">Click me</a>\n",
    "<img src=\"image.jpg\" alt=\"An image\">\n",
    "```\n",
    "\n",
    "Common Attributes:\n",
    "- ```href:``` Link destination\n",
    "- ```src:``` Source (e.g., for images)\n",
    "- ```alt:``` Alternate text\n",
    "- ```class:``` Classification for styling or scraping\n",
    "- ```id:``` Unique identifier"
   ]
  },
  {
   "cell_type": "markdown",
   "id": "3928729b",
   "metadata": {},
   "source": [
    "### Practice Exercise\n",
    "Inspect this simple HTML snippet and answer the questions below:\n",
    "\n",
    "```html\n",
    "<div class=\"quote\">\n",
    "  <span class=\"text\">\"Be yourself; everyone else is already taken.\"</span>\n",
    "  <span><small class=\"author\">Oscar Wilde</small></span>\n",
    "  <div class=\"tags\">\n",
    "    <a class=\"tag\">inspirational</a>\n",
    "    <a class=\"tag\">life</a>\n",
    "    <a class=\"tag\">humor</a>\n",
    "  </div>\n",
    "</div>\n",
    "```"
   ]
  },
  {
   "cell_type": "markdown",
   "id": "e7e401fa",
   "metadata": {},
   "source": [
    "#### Questions:\n",
    "1. What tag contains the quote text?\n",
    "2. Which class can be used to find the author's name?\n",
    "3. How many tags are associated with this quote?"
   ]
  }
 ],
 "metadata": {
  "language_info": {
   "name": "python"
  }
 },
 "nbformat": 4,
 "nbformat_minor": 5
}
