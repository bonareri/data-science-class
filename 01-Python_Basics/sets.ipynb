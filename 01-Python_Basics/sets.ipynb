{
 "cells": [
  {
   "cell_type": "markdown",
   "id": "7f0ef9f8",
   "metadata": {},
   "source": [
    "## Sets\n",
    "\n",
    "A set is a built-in data type in Python used to store multiple unique items in a single variable.\n",
    "\n",
    "- Sets are unordered → no indexing or slicing.\n",
    "- Sets are mutable → you can add/remove elements.\n",
    "- Sets are unique → duplicates are automatically removed.\n",
    "- Sets are defined using curly braces {} or the set() constructor."
   ]
  },
  {
   "cell_type": "markdown",
   "id": "380d6cea",
   "metadata": {},
   "source": [
    "### Creating a Set"
   ]
  },
  {
   "cell_type": "code",
   "execution_count": 1,
   "id": "3084d506",
   "metadata": {},
   "outputs": [
    {
     "data": {
      "text/plain": [
       "{'apple', 'banana', 'mango'}"
      ]
     },
     "execution_count": 1,
     "metadata": {},
     "output_type": "execute_result"
    }
   ],
   "source": [
    "# Using curly braces\n",
    "fruits = {'apple', 'banana', 'mango'}\n",
    "fruits"
   ]
  },
  {
   "cell_type": "code",
   "execution_count": 2,
   "id": "3cc240d3",
   "metadata": {},
   "outputs": [
    {
     "data": {
      "text/plain": [
       "{1, 2, 3, 4}"
      ]
     },
     "execution_count": 2,
     "metadata": {},
     "output_type": "execute_result"
    }
   ],
   "source": [
    "# Using the set() constructor (useful for converting lists)\n",
    "numbers = set([1, 2, 2, 3, 4])  # Duplicates removed\n",
    "numbers"
   ]
  },
  {
   "cell_type": "markdown",
   "id": "52ee8ec1",
   "metadata": {},
   "source": [
    "```Note:```\n",
    "- An empty set must be created with set() not {}\n",
    "- {} creates an empty dictionary."
   ]
  },
  {
   "cell_type": "markdown",
   "id": "16472f94",
   "metadata": {},
   "source": [
    "### Common Set Methods\n",
    "\n",
    "| Method               | Description                                         | Example                             |\n",
    "|----------------------|-----------------------------------------------------|-------------------------------------|\n",
    "| `add(x)`             | Adds an element `x` to the set                      | `fruits.add('orange')`              |\n",
    "| `remove(x)`          | Removes `x` from the set (error if not found)       | `fruits.remove('banana')`           |\n",
    "| `discard(x)`         | Removes `x` if present, does nothing if not         | `fruits.discard('apple')`           |\n",
    "| `pop()`              | Removes and returns a random element                | `fruits.pop()`                      |\n",
    "| `clear()`            | Removes all elements from the set                   | `fruits.clear()`                    |\n",
    "| `update(iterable)`   | Adds multiple elements from an iterable             | `fruits.update(['pear', 'kiwi'])`   |\n",
    "| `copy()`             | Returns a shallow copy of the set                   | `new_set = fruits.copy()`           |\n"
   ]
  },
  {
   "cell_type": "code",
   "execution_count": 3,
   "id": "64a07db7",
   "metadata": {},
   "outputs": [
    {
     "data": {
      "text/plain": [
       "{'apple', 'banana', 'mango'}"
      ]
     },
     "execution_count": 3,
     "metadata": {},
     "output_type": "execute_result"
    }
   ],
   "source": [
    "fruits"
   ]
  },
  {
   "cell_type": "code",
   "execution_count": 13,
   "id": "0c9881ae",
   "metadata": {},
   "outputs": [
    {
     "data": {
      "text/plain": [
       "{'apple', 'banana', 'mango', 'orange'}"
      ]
     },
     "execution_count": 13,
     "metadata": {},
     "output_type": "execute_result"
    }
   ],
   "source": [
    "# Add a new fruit at the end\n",
    "fruits.add('orange')\n",
    "fruits"
   ]
  },
  {
   "cell_type": "code",
   "execution_count": 14,
   "id": "ff3260a3",
   "metadata": {},
   "outputs": [
    {
     "ename": "KeyError",
     "evalue": "'kiwi'",
     "output_type": "error",
     "traceback": [
      "\u001b[31m---------------------------------------------------------------------------\u001b[39m",
      "\u001b[31mKeyError\u001b[39m                                  Traceback (most recent call last)",
      "\u001b[36mCell\u001b[39m\u001b[36m \u001b[39m\u001b[32mIn[14]\u001b[39m\u001b[32m, line 2\u001b[39m\n\u001b[32m      1\u001b[39m \u001b[38;5;66;03m# Remove kiwi from the set\u001b[39;00m\n\u001b[32m----> \u001b[39m\u001b[32m2\u001b[39m \u001b[43mfruits\u001b[49m\u001b[43m.\u001b[49m\u001b[43mremove\u001b[49m\u001b[43m(\u001b[49m\u001b[33;43m'\u001b[39;49m\u001b[33;43mkiwi\u001b[39;49m\u001b[33;43m'\u001b[39;49m\u001b[43m)\u001b[49m  \u001b[38;5;66;03m# This will raise an error if 'kiwi' is not present\u001b[39;00m\n",
      "\u001b[31mKeyError\u001b[39m: 'kiwi'"
     ]
    }
   ],
   "source": [
    "# Remove kiwi from the set\n",
    "fruits.remove('kiwi')  # This will raise an error if 'kiwi' is not present"
   ]
  },
  {
   "cell_type": "code",
   "execution_count": 15,
   "id": "cc634ad4",
   "metadata": {},
   "outputs": [
    {
     "data": {
      "text/plain": [
       "{'apple', 'banana', 'mango', 'orange'}"
      ]
     },
     "execution_count": 15,
     "metadata": {},
     "output_type": "execute_result"
    }
   ],
   "source": [
    "# To avoid error, use discard instead   \n",
    "fruits.discard('kiwi')  # This will not raise an error if 'kiwi' is not present\n",
    "fruits"
   ]
  },
  {
   "cell_type": "code",
   "execution_count": 16,
   "id": "ce591827",
   "metadata": {},
   "outputs": [
    {
     "data": {
      "text/plain": [
       "'orange'"
      ]
     },
     "execution_count": 16,
     "metadata": {},
     "output_type": "execute_result"
    }
   ],
   "source": [
    "# Using the pop() method to remove and return an arbitrary element\n",
    "removed_fruit = fruits.pop()  # Removes and returns an arbitrary element\n",
    "fruits\n",
    "removed_fruit"
   ]
  },
  {
   "cell_type": "code",
   "execution_count": 17,
   "id": "36139c99",
   "metadata": {},
   "outputs": [
    {
     "data": {
      "text/plain": [
       "{'apple', 'banana', 'mango'}"
      ]
     },
     "execution_count": 17,
     "metadata": {},
     "output_type": "execute_result"
    }
   ],
   "source": [
    "fruits"
   ]
  },
  {
   "cell_type": "code",
   "execution_count": 18,
   "id": "f6b92577",
   "metadata": {},
   "outputs": [
    {
     "data": {
      "text/plain": [
       "{'apple', 'banana', 'grape', 'kiwi', 'mango', 'pear'}"
      ]
     },
     "execution_count": 18,
     "metadata": {},
     "output_type": "execute_result"
    }
   ],
   "source": [
    "# Add multiple elements at once\n",
    "fruits.update(['grape', 'kiwi', 'pear'])\n",
    "fruits"
   ]
  },
  {
   "cell_type": "markdown",
   "id": "51d5d1b0",
   "metadata": {},
   "source": []
  }
 ],
 "metadata": {
  "kernelspec": {
   "display_name": "myenv",
   "language": "python",
   "name": "python3"
  },
  "language_info": {
   "codemirror_mode": {
    "name": "ipython",
    "version": 3
   },
   "file_extension": ".py",
   "mimetype": "text/x-python",
   "name": "python",
   "nbconvert_exporter": "python",
   "pygments_lexer": "ipython3",
   "version": "3.13.3"
  }
 },
 "nbformat": 4,
 "nbformat_minor": 5
}
