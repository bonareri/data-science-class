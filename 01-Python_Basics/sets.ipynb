{
 "cells": [
  {
   "cell_type": "markdown",
   "id": "7f0ef9f8",
   "metadata": {},
   "source": [
    "## Sets\n",
    "\n",
    "A set is a built-in data type in Python used to store multiple unique items in a single variable.\n",
    "\n",
    "- Sets are unordered → no indexing or slicing.\n",
    "- Sets are mutable → you can add/remove elements.\n",
    "- Sets are unique → duplicates are automatically removed.\n",
    "- Sets are defined using curly braces {} or the set() constructor."
   ]
  },
  {
   "cell_type": "markdown",
   "id": "380d6cea",
   "metadata": {},
   "source": [
    "### Creating a Set"
   ]
  },
  {
   "cell_type": "code",
   "execution_count": 1,
   "id": "3084d506",
   "metadata": {},
   "outputs": [
    {
     "data": {
      "text/plain": [
       "{'apple', 'banana', 'mango'}"
      ]
     },
     "execution_count": 1,
     "metadata": {},
     "output_type": "execute_result"
    }
   ],
   "source": [
    "# Using curly braces\n",
    "fruits = {'apple', 'banana', 'mango'}\n",
    "fruits"
   ]
  },
  {
   "cell_type": "code",
   "execution_count": 2,
   "id": "3cc240d3",
   "metadata": {},
   "outputs": [
    {
     "data": {
      "text/plain": [
       "{1, 2, 3, 4}"
      ]
     },
     "execution_count": 2,
     "metadata": {},
     "output_type": "execute_result"
    }
   ],
   "source": [
    "# Using the set() constructor (useful for converting lists)\n",
    "numbers = set([1, 2, 2, 3, 4])  # Duplicates removed\n",
    "numbers"
   ]
  },
  {
   "cell_type": "markdown",
   "id": "52ee8ec1",
   "metadata": {},
   "source": [
    "```Note:```\n",
    "- An empty set must be created with set() not {}\n",
    "- {} creates an empty dictionary."
   ]
  },
  {
   "cell_type": "markdown",
   "id": "16472f94",
   "metadata": {},
   "source": [
    "### Common Set Methods\n",
    "\n",
    "| Method               | Description                                         | Example                             |\n",
    "|----------------------|-----------------------------------------------------|-------------------------------------|\n",
    "| `add(x)`             | Adds an element `x` to the set                      | `fruits.add('orange')`              |\n",
    "| `remove(x)`          | Removes `x` from the set (error if not found)       | `fruits.remove('banana')`           |\n",
    "| `discard(x)`         | Removes `x` if present, does nothing if not         | `fruits.discard('apple')`           |\n",
    "| `pop()`              | Removes and returns a random element                | `fruits.pop()`                      |\n",
    "| `clear()`            | Removes all elements from the set                   | `fruits.clear()`                    |\n",
    "| `update(iterable)`   | Adds multiple elements from an iterable             | `fruits.update(['pear', 'kiwi'])`   |\n",
    "| `copy()`             | Returns a shallow copy of the set                   | `new_set = fruits.copy()`           |\n"
   ]
  },
  {
   "cell_type": "code",
   "execution_count": 3,
   "id": "64a07db7",
   "metadata": {},
   "outputs": [
    {
     "data": {
      "text/plain": [
       "{'apple', 'banana', 'mango'}"
      ]
     },
     "execution_count": 3,
     "metadata": {},
     "output_type": "execute_result"
    }
   ],
   "source": [
    "fruits"
   ]
  },
  {
   "cell_type": "code",
   "execution_count": 13,
   "id": "0c9881ae",
   "metadata": {},
   "outputs": [
    {
     "data": {
      "text/plain": [
       "{'apple', 'banana', 'mango', 'orange'}"
      ]
     },
     "execution_count": 13,
     "metadata": {},
     "output_type": "execute_result"
    }
   ],
   "source": [
    "# Add a new fruit at the end\n",
    "fruits.add('orange')\n",
    "fruits"
   ]
  },
  {
   "cell_type": "code",
   "execution_count": 14,
   "id": "ff3260a3",
   "metadata": {},
   "outputs": [
    {
     "ename": "KeyError",
     "evalue": "'kiwi'",
     "output_type": "error",
     "traceback": [
      "\u001b[31m---------------------------------------------------------------------------\u001b[39m",
      "\u001b[31mKeyError\u001b[39m                                  Traceback (most recent call last)",
      "\u001b[36mCell\u001b[39m\u001b[36m \u001b[39m\u001b[32mIn[14]\u001b[39m\u001b[32m, line 2\u001b[39m\n\u001b[32m      1\u001b[39m \u001b[38;5;66;03m# Remove kiwi from the set\u001b[39;00m\n\u001b[32m----> \u001b[39m\u001b[32m2\u001b[39m \u001b[43mfruits\u001b[49m\u001b[43m.\u001b[49m\u001b[43mremove\u001b[49m\u001b[43m(\u001b[49m\u001b[33;43m'\u001b[39;49m\u001b[33;43mkiwi\u001b[39;49m\u001b[33;43m'\u001b[39;49m\u001b[43m)\u001b[49m  \u001b[38;5;66;03m# This will raise an error if 'kiwi' is not present\u001b[39;00m\n",
      "\u001b[31mKeyError\u001b[39m: 'kiwi'"
     ]
    }
   ],
   "source": [
    "# Remove kiwi from the set\n",
    "fruits.remove('kiwi')  # This will raise an error if 'kiwi' is not present"
   ]
  },
  {
   "cell_type": "code",
   "execution_count": 15,
   "id": "cc634ad4",
   "metadata": {},
   "outputs": [
    {
     "data": {
      "text/plain": [
       "{'apple', 'banana', 'mango', 'orange'}"
      ]
     },
     "execution_count": 15,
     "metadata": {},
     "output_type": "execute_result"
    }
   ],
   "source": [
    "# To avoid error, use discard instead   \n",
    "fruits.discard('kiwi')  # This will not raise an error if 'kiwi' is not present\n",
    "fruits"
   ]
  },
  {
   "cell_type": "code",
   "execution_count": 16,
   "id": "ce591827",
   "metadata": {},
   "outputs": [
    {
     "data": {
      "text/plain": [
       "'orange'"
      ]
     },
     "execution_count": 16,
     "metadata": {},
     "output_type": "execute_result"
    }
   ],
   "source": [
    "# Using the pop() method to remove and return an arbitrary element\n",
    "removed_fruit = fruits.pop()  # Removes and returns an arbitrary element\n",
    "fruits\n",
    "removed_fruit"
   ]
  },
  {
   "cell_type": "code",
   "execution_count": 17,
   "id": "36139c99",
   "metadata": {},
   "outputs": [
    {
     "data": {
      "text/plain": [
       "{'apple', 'banana', 'mango'}"
      ]
     },
     "execution_count": 17,
     "metadata": {},
     "output_type": "execute_result"
    }
   ],
   "source": [
    "fruits"
   ]
  },
  {
   "cell_type": "code",
   "execution_count": 18,
   "id": "f6b92577",
   "metadata": {},
   "outputs": [
    {
     "data": {
      "text/plain": [
       "{'apple', 'banana', 'grape', 'kiwi', 'mango', 'pear'}"
      ]
     },
     "execution_count": 18,
     "metadata": {},
     "output_type": "execute_result"
    }
   ],
   "source": [
    "# Add multiple elements at once\n",
    "fruits.update(['grape', 'kiwi', 'pear'])\n",
    "fruits"
   ]
  },
  {
   "cell_type": "code",
   "execution_count": 2,
   "id": "dbd05986",
   "metadata": {},
   "outputs": [
    {
     "name": "stdout",
     "output_type": "stream",
     "text": [
      "Too low!\n",
      "Too high!\n",
      "Too high!\n",
      "Sorry, you've used all your attempts. The number was 65.\n"
     ]
    }
   ],
   "source": [
    "import random\n",
    "\n",
    "random_number = random.randint(1, 100)\n",
    "attempts = 0\n",
    "\n",
    "\n",
    "while attempts < 3:\n",
    "    try:\n",
    "        user_input = int(input(\"Guess a number between 1 and 100: \"))\n",
    "    except ValueError:\n",
    "        print(\"Please enter a valid integer.\")\n",
    "        continue\n",
    "\n",
    "    if user_input < 1 or user_input > 100:\n",
    "        print(\"Number out of range. Please guess between 1 and 100.\")\n",
    "        continue\n",
    "\n",
    "    if user_input > random_number:\n",
    "        print(\"Too high!\")\n",
    "    elif user_input < random_number:\n",
    "        print(\"Too low!\")\n",
    "    else:\n",
    "        print(\"Correct! You guessed the number.\")\n",
    "        break\n",
    "\n",
    "    attempts += 1\n",
    "\n",
    "if attempts == 3 and user_input != random_number:\n",
    "    print(f\"Sorry, you've used all your attempts. The number was {random_number}.\")\n"
   ]
  },
  {
   "cell_type": "code",
   "execution_count": 1,
   "id": "3e021722",
   "metadata": {},
   "outputs": [
    {
     "name": "stdout",
     "output_type": "stream",
     "text": [
      "The number is positive.\n"
     ]
    }
   ],
   "source": [
    "def number_checker(number):\n",
    "    if number > 0:\n",
    "        print(\"The number is positive.\")\n",
    "    elif number < 0:\n",
    "        print(\"The number is negative.\")\n",
    "    else:\n",
    "        print(\"The number is zero.\")\n",
    "\n",
    "number_checker(10)\n"
   ]
  },
  {
   "cell_type": "code",
   "execution_count": 15,
   "id": "01fc1236",
   "metadata": {},
   "outputs": [
    {
     "name": "stdout",
     "output_type": "stream",
     "text": [
      "Please enter a valid number.\n",
      "The number is zero\n",
      "The number is negative\n"
     ]
    }
   ],
   "source": [
    "def number_checker(number):\n",
    "    try:  \n",
    "        input_number = float(number)\n",
    "        if number < 0:\n",
    "            print(\"The number is negative\")\n",
    "        elif number > 0:\n",
    "            print(\"The number is positive\")\n",
    "        elif number == 0:\n",
    "            print(\"The number is zero\")\n",
    "        else:\n",
    "            print(\"This is not a number\")\n",
    "\n",
    "    except ValueError:\n",
    "        print(\"Please enter a valid number.\")\n",
    "\n",
    "number_checker(\"five\")\n",
    "number_checker(0)\n",
    "number_checker(-10)"
   ]
  },
  {
   "cell_type": "code",
   "execution_count": 21,
   "id": "26c61e77",
   "metadata": {},
   "outputs": [
    {
     "name": "stdout",
     "output_type": "stream",
     "text": [
      "The area of a square is: 25\n",
      "The area of a rectangle is: 24\n",
      "The area of a circle is: 28.274333882308138\n"
     ]
    }
   ],
   "source": [
    "import math\n",
    "\n",
    "def area_of_square(side_length):\n",
    "    area = side_length ** 2\n",
    "    return area\n",
    "\n",
    "def area_of_rectangle(length, width):\n",
    "    area = length * width\n",
    "    return area\n",
    "\n",
    "def area_of_circle(radius):\n",
    "    area = math.pi * radius ** 2\n",
    "    return area\n",
    "\n",
    "try:\n",
    "    print(f\"The area of a square is: {area_of_square(5)}\")\n",
    "except (TypeError, ValueError) as e:\n",
    "    print(f\"Error calculating square area: {e}\")\n",
    "\n",
    "try:\n",
    "    print(f\"The area of a rectangle is: {area_of_rectangle(4, 6)}\")\n",
    "except (TypeError, ValueError) as e:\n",
    "    print(f\"Error calculating rectangle area: {e}\")\n",
    "\n",
    "try:\n",
    "    print(f\"The area of a circle is: {area_of_circle(3)}\")\n",
    "except (TypeError, ValueError) as e:\n",
    "    print(f\"Error calculating circle area: {e}\")\n"
   ]
  },
  {
   "cell_type": "code",
   "execution_count": 22,
   "id": "cb7fd002",
   "metadata": {},
   "outputs": [
    {
     "name": "stdout",
     "output_type": "stream",
     "text": [
      "Your grade is: Invalid input. Please enter a valid number.\n"
     ]
    }
   ],
   "source": [
    "def calculate_grade():\n",
    "    try:\n",
    "        score = int(input(\"Enter your score: \"))\n",
    "        if score >= 90:\n",
    "            return 'A'\n",
    "        elif score >= 80:\n",
    "            return 'B'\n",
    "        elif score >= 70:\n",
    "            return 'C'\n",
    "        elif score >= 60:\n",
    "            return 'D'\n",
    "        else:\n",
    "            return 'F'\n",
    "    except ValueError:\n",
    "        return \"Invalid input. Please enter a valid number.\"\n",
    "\n",
    "print(f\"Your grade is: {calculate_grade()}\")\n"
   ]
  },
  {
   "cell_type": "code",
   "execution_count": null,
   "id": "810f7ac8",
   "metadata": {},
   "outputs": [],
   "source": []
  }
 ],
 "metadata": {
  "kernelspec": {
   "display_name": "myenv",
   "language": "python",
   "name": "python3"
  },
  "language_info": {
   "codemirror_mode": {
    "name": "ipython",
    "version": 3
   },
   "file_extension": ".py",
   "mimetype": "text/x-python",
   "name": "python",
   "nbconvert_exporter": "python",
   "pygments_lexer": "ipython3",
   "version": "3.13.3"
  }
 },
 "nbformat": 4,
 "nbformat_minor": 5
}
