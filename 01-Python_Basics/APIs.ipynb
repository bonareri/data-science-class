{
 "cells": [
  {
   "cell_type": "markdown",
   "id": "070237b0",
   "metadata": {},
   "source": [
    "## Working with APIs\n",
    "In this lesson, we'll cover:\n",
    " 1. Applying Web Services\n",
    " 2. APIs in practice "
   ]
  },
  {
   "cell_type": "markdown",
   "id": "d1a77257",
   "metadata": {},
   "source": [
    "## Applying Web Services\n",
    "\n",
    "### Introduction to APIs?\n",
    "An **API (Application Programming Interface)** is a set of rules that allows different software applications to communicate with each other.\n",
    "\n",
    "Think of it like a **waiter** at a restaurant:\n",
    "- You (the client) give the waiter (API) your order.\n",
    "- The waiter takes it to the kitchen (server).\n",
    "- The kitchen prepares your food and gives it back to the waiter.\n",
    "- The waiter delivers it to you.\n",
    "\n",
    "### Examples where APIs are used?\n",
    "<ol>\n",
    " \t<li><strong>Data Integration</strong>: APIs allow different databases or software services to share data. For instance, a weather application might use an API to gather weather data from a central database.</li>\n",
    " \t<li><strong>E-commerce</strong>: Online stores use APIs to connect with payment processors, ensuring smooth transactions.</li>\n",
    " \t<li><strong>Social Media Integration</strong>: Many websites and apps use social media APIs to allow users to sign in with their social media accounts, share content, or import their profile data.</li>\n",
    " \t<li><strong>IoT Devices</strong>: In the Internet of Things (IoT), smart thermostats and fitness trackers use APIs to communicate data to servers or other devices.</li>\n",
    " \t<li><strong>Cloud Computing</strong>: APIs are crucial in cloud services, allowing applications to access cloud resources and perform tasks like storing data or running computations.</li>\n",
    "</ol>\n",
    "\n",
    "---\n",
    "\n",
    "In Python, working with APIs usually involves sending HTTP requests to web services and processing the responses. Python provides several libraries to facilitate API interactions, such as <code>requests</code>, <code>http.client</code>, and <code>urllib</code>.\n",
    "\n",
    "### API Terms to Know\n",
    "\n",
    "| Term               | Description                                                                 |\n",
    "|--------------------|-----------------------------------------------------------------------------|\n",
    "| **Endpoint**        | URLs to which you send requests (e.g., `https://api.example.com/users`).\n",
    "| **Request**         | The action sent to the API (e.g., GET, POST)                                |\n",
    "| **Response**        | The data returned by the API (usually in JSON or XML format)                       |\n",
    "| **Status Code**     | Tells if the request was successful (e.g., `200`, `404`)                    |\n",
    "| **Authentication**  | Many APIs require an API Key or token to access                             |\n",
    "| **HTTP Methods**    | Common methods include GET, POST, PUT, DELETE                               |\n",
    "| **Headers**         | Metadata sent with the request (e.g., authentication tokens, content type)  |\n",
    "| **Parameters**      | Data sent with the request (query params in URL or in the request body)     |\n",
    "\n",
    "---\n",
    "\n",
    "### Common HTTP Methods\n",
    "\n",
    "| Method | Description          |\n",
    "|--------|----------------------|\n",
    "| GET    | Retrieve data        |\n",
    "| POST   | Send data            |\n",
    "| PUT    | Update existing data |\n",
    "| DELETE | Remove data          |\n",
    "\n",
    "---\n",
    "\n",
    "<h2>Understanding Common API Status Codes</h2>\n",
    "<p class=\"rm\">Every request to a web server returns a status code indicating what happened with the request. Here are some common codes relevant to GET requests:</p>\n",
    "\n",
    "<ul>\n",
    " \t<li><code>200</code>: Everything went okay, and the result has been returned (if any).</li>\n",
    " \t<li><code>301</code>: The server is redirecting you to a different endpoint. This can happen when a company switches domain names, or an endpoint name is changed.</li>\n",
    " \t<li><code>400</code>: The server thinks you made a bad request. This happens when you send incorrect data or make other client-side errors.</li>\n",
    " \t<li><code>401</code>: The server thinks you're not authenticated. Many APIs require login credentials, so this happens when you don't send the right credentials to access an API.</li>\n",
    " \t<li><code>403</code>: The resource you're trying to access is forbidden: you don't have the right permissions to see it.</li>\n",
    " \t<li><code>404</code>: The resource you tried to access wasn't found on the server.</li>\n",
    " \t<li><code>503</code>: The server is not ready to handle the request.</li>\n",
    "</ul>\n",
    "<p class=\"rm\">Notice that all the codes starting with 4 indicate some sort of client-side error, while 5xx codes point to server-side issues. The first digit of the status code indicates its category. Knowing this makes it easy to quickly identify if a request was successful (2xx) or if there was an error (4xx or 5xx).</p>"
   ]
  },
  {
   "cell_type": "markdown",
   "id": "f25219ec",
   "metadata": {},
   "source": [
    "<h4>Working with APIs in Python</h4>\n",
    "The <code>requests</code> library is the most popular way to interact with APIs in Python. Here's a basic example:\n",
    "\n",
    "```python\n",
    "import requests\n",
    "\n",
    "# Send a GET request to an API endpoint\n",
    "response = requests.get('https://api.example.com/data')\n",
    "\n",
    "# Check if the request was successful\n",
    "if response.status_code == 200:\n",
    "data = response.json() # Parse JSON response\n",
    "print(data)\n",
    "else:\n",
    "print(f\"Error: {response.status_code}\")\n",
    "```"
   ]
  },
  {
   "cell_type": "markdown",
   "id": "758c7c65",
   "metadata": {},
   "source": [
    "### APIs in Practice\n",
    "\n",
    "Example of working with an API in Python using the JSONPlaceholder API, a free fake REST API for testing."
   ]
  },
  {
   "cell_type": "markdown",
   "id": "447d217a",
   "metadata": {},
   "source": [
    "#### Step 1: Import the Required Library"
   ]
  },
  {
   "cell_type": "code",
   "execution_count": 3,
   "id": "5b00c1cf",
   "metadata": {},
   "outputs": [],
   "source": [
    "import requests"
   ]
  },
  {
   "cell_type": "markdown",
   "id": "386b5149",
   "metadata": {},
   "source": [
    "We use the requests library to make HTTP requests (like GET or POST) to the API."
   ]
  },
  {
   "cell_type": "markdown",
   "id": "6fabac86",
   "metadata": {},
   "source": [
    "#### Step 2: Define the API Endpoint (URL)"
   ]
  },
  {
   "cell_type": "code",
   "execution_count": 4,
   "id": "559308c5",
   "metadata": {},
   "outputs": [],
   "source": [
    "url = \"https://jsonplaceholder.typicode.com/posts\""
   ]
  },
  {
   "cell_type": "markdown",
   "id": "43887503",
   "metadata": {},
   "source": [
    "- This URL is the endpoint — it's like the address you’re sending your request to.\n",
    "- In this example, we’re asking for posts from the JSONPlaceholder fake API."
   ]
  },
  {
   "cell_type": "markdown",
   "id": "29977b0a",
   "metadata": {},
   "source": [
    "#### Step 3: Send a GET Request"
   ]
  },
  {
   "cell_type": "code",
   "execution_count": 5,
   "id": "960e8dd4",
   "metadata": {},
   "outputs": [],
   "source": [
    "response = requests.get(url)"
   ]
  },
  {
   "cell_type": "markdown",
   "id": "822e5715",
   "metadata": {},
   "source": [
    "- This sends a GET request to the server.\n",
    "- The response from the server (like a letter back) will be stored in the response variable."
   ]
  },
  {
   "cell_type": "markdown",
   "id": "abce1c71",
   "metadata": {},
   "source": [
    "#### Step 4: Check the Response Status"
   ]
  },
  {
   "cell_type": "code",
   "execution_count": 6,
   "id": "40b8a73a",
   "metadata": {},
   "outputs": [
    {
     "name": "stdout",
     "output_type": "stream",
     "text": [
      "200\n"
     ]
    }
   ],
   "source": [
    "print(response.status_code)"
   ]
  },
  {
   "cell_type": "markdown",
   "id": "a6302ac4",
   "metadata": {},
   "source": [
    "#### Step 5: Convert Response to JSON"
   ]
  },
  {
   "cell_type": "code",
   "execution_count": 14,
   "id": "ef34a027",
   "metadata": {},
   "outputs": [
    {
     "data": {
      "text/plain": [
       "{'title': 'New Post Title',\n",
       " 'body': 'This is the body of the new post.',\n",
       " 'userId': 1,\n",
       " 'id': 101}"
      ]
     },
     "execution_count": 14,
     "metadata": {},
     "output_type": "execute_result"
    }
   ],
   "source": [
    "posts = response.json()\n",
    "posts"
   ]
  },
  {
   "cell_type": "markdown",
   "id": "81fc9df1",
   "metadata": {},
   "source": [
    "- Most APIs return data in JSON format, which looks like a list or dictionary in Python.\n",
    "- We use .json() to convert it into a Python-readable format."
   ]
  },
  {
   "cell_type": "markdown",
   "id": "3839ce5d",
   "metadata": {},
   "source": [
    "#### Step 6: Access and Display the Data"
   ]
  },
  {
   "cell_type": "code",
   "execution_count": null,
   "id": "b7462310",
   "metadata": {},
   "outputs": [
    {
     "name": "stdout",
     "output_type": "stream",
     "text": [
      "Title: sunt aut facere repellat provident occaecati excepturi optio reprehenderit\n",
      "Body: quia et suscipit\n",
      "suscipit recusandae consequuntur expedita et cum\n",
      "reprehenderit molestiae ut ut quas totam\n",
      "nostrum rerum est autem sunt rem eveniet architecto\n",
      "--------------------------------------------------\n",
      "Title: qui est esse\n",
      "Body: est rerum tempore vitae\n",
      "sequi sint nihil reprehenderit dolor beatae ea dolores neque\n",
      "fugiat blanditiis voluptate porro vel nihil molestiae ut reiciendis\n",
      "qui aperiam non debitis possimus qui neque nisi nulla\n",
      "--------------------------------------------------\n",
      "Title: ea molestias quasi exercitationem repellat qui ipsa sit aut\n",
      "Body: et iusto sed quo iure\n",
      "voluptatem occaecati omnis eligendi aut ad\n",
      "voluptatem doloribus vel accusantium quis pariatur\n",
      "molestiae porro eius odio et labore et velit aut\n",
      "--------------------------------------------------\n",
      "Title: eum et est occaecati\n",
      "Body: ullam et saepe reiciendis voluptatem adipisci\n",
      "sit amet autem assumenda provident rerum culpa\n",
      "quis hic commodi nesciunt rem tenetur doloremque ipsam iure\n",
      "quis sunt voluptatem rerum illo velit\n",
      "--------------------------------------------------\n",
      "Title: nesciunt quas odio\n",
      "Body: repudiandae veniam quaerat sunt sed\n",
      "alias aut fugiat sit autem sed est\n",
      "voluptatem omnis possimus esse voluptatibus quis\n",
      "est aut tenetur dolor neque\n",
      "--------------------------------------------------\n"
     ]
    }
   ],
   "source": [
    "# This loop displays the title and body of each post.\n",
    "for post in posts[:5]:  # show only first 5 posts\n",
    "    print(f\"Title: {post['title']}\")\n",
    "    print(f\"Body: {post['body']}\")\n",
    "    print(\"-\" * 50)"
   ]
  },
  {
   "cell_type": "markdown",
   "id": "919456a5",
   "metadata": {},
   "source": [
    "#### Store the data in a CSV file"
   ]
  },
  {
   "cell_type": "code",
   "execution_count": 11,
   "id": "d5a44487",
   "metadata": {},
   "outputs": [
    {
     "name": "stdout",
     "output_type": "stream",
     "text": [
      "Data stored in posts.csv\n"
     ]
    }
   ],
   "source": [
    "import csv\n",
    "\n",
    " # Store the data in a CSV file\n",
    "with open('posts.csv', 'w') as file:\n",
    "       writer = csv.writer(file)\n",
    "       # Write the header row\n",
    "       writer.writerow([\"UserId\", \"Id\", \"Title\", \"Body\"])\n",
    "       # Write the data rows\n",
    "       for post in posts:\n",
    "           writer.writerow([post['userId'], post['id'], post['title'], post['body']])\n",
    "print(\"Data stored in posts.csv\")"
   ]
  },
  {
   "cell_type": "markdown",
   "id": "262dd258",
   "metadata": {},
   "source": [
    "#### Using the POST Method\n",
    "\n",
    "The POST method is used to send data to the server. Let’s create a new post."
   ]
  },
  {
   "cell_type": "code",
   "execution_count": 12,
   "id": "71a23f6c",
   "metadata": {},
   "outputs": [
    {
     "name": "stdout",
     "output_type": "stream",
     "text": [
      "Post created with ID: 101\n",
      "{'title': 'New Post Title', 'body': 'This is the body of the new post.', 'userId': 1, 'id': 101}\n"
     ]
    }
   ],
   "source": [
    "# Define the data for the new post\n",
    "new_post = {\n",
    "    \"title\": \"New Post Title\",\n",
    "    \"body\": \"This is the body of the new post.\",\n",
    "    \"userId\": 1\n",
    "}\n",
    "# Send a POST request to create a new post\n",
    "response = requests.post(url, json=new_post)\n",
    "# Check if the request was successful\n",
    "if response.status_code == 201:\n",
    "    post = response.json()  # Parse the JSON data\n",
    "    print(f\"Post created with ID: {post['id']}\")\n",
    "    print(post)\n",
    "else:\n",
    "    print(\"Failed to create post\")"
   ]
  },
  {
   "cell_type": "markdown",
   "id": "ecc06049",
   "metadata": {},
   "source": [
    "### Real-World Example: Fetching Weather Data\n",
    "\n",
    "We’ll use OpenWeatherMap’s API to get the current weather for a city."
   ]
  },
  {
   "cell_type": "markdown",
   "id": "8da93ad4",
   "metadata": {},
   "source": [
    "#### Step 1: Sign Up and Get an API Key\n",
    "1. Go to https://openweathermap.org/api\n",
    "2. Sign up for a free account.\n",
    "3. Once logged in, go to the API Keys section.\n",
    "4. Copy your API Key — you’ll need it to authenticate requests."
   ]
  }
 ],
 "metadata": {
  "kernelspec": {
   "display_name": "venv",
   "language": "python",
   "name": "python3"
  },
  "language_info": {
   "codemirror_mode": {
    "name": "ipython",
    "version": 3
   },
   "file_extension": ".py",
   "mimetype": "text/x-python",
   "name": "python",
   "nbconvert_exporter": "python",
   "pygments_lexer": "ipython3",
   "version": "3.13.3"
  }
 },
 "nbformat": 4,
 "nbformat_minor": 5
}
