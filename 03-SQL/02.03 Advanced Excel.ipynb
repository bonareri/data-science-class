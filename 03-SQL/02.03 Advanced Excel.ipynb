{
 "cells": [
  {
   "cell_type": "markdown",
   "id": "172c3a8d",
   "metadata": {},
   "source": [
    "### VLOOKUP in Excel\n",
    "\n",
    "VLOOKUP (Vertical LOOK‑UP) searches the left‑most column of a table for a value, travels down that column, then returns a value from a column you specify in the same row.\n",
    "\n",
    "```excel\n",
    "=VLOOKUP(lookup_value, table_array, col_index_num, [range_lookup])\n",
    "```\n",
    "\n",
    "| Argument         | Meaning                                                    | Example value |\n",
    "| ---------------- | ---------------------------------------------------------- | ------------- |\n",
    "| `lookup_value`   | The value you’re searching for                             | `E2`          |\n",
    "| `table_array`    | The entire lookup table (must include the lookup column)   | `$A$2:$D$10`  |\n",
    "| `col_index_num`  | The column **number** (1 = left‑most) whose value you want | `4`           |\n",
    "| `[range_lookup]` | `FALSE` = **exact** match, `TRUE` = approximate (optional) | `FALSE`       |\n"
   ]
  },
  {
   "cell_type": "markdown",
   "id": "fdfdb23b",
   "metadata": {},
   "source": [
    "### INDEX MATCH\n",
    "\n",
    "#### Why Use INDEX MATCH Instead of VLOOKUP?\n",
    "\n",
    "- Can look left of lookup column\n",
    "- No need to count columns\n",
    "- Faster with large datasets\n",
    "- Dynamic column/row lookup\n",
    "\n",
    "Syntax\n",
    "```excel\n",
    "INDEX(array, row_num, [column_num])\n",
    "```\n",
    "Returns the value from a table based on row and column positions.\n",
    "\n",
    "```excel\n",
    "MATCH(lookup_value, lookup_array, [match_type])\n",
    "```\n",
    "Returns the position (number) of a value in a range.\n",
    "\n",
    "Combined Formula: INDEX(MATCH)\n",
    "```excel\n",
    "=INDEX(return_range, MATCH(lookup_value, lookup_range, 0))\n",
    "```\n",
    "\n",
    "\n"
   ]
  },
  {
   "cell_type": "markdown",
   "id": "db1bee50",
   "metadata": {},
   "source": []
  }
 ],
 "metadata": {
  "language_info": {
   "name": "python"
  }
 },
 "nbformat": 4,
 "nbformat_minor": 5
}
