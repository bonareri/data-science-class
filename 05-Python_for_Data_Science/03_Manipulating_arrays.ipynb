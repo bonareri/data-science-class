{
 "cells": [
  {
   "cell_type": "markdown",
   "id": "1e387099",
   "metadata": {},
   "source": [
    "### Boolean Masking\n",
    "\n",
    "`Boolean Masking` means selecting values from an array based on a condition that returns True or False for each element."
   ]
  },
  {
   "cell_type": "code",
   "execution_count": 2,
   "id": "b340820f",
   "metadata": {},
   "outputs": [],
   "source": [
    "import numpy as np"
   ]
  },
  {
   "cell_type": "markdown",
   "id": "af159f24",
   "metadata": {},
   "source": [
    "#### Boolean Masking with 1D Arrays"
   ]
  },
  {
   "cell_type": "code",
   "execution_count": 3,
   "id": "793079ec",
   "metadata": {},
   "outputs": [
    {
     "data": {
      "text/plain": [
       "array([30, 40, 50])"
      ]
     },
     "execution_count": 3,
     "metadata": {},
     "output_type": "execute_result"
    }
   ],
   "source": [
    "# create an array\n",
    "arr = np.array([10, 20, 30, 40, 50])\n",
    "\n",
    "#Apply a condition to the array\n",
    "mask = arr > 25 # This will create a boolean mask where each element is True if the condition is met, otherwise False.\n",
    "\n",
    "# Use the mask to filter\n",
    "result = arr[mask]\n",
    "result"
   ]
  },
  {
   "cell_type": "code",
   "execution_count": 7,
   "id": "ccfeafd5",
   "metadata": {},
   "outputs": [
    {
     "name": "stdout",
     "output_type": "stream",
     "text": [
      "[ 1  2  3  4  5  6  7  8  9 10]\n",
      "[ 6  7  8  9 10]\n",
      "[False False False False False  True  True  True  True  True]\n"
     ]
    }
   ],
   "source": [
    "arr = np.arange(1, 11)\n",
    "print(arr)\n",
    "\n",
    "mask = arr > 5\n",
    "result = arr[mask]\n",
    "print(result)\n",
    "print(mask)"
   ]
  },
  {
   "cell_type": "markdown",
   "id": "848c4eee",
   "metadata": {},
   "source": [
    "#### Boolean Masking with 2D Arrays"
   ]
  },
  {
   "cell_type": "code",
   "execution_count": 6,
   "id": "b821068b",
   "metadata": {},
   "outputs": [
    {
     "data": {
      "text/plain": [
       "array([[1, 2, 3],\n",
       "       [4, 5, 6],\n",
       "       [7, 8, 9]])"
      ]
     },
     "execution_count": 6,
     "metadata": {},
     "output_type": "execute_result"
    }
   ],
   "source": [
    "arr2D = np.arange(1, 10).reshape(3, 3)\n",
    "arr2D"
   ]
  },
  {
   "cell_type": "code",
   "execution_count": 9,
   "id": "b384c2bf",
   "metadata": {},
   "outputs": [
    {
     "name": "stdout",
     "output_type": "stream",
     "text": [
      "[6 7 8 9]\n",
      "[[False False False]\n",
      " [False False  True]\n",
      " [ True  True  True]]\n"
     ]
    }
   ],
   "source": [
    "# Get all elements greater than 5\n",
    "mask2D = arr2D > 5\n",
    "# Use the mask to filter\n",
    "result2D = arr2D[mask2D]\n",
    "print(result2D)\n",
    "print(mask2D)"
   ]
  },
  {
   "cell_type": "markdown",
   "id": "512305d0",
   "metadata": {},
   "source": [
    "#### Common Use Cases\n",
    "\n",
    "- Filtering arrays\n",
    "- Replacing values\n",
    "- Working with missing data in pandas\n",
    "- Appyling conditions to images, datasets"
   ]
  },
  {
   "cell_type": "code",
   "execution_count": 10,
   "id": "db10ce63",
   "metadata": {},
   "outputs": [
    {
     "data": {
      "text/plain": [
       "array([ 1,  2,  3,  4,  5,  6,  7,  8,  9, 10])"
      ]
     },
     "execution_count": 10,
     "metadata": {},
     "output_type": "execute_result"
    }
   ],
   "source": [
    "arr"
   ]
  },
  {
   "cell_type": "code",
   "execution_count": 11,
   "id": "71a58d69",
   "metadata": {},
   "outputs": [
    {
     "data": {
      "text/plain": [
       "array([ 0,  0,  0,  0,  0,  0,  7,  8,  9, 10])"
      ]
     },
     "execution_count": 11,
     "metadata": {},
     "output_type": "execute_result"
    }
   ],
   "source": [
    "#replacing values\n",
    "arr[arr < 7] = 0\n",
    "arr"
   ]
  },
  {
   "cell_type": "markdown",
   "id": "1bc03c86",
   "metadata": {},
   "source": [
    "### Comparison Operators as ufuncs\n",
    "\n",
    "In Computation on NumPy Arrays: Universal Functions we introduced ufuncs, and focused in particular on arithmetic operators. \n",
    "\n",
    "We saw that using +, -, *, /, and others on arrays leads to element-wise operations.\n",
    "\n",
    "NumPy also implements `comparison operators` such as < (less than) and > (greater than) as element-wise ufuncs.\n",
    "\n",
    "The result of these comparison operators is always an array with a Boolean data type."
   ]
  },
  {
   "cell_type": "code",
   "execution_count": 12,
   "id": "08a8eb30",
   "metadata": {},
   "outputs": [
    {
     "data": {
      "text/plain": [
       "array([1, 2, 3, 4, 5])"
      ]
     },
     "execution_count": 12,
     "metadata": {},
     "output_type": "execute_result"
    }
   ],
   "source": [
    "x = np.arange(1, 6)\n",
    "x"
   ]
  },
  {
   "cell_type": "code",
   "execution_count": 13,
   "id": "c09a4fe2",
   "metadata": {},
   "outputs": [
    {
     "data": {
      "text/plain": [
       "array([False, False, False,  True,  True])"
      ]
     },
     "execution_count": 13,
     "metadata": {},
     "output_type": "execute_result"
    }
   ],
   "source": [
    "x > 3 # This will return a boolean array indicating which elements are greater than 3"
   ]
  },
  {
   "cell_type": "code",
   "execution_count": 14,
   "id": "f9f4ffcf",
   "metadata": {},
   "outputs": [
    {
     "data": {
      "text/plain": [
       "array([ True,  True,  True, False, False])"
      ]
     },
     "execution_count": 14,
     "metadata": {},
     "output_type": "execute_result"
    }
   ],
   "source": [
    "x <= 3  # This will return a boolean array indicating which elements are greater than or equal to 3"
   ]
  },
  {
   "cell_type": "code",
   "execution_count": null,
   "id": "a5b8d485",
   "metadata": {},
   "outputs": [
    {
     "data": {
      "text/plain": [
       "array([False, False,  True,  True,  True])"
      ]
     },
     "execution_count": 14,
     "metadata": {},
     "output_type": "execute_result"
    }
   ],
   "source": [
    "x >= 3 # This will return a boolean array indicating which elements are greater than or equal to 3"
   ]
  },
  {
   "cell_type": "code",
   "execution_count": 15,
   "id": "eacdbfb3",
   "metadata": {},
   "outputs": [
    {
     "data": {
      "text/plain": [
       "array([ True,  True, False,  True,  True])"
      ]
     },
     "execution_count": 15,
     "metadata": {},
     "output_type": "execute_result"
    }
   ],
   "source": [
    "x != 3 # This will return a boolean array indicating which elements are not equal to 3"
   ]
  },
  {
   "cell_type": "code",
   "execution_count": 16,
   "id": "d9439d1f",
   "metadata": {},
   "outputs": [
    {
     "data": {
      "text/plain": [
       "array([False, False,  True, False, False])"
      ]
     },
     "execution_count": 16,
     "metadata": {},
     "output_type": "execute_result"
    }
   ],
   "source": [
    "x == 3 # This will return a boolean array indicating which elements are equal to 3"
   ]
  },
  {
   "cell_type": "markdown",
   "id": "9393b47a",
   "metadata": {},
   "source": [
    "It is also possible to do an element-wise comparison of two arrays, and to include compound expressions:"
   ]
  },
  {
   "cell_type": "code",
   "execution_count": 15,
   "id": "41ebca83",
   "metadata": {},
   "outputs": [
    {
     "data": {
      "text/plain": [
       "array([1, 2, 3, 4, 5])"
      ]
     },
     "execution_count": 15,
     "metadata": {},
     "output_type": "execute_result"
    }
   ],
   "source": [
    "x"
   ]
  },
  {
   "cell_type": "code",
   "execution_count": 17,
   "id": "687e8665",
   "metadata": {},
   "outputs": [
    {
     "data": {
      "text/plain": [
       "array([ 2,  4,  6,  8, 10])"
      ]
     },
     "execution_count": 17,
     "metadata": {},
     "output_type": "execute_result"
    }
   ],
   "source": [
    "2 * x # This will return an array with each element multiplied by 2"
   ]
  },
  {
   "cell_type": "code",
   "execution_count": 18,
   "id": "baf63b82",
   "metadata": {},
   "outputs": [
    {
     "data": {
      "text/plain": [
       "array([ 1,  4,  9, 16, 25])"
      ]
     },
     "execution_count": 18,
     "metadata": {},
     "output_type": "execute_result"
    }
   ],
   "source": [
    "x ** 2  # This will return an array with each element squared"
   ]
  },
  {
   "cell_type": "code",
   "execution_count": 21,
   "id": "a5cdcb5a",
   "metadata": {},
   "outputs": [
    {
     "data": {
      "text/plain": [
       "array([False,  True, False, False, False])"
      ]
     },
     "execution_count": 21,
     "metadata": {},
     "output_type": "execute_result"
    }
   ],
   "source": [
    "(2 * x)  == (x ** 2)"
   ]
  },
  {
   "cell_type": "markdown",
   "id": "b8b308ea",
   "metadata": {},
   "source": [
    "As in the case of arithmetic operators, the comparison operators are implemented as ufuncs in NumPy; for example, when you write x < 3, internally NumPy uses np.less(x, 3)."
   ]
  },
  {
   "cell_type": "markdown",
   "id": "e4cc7ea1",
   "metadata": {},
   "source": [
    "#### summary of the comparison operators and their equivalent ufunc\n",
    "\n",
    "| Operator | Equivalent ufunc     |       | Operator | Equivalent ufunc       |\n",
    "|----------|----------------------|-------|----------|------------------------|\n",
    "| `==`     | `np.equal`           |       | `!=`     | `np.not_equal`         |\n",
    "| `<`      | `np.less`            |       | `<=`     | `np.less_equal`        |\n",
    "| `>`      | `np.greater`         |       | `>=`     | `np.greater_equal`     |"
   ]
  },
  {
   "cell_type": "markdown",
   "id": "c59c0f3c",
   "metadata": {},
   "source": [
    "Just as in the case of arithmetic ufuncs, these will work on arrays of any size and shape. Here is a two-dimensional example:"
   ]
  },
  {
   "cell_type": "code",
   "execution_count": 24,
   "id": "2711379c",
   "metadata": {},
   "outputs": [],
   "source": [
    "import random"
   ]
  },
  {
   "cell_type": "code",
   "execution_count": 38,
   "id": "6d2a0b2c",
   "metadata": {},
   "outputs": [
    {
     "name": "stdout",
     "output_type": "stream",
     "text": [
      "[[ 7  4 11  8]\n",
      " [ 5  7 10  3]\n",
      " [ 7 11 11  8]]\n"
     ]
    }
   ],
   "source": [
    "np.random.seed(42)\n",
    "x = np.random.randint(1, 13, size=12).reshape(3, 4)\n",
    "print(x)  # Generate 12 random integers between 1 and 12"
   ]
  },
  {
   "cell_type": "code",
   "execution_count": 39,
   "id": "03be4387",
   "metadata": {},
   "outputs": [
    {
     "data": {
      "text/plain": [
       "array([[ True, False,  True,  True],\n",
       "       [False,  True,  True, False],\n",
       "       [ True,  True,  True,  True]])"
      ]
     },
     "execution_count": 39,
     "metadata": {},
     "output_type": "execute_result"
    }
   ],
   "source": [
    "x > 6"
   ]
  },
  {
   "cell_type": "markdown",
   "id": "9e4aac19",
   "metadata": {},
   "source": [
    "#### Working with Boolean Arrays"
   ]
  },
  {
   "cell_type": "code",
   "execution_count": 40,
   "id": "6485e463",
   "metadata": {},
   "outputs": [
    {
     "name": "stdout",
     "output_type": "stream",
     "text": [
      "[[ 7  4 11  8]\n",
      " [ 5  7 10  3]\n",
      " [ 7 11 11  8]]\n"
     ]
    }
   ],
   "source": [
    "print(x)"
   ]
  },
  {
   "cell_type": "markdown",
   "id": "3fc53c85",
   "metadata": {},
   "source": [
    "#### Counting entries\n",
    "\n",
    "To count the number of True entries in a Boolean array, we use `np.count_nonzero` "
   ]
  },
  {
   "cell_type": "code",
   "execution_count": 42,
   "id": "d35cdfe2",
   "metadata": {},
   "outputs": [
    {
     "data": {
      "text/plain": [
       "np.int64(3)"
      ]
     },
     "execution_count": 42,
     "metadata": {},
     "output_type": "execute_result"
    }
   ],
   "source": [
    "# how many values less than 6?\n",
    "np.count_nonzero(x < 7)"
   ]
  },
  {
   "cell_type": "code",
   "execution_count": 43,
   "id": "60ebde24",
   "metadata": {},
   "outputs": [
    {
     "data": {
      "text/plain": [
       "array([[ 7,  4, 11,  8],\n",
       "       [ 5,  7, 10,  3],\n",
       "       [ 7, 11, 11,  8]], dtype=int32)"
      ]
     },
     "execution_count": 43,
     "metadata": {},
     "output_type": "execute_result"
    }
   ],
   "source": [
    "x"
   ]
  },
  {
   "cell_type": "markdown",
   "id": "46e80c84",
   "metadata": {},
   "source": [
    "Another way to get at this information is to use `np.sum`; in this case, False is interpreted as 0, and True is interpreted as 1"
   ]
  },
  {
   "cell_type": "code",
   "execution_count": 44,
   "id": "8f24e8bd",
   "metadata": {},
   "outputs": [
    {
     "data": {
      "text/plain": [
       "np.int64(3)"
      ]
     },
     "execution_count": 44,
     "metadata": {},
     "output_type": "execute_result"
    }
   ],
   "source": [
    "np.sum(x < 7)"
   ]
  },
  {
   "cell_type": "markdown",
   "id": "5f21d5d5",
   "metadata": {},
   "source": [
    "This summation can be done along rows or columns as well:"
   ]
  },
  {
   "cell_type": "code",
   "execution_count": 45,
   "id": "4ce644d6",
   "metadata": {},
   "outputs": [
    {
     "data": {
      "text/plain": [
       "array([[ 7,  4, 11,  8],\n",
       "       [ 5,  7, 10,  3],\n",
       "       [ 7, 11, 11,  8]], dtype=int32)"
      ]
     },
     "execution_count": 45,
     "metadata": {},
     "output_type": "execute_result"
    }
   ],
   "source": [
    "x"
   ]
  },
  {
   "cell_type": "code",
   "execution_count": 46,
   "id": "38ebe29a",
   "metadata": {},
   "outputs": [
    {
     "data": {
      "text/plain": [
       "array([1, 2, 0])"
      ]
     },
     "execution_count": 46,
     "metadata": {},
     "output_type": "execute_result"
    }
   ],
   "source": [
    "# how many values less than 6 in each row?\n",
    "np.sum(x < 6, axis=1)"
   ]
  },
  {
   "cell_type": "code",
   "execution_count": 47,
   "id": "42bf52f4",
   "metadata": {},
   "outputs": [
    {
     "data": {
      "text/plain": [
       "array([1, 1, 0, 1])"
      ]
     },
     "execution_count": 47,
     "metadata": {},
     "output_type": "execute_result"
    }
   ],
   "source": [
    "# how many values less than 6 in each column?\n",
    "np.sum(x < 6, axis=0)"
   ]
  },
  {
   "cell_type": "markdown",
   "id": "46e00879",
   "metadata": {},
   "source": [
    "If we’re interested in quickly checking whether any or all the values are true, we can use `np.any`"
   ]
  },
  {
   "cell_type": "code",
   "execution_count": 48,
   "id": "0d3830f1",
   "metadata": {},
   "outputs": [
    {
     "data": {
      "text/plain": [
       "array([[ 7,  4, 11,  8],\n",
       "       [ 5,  7, 10,  3],\n",
       "       [ 7, 11, 11,  8]], dtype=int32)"
      ]
     },
     "execution_count": 48,
     "metadata": {},
     "output_type": "execute_result"
    }
   ],
   "source": [
    "x"
   ]
  },
  {
   "cell_type": "code",
   "execution_count": 49,
   "id": "7f62e71f",
   "metadata": {},
   "outputs": [
    {
     "data": {
      "text/plain": [
       "np.True_"
      ]
     },
     "execution_count": 49,
     "metadata": {},
     "output_type": "execute_result"
    }
   ],
   "source": [
    "# are there any values greater than 8?\n",
    "np.any(x > 8)"
   ]
  },
  {
   "cell_type": "code",
   "execution_count": 50,
   "id": "d36829ea",
   "metadata": {},
   "outputs": [
    {
     "data": {
      "text/plain": [
       "np.False_"
      ]
     },
     "execution_count": 50,
     "metadata": {},
     "output_type": "execute_result"
    }
   ],
   "source": [
    "# are there any values less than zero?\n",
    "np.any(x < 0)"
   ]
  },
  {
   "cell_type": "code",
   "execution_count": 51,
   "id": "48c2b05f",
   "metadata": {},
   "outputs": [
    {
     "data": {
      "text/plain": [
       "array([[ 7,  4, 11,  8],\n",
       "       [ 5,  7, 10,  3],\n",
       "       [ 7, 11, 11,  8]], dtype=int32)"
      ]
     },
     "execution_count": 51,
     "metadata": {},
     "output_type": "execute_result"
    }
   ],
   "source": [
    "x"
   ]
  },
  {
   "cell_type": "code",
   "execution_count": 52,
   "id": "2b14f211",
   "metadata": {},
   "outputs": [
    {
     "data": {
      "text/plain": [
       "np.False_"
      ]
     },
     "execution_count": 52,
     "metadata": {},
     "output_type": "execute_result"
    }
   ],
   "source": [
    "# are all values less than 10?\n",
    "np.all(x < 10)"
   ]
  },
  {
   "cell_type": "code",
   "execution_count": 48,
   "id": "035a6801",
   "metadata": {},
   "outputs": [
    {
     "data": {
      "text/plain": [
       "np.False_"
      ]
     },
     "execution_count": 48,
     "metadata": {},
     "output_type": "execute_result"
    }
   ],
   "source": [
    "# are all values equal to 6?\n",
    "np.all(x == 6)"
   ]
  },
  {
   "cell_type": "markdown",
   "id": "8fb5f8c1",
   "metadata": {},
   "source": [
    "np.all and np.any can be used along particular axes as well."
   ]
  },
  {
   "cell_type": "code",
   "execution_count": 53,
   "id": "6765acbf",
   "metadata": {},
   "outputs": [
    {
     "data": {
      "text/plain": [
       "array([[ 7,  4, 11,  8],\n",
       "       [ 5,  7, 10,  3],\n",
       "       [ 7, 11, 11,  8]], dtype=int32)"
      ]
     },
     "execution_count": 53,
     "metadata": {},
     "output_type": "execute_result"
    }
   ],
   "source": [
    "x"
   ]
  },
  {
   "cell_type": "code",
   "execution_count": 54,
   "id": "f86c5325",
   "metadata": {},
   "outputs": [
    {
     "data": {
      "text/plain": [
       "array([False, False, False])"
      ]
     },
     "execution_count": 54,
     "metadata": {},
     "output_type": "execute_result"
    }
   ],
   "source": [
    "# are all values in each row less than 8?\n",
    "np.all(x < 8, axis=1)"
   ]
  },
  {
   "cell_type": "markdown",
   "id": "633cdf3d",
   "metadata": {},
   "source": [
    "#### Boolean Operators\n",
    "\n",
    "`Boolean operators` are used to perform logical operations on values. \n",
    "\n",
    "They work with Boolean values (True and False) and are often used in conditional statements and masking operations."
   ]
  },
  {
   "cell_type": "code",
   "execution_count": 55,
   "id": "9c29e6ed",
   "metadata": {},
   "outputs": [
    {
     "data": {
      "text/plain": [
       "array([10, 15, 20, 25, 30])"
      ]
     },
     "execution_count": 55,
     "metadata": {},
     "output_type": "execute_result"
    }
   ],
   "source": [
    "y = np.array([10, 15, 20, 25, 30])\n",
    "y"
   ]
  },
  {
   "cell_type": "code",
   "execution_count": 56,
   "id": "f46e2e1d",
   "metadata": {},
   "outputs": [
    {
     "data": {
      "text/plain": [
       "array([False, False,  True,  True,  True])"
      ]
     },
     "execution_count": 56,
     "metadata": {},
     "output_type": "execute_result"
    }
   ],
   "source": [
    "# apply boolean conditions\n",
    "y > 15"
   ]
  },
  {
   "cell_type": "code",
   "execution_count": 59,
   "id": "12aae276",
   "metadata": {},
   "outputs": [
    {
     "data": {
      "text/plain": [
       "array([ True,  True,  True,  True, False])"
      ]
     },
     "execution_count": 59,
     "metadata": {},
     "output_type": "execute_result"
    }
   ],
   "source": [
    "# condition 2\n",
    "y < 30"
   ]
  },
  {
   "cell_type": "code",
   "execution_count": 57,
   "id": "bd525dac",
   "metadata": {},
   "outputs": [
    {
     "data": {
      "text/plain": [
       "array([10, 15, 20, 25, 30])"
      ]
     },
     "execution_count": 57,
     "metadata": {},
     "output_type": "execute_result"
    }
   ],
   "source": [
    "y"
   ]
  },
  {
   "cell_type": "markdown",
   "id": "e1f49202",
   "metadata": {},
   "source": [
    "#### 1. AND (&)\n",
    "\n",
    "- Returns True if both conditions are True.\n",
    "- For NumPy arrays, use & (with parentheses around conditions)."
   ]
  },
  {
   "cell_type": "code",
   "execution_count": 58,
   "id": "298e435f",
   "metadata": {},
   "outputs": [
    {
     "data": {
      "text/plain": [
       "array([20, 25])"
      ]
     },
     "execution_count": 58,
     "metadata": {},
     "output_type": "execute_result"
    }
   ],
   "source": [
    "# Use Boolean Operators\n",
    "# Select values greater than 15 AND less than 30\n",
    "(y > 15) & (y < 30)\n",
    "y[(y > 15) & (y < 30)]"
   ]
  },
  {
   "cell_type": "markdown",
   "id": "32dd6901",
   "metadata": {},
   "source": [
    "#### 2. OR (|) — Select values less than 15 OR greater than 25"
   ]
  },
  {
   "cell_type": "code",
   "execution_count": 62,
   "id": "8a3a6b83",
   "metadata": {},
   "outputs": [
    {
     "data": {
      "text/plain": [
       "array([ True, False, False, False,  True])"
      ]
     },
     "execution_count": 62,
     "metadata": {},
     "output_type": "execute_result"
    }
   ],
   "source": [
    "(y < 15) | (y > 25)\n",
    "\n",
    "# y[(y < 15) | (y > 25)]"
   ]
  },
  {
   "cell_type": "markdown",
   "id": "53710ecf",
   "metadata": {},
   "source": [
    "####  3. NOT (~) — Invert the condition y > 20"
   ]
  },
  {
   "cell_type": "code",
   "execution_count": 60,
   "id": "f7ec01db",
   "metadata": {},
   "outputs": [
    {
     "data": {
      "text/plain": [
       "array([10, 15, 20, 25, 30])"
      ]
     },
     "execution_count": 60,
     "metadata": {},
     "output_type": "execute_result"
    }
   ],
   "source": [
    "y"
   ]
  },
  {
   "cell_type": "code",
   "execution_count": 59,
   "id": "1664ccbe",
   "metadata": {},
   "outputs": [
    {
     "data": {
      "text/plain": [
       "array([10, 15, 20])"
      ]
     },
     "execution_count": 59,
     "metadata": {},
     "output_type": "execute_result"
    }
   ],
   "source": [
    "~(y > 20)\n",
    "\n",
    "y[~(y > 20)]"
   ]
  },
  {
   "cell_type": "markdown",
   "id": "fd856aba",
   "metadata": {},
   "source": [
    "#### Bitwise Boolean operators and their equivalent ufuncs\n",
    "\n",
    "| Operator | Equivalent ufunc     |         | Operator | Equivalent ufunc      |\n",
    "|----------|----------------------|---------|----------|------------------------|\n",
    "| `&`      | `np.bitwise_and`     |         | `|`      | `np.bitwise_or`       |\n",
    "| `^`      | `np.bitwise_xor`     |         | `~`      | `np.bitwise_not`      |\n"
   ]
  },
  {
   "cell_type": "markdown",
   "id": "a88cae4c",
   "metadata": {},
   "source": [
    "### Boolean Arrays as Masks\n",
    "\n",
    "We can use Boolean arrays as masks, to select particular subsets of the data themselves."
   ]
  },
  {
   "cell_type": "code",
   "execution_count": 64,
   "id": "cb6cc2fd",
   "metadata": {},
   "outputs": [
    {
     "data": {
      "text/plain": [
       "array([[ 7,  4, 11,  8],\n",
       "       [ 5,  7, 10,  3],\n",
       "       [ 7, 11, 11,  8]], dtype=int32)"
      ]
     },
     "execution_count": 64,
     "metadata": {},
     "output_type": "execute_result"
    }
   ],
   "source": [
    "x"
   ]
  },
  {
   "cell_type": "code",
   "execution_count": 65,
   "id": "682424f0",
   "metadata": {},
   "outputs": [
    {
     "data": {
      "text/plain": [
       "array([[ True, False,  True,  True],\n",
       "       [False,  True,  True, False],\n",
       "       [ True,  True,  True,  True]])"
      ]
     },
     "execution_count": 65,
     "metadata": {},
     "output_type": "execute_result"
    }
   ],
   "source": [
    "# using a Boolean array for this condition\n",
    "x > 5"
   ]
  },
  {
   "cell_type": "code",
   "execution_count": 67,
   "id": "5d32613e",
   "metadata": {},
   "outputs": [
    {
     "data": {
      "text/plain": [
       "array([[ 7,  4, 11,  8],\n",
       "       [ 5,  7, 10,  3],\n",
       "       [ 7, 11, 11,  8]], dtype=int32)"
      ]
     },
     "execution_count": 67,
     "metadata": {},
     "output_type": "execute_result"
    }
   ],
   "source": [
    "x"
   ]
  },
  {
   "cell_type": "markdown",
   "id": "e053e017",
   "metadata": {},
   "source": [
    "Now to select these values from the array, we can simply index on this Boolean array; this is known as a masking operation"
   ]
  },
  {
   "cell_type": "code",
   "execution_count": 66,
   "id": "d6282080",
   "metadata": {},
   "outputs": [
    {
     "data": {
      "text/plain": [
       "array([ 7, 11,  8,  7, 10,  7, 11, 11,  8], dtype=int32)"
      ]
     },
     "execution_count": 66,
     "metadata": {},
     "output_type": "execute_result"
    }
   ],
   "source": [
    "x[x > 5]  # This will return an array with elements greater than 5"
   ]
  },
  {
   "cell_type": "markdown",
   "id": "577561a0",
   "metadata": {},
   "source": [
    "### Fancy Indexing\n",
    "\n",
    "Fancy indexing is a way to access elements from a NumPy array using integer arrays or `lists of indices`, instead of just using slices (:) or single numbers.\n",
    "\n",
    "It’s `fancier` than regular indexing because it lets you select multiple arbitrary elements at once."
   ]
  },
  {
   "cell_type": "markdown",
   "id": "e33bafdd",
   "metadata": {},
   "source": [
    "#### Indexing with a List of Indices"
   ]
  },
  {
   "cell_type": "code",
   "execution_count": 68,
   "id": "5095bb0e",
   "metadata": {},
   "outputs": [
    {
     "data": {
      "text/plain": [
       "array([36, 40, 24,  3, 22], dtype=int32)"
      ]
     },
     "execution_count": 68,
     "metadata": {},
     "output_type": "execute_result"
    }
   ],
   "source": [
    "F = np.random.randint(1, 50, size=(5,))\n",
    "F"
   ]
  },
  {
   "cell_type": "code",
   "execution_count": 71,
   "id": "09f3044c",
   "metadata": {},
   "outputs": [
    {
     "data": {
      "text/plain": [
       "array([36, 24], dtype=int32)"
      ]
     },
     "execution_count": 71,
     "metadata": {},
     "output_type": "execute_result"
    }
   ],
   "source": [
    "# select specific elements at index 0, 2 and 4\n",
    "# F[[0, 2, 4]] \n",
    "F[[0, 2]]"
   ]
  },
  {
   "cell_type": "markdown",
   "id": "4d81c3a7",
   "metadata": {},
   "source": [
    "#### Fancy Indexing with 2D Arrays"
   ]
  },
  {
   "cell_type": "code",
   "execution_count": 72,
   "id": "14b13759",
   "metadata": {},
   "outputs": [
    {
     "data": {
      "text/plain": [
       "array([[ 1,  2,  3,  4],\n",
       "       [ 5,  6,  7,  8],\n",
       "       [ 9, 10, 11, 12]])"
      ]
     },
     "execution_count": 72,
     "metadata": {},
     "output_type": "execute_result"
    }
   ],
   "source": [
    "F2 = np.arange(1, 13).reshape(3, 4)\n",
    "F2"
   ]
  },
  {
   "cell_type": "code",
   "execution_count": 73,
   "id": "415a86ad",
   "metadata": {},
   "outputs": [
    {
     "data": {
      "text/plain": [
       "array([ 2,  7, 12])"
      ]
     },
     "execution_count": 73,
     "metadata": {},
     "output_type": "execute_result"
    }
   ],
   "source": [
    "# Select elements at positions (0,0), (1,1), (2,2)\n",
    "# F2[[0,1,2], [0,1,2]]\n",
    "F2[[0, 1, 2], [1, 2, 3]]"
   ]
  },
  {
   "cell_type": "code",
   "execution_count": 78,
   "id": "e224da7a",
   "metadata": {},
   "outputs": [
    {
     "data": {
      "text/plain": [
       "array([[ 2,  3],\n",
       "       [ 6,  7],\n",
       "       [10, 11]])"
      ]
     },
     "execution_count": 78,
     "metadata": {},
     "output_type": "execute_result"
    }
   ],
   "source": [
    "F2[:, [1, 2]]"
   ]
  },
  {
   "cell_type": "markdown",
   "id": "5a8ba5aa",
   "metadata": {},
   "source": [
    "#### Fancy Indexing (less clean for blocks)"
   ]
  },
  {
   "cell_type": "code",
   "execution_count": 79,
   "id": "e9230d05",
   "metadata": {},
   "outputs": [
    {
     "data": {
      "text/plain": [
       "array([[ 1,  2,  3,  4],\n",
       "       [ 5,  6,  7,  8],\n",
       "       [ 9, 10, 11, 12]])"
      ]
     },
     "execution_count": 79,
     "metadata": {},
     "output_type": "execute_result"
    }
   ],
   "source": [
    "F2"
   ]
  },
  {
   "cell_type": "code",
   "execution_count": 86,
   "id": "811ca50d",
   "metadata": {},
   "outputs": [
    {
     "data": {
      "text/plain": [
       "array([[ 6,  7],\n",
       "       [10, 11]])"
      ]
     },
     "execution_count": 86,
     "metadata": {},
     "output_type": "execute_result"
    }
   ],
   "source": [
    "F2[1:, [1, 2]]"
   ]
  },
  {
   "cell_type": "code",
   "execution_count": 88,
   "id": "0f25c3ec",
   "metadata": {},
   "outputs": [
    {
     "data": {
      "text/plain": [
       "array([[ 5,  6],\n",
       "       [ 9, 10]])"
      ]
     },
     "execution_count": 88,
     "metadata": {},
     "output_type": "execute_result"
    }
   ],
   "source": [
    "# F2[1:3,0:2]\n",
    "row = np.array([1,2])\n",
    "col = np.array([0,1])\n",
    "F2[np.ix_(row, col)] "
   ]
  },
  {
   "cell_type": "markdown",
   "id": "42b3cb87",
   "metadata": {},
   "source": [
    "`np.ix_()` creates a mesh grid for selecting rows and columns"
   ]
  },
  {
   "cell_type": "code",
   "execution_count": 89,
   "id": "ce64309f",
   "metadata": {},
   "outputs": [
    {
     "data": {
      "text/plain": [
       "array([[ 7,  4, 11,  8],\n",
       "       [ 5,  7, 10,  3],\n",
       "       [ 7, 11, 11,  8]], dtype=int32)"
      ]
     },
     "execution_count": 89,
     "metadata": {},
     "output_type": "execute_result"
    }
   ],
   "source": [
    "x"
   ]
  },
  {
   "cell_type": "code",
   "execution_count": 104,
   "id": "4911142b",
   "metadata": {},
   "outputs": [
    {
     "data": {
      "text/plain": [
       "array([7, 3], dtype=int32)"
      ]
     },
     "execution_count": 104,
     "metadata": {},
     "output_type": "execute_result"
    }
   ],
   "source": [
    "x[[0, 1], [0, 3]]"
   ]
  },
  {
   "cell_type": "code",
   "execution_count": 97,
   "id": "d983f1ec",
   "metadata": {},
   "outputs": [
    {
     "data": {
      "text/plain": [
       "array([ 1,  6, 11])"
      ]
     },
     "execution_count": 97,
     "metadata": {},
     "output_type": "execute_result"
    }
   ],
   "source": [
    "row = np.array([0, 1, 2])\n",
    "col = np.array([0, 1, 2])\n",
    "F2[row, col]"
   ]
  },
  {
   "cell_type": "markdown",
   "id": "f4589100",
   "metadata": {},
   "source": [
    "The pairing of indices in fancy indexing follows all the broadcasting rules that were mentioned in `Computation on Arrays: Broadcasting`.\n",
    "\n",
    "So, for example, if we combine a column vector and a row vector within the indices, we get a two-dimensional result:"
   ]
  },
  {
   "cell_type": "code",
   "execution_count": 98,
   "id": "abef8942",
   "metadata": {},
   "outputs": [
    {
     "data": {
      "text/plain": [
       "array([[ 1,  2,  3],\n",
       "       [ 5,  6,  7],\n",
       "       [ 9, 10, 11]])"
      ]
     },
     "execution_count": 98,
     "metadata": {},
     "output_type": "execute_result"
    }
   ],
   "source": [
    "F2[row[:, np.newaxis], col]  # This will return a 2D array with the specified indices"
   ]
  },
  {
   "cell_type": "markdown",
   "id": "9336261f",
   "metadata": {},
   "source": [
    "Here, each row value is matched with each column vector,"
   ]
  },
  {
   "cell_type": "markdown",
   "id": "f3661376",
   "metadata": {},
   "source": [
    "### Combined Indexing\n",
    "\n",
    "Fancy indexing can be combined with the other indexing schemes"
   ]
  },
  {
   "cell_type": "code",
   "execution_count": 105,
   "id": "236f5819",
   "metadata": {},
   "outputs": [
    {
     "name": "stdout",
     "output_type": "stream",
     "text": [
      "[[ 1  2  3  4]\n",
      " [ 5  6  7  8]\n",
      " [ 9 10 11 12]]\n"
     ]
    }
   ],
   "source": [
    "print(F2)"
   ]
  },
  {
   "cell_type": "markdown",
   "id": "782fb145",
   "metadata": {},
   "source": [
    "#### We can combine fancy and simple indices:"
   ]
  },
  {
   "cell_type": "code",
   "execution_count": 106,
   "id": "fdbed676",
   "metadata": {},
   "outputs": [
    {
     "data": {
      "text/plain": [
       "array([12, 10,  9])"
      ]
     },
     "execution_count": 106,
     "metadata": {},
     "output_type": "execute_result"
    }
   ],
   "source": [
    "F2[2, [3, 1, 0]]"
   ]
  },
  {
   "cell_type": "code",
   "execution_count": 107,
   "id": "ebd32d0c",
   "metadata": {},
   "outputs": [
    {
     "data": {
      "text/plain": [
       "array([[ 1,  2,  3,  4],\n",
       "       [ 5,  6,  7,  8],\n",
       "       [ 9, 10, 11, 12]])"
      ]
     },
     "execution_count": 107,
     "metadata": {},
     "output_type": "execute_result"
    }
   ],
   "source": [
    "F2"
   ]
  },
  {
   "cell_type": "code",
   "execution_count": 108,
   "id": "8ecc9dcd",
   "metadata": {},
   "outputs": [
    {
     "data": {
      "text/plain": [
       "array([[ 5,  6],\n",
       "       [ 9, 10]])"
      ]
     },
     "execution_count": 108,
     "metadata": {},
     "output_type": "execute_result"
    }
   ],
   "source": [
    "F2[1:, [0, 1]]"
   ]
  },
  {
   "cell_type": "code",
   "execution_count": 120,
   "id": "f8e438ed",
   "metadata": {},
   "outputs": [
    {
     "data": {
      "text/plain": [
       "array([[ 1,  2,  3,  4],\n",
       "       [ 5,  6,  7,  8],\n",
       "       [ 9, 10, 11, 12]])"
      ]
     },
     "execution_count": 120,
     "metadata": {},
     "output_type": "execute_result"
    }
   ],
   "source": [
    "F2"
   ]
  },
  {
   "cell_type": "markdown",
   "id": "08ee7ff0",
   "metadata": {},
   "source": [
    "#### Modifying Values with Fancy Indexing\n",
    "\n",
    "Just as fancy indexing can be used to access parts of an array, it can also be used to modify parts of an array.\n",
    "\n",
    "For example, imagine we have an array of indices and we’d like to set the corresponding items in an array to some value:"
   ]
  },
  {
   "cell_type": "code",
   "execution_count": 114,
   "id": "db9bf7f8",
   "metadata": {},
   "outputs": [
    {
     "name": "stdout",
     "output_type": "stream",
     "text": [
      "[ 0 99 99  3 99  5  6  7 99  9]\n"
     ]
    }
   ],
   "source": [
    "x = np.arange(10)\n",
    "i = np.array([2, 1, 8, 4])\n",
    "x[i] = 99\n",
    "print(x)"
   ]
  },
  {
   "cell_type": "markdown",
   "id": "13b85ba3",
   "metadata": {},
   "source": [
    "### Sorting Arrays\n",
    "\n",
    "NumPy provides several ways to sort arrays, whether 1D, 2D, or more. Sorting can be done in-place (modifies the original) or out-of-place (returns a sorted copy)."
   ]
  },
  {
   "cell_type": "markdown",
   "id": "b540570f",
   "metadata": {},
   "source": [
    "#### 1. Sorting a 1D Array"
   ]
  },
  {
   "cell_type": "code",
   "execution_count": 115,
   "id": "13ec8554",
   "metadata": {},
   "outputs": [
    {
     "data": {
      "text/plain": [
       "array([5, 2, 8, 6, 2, 5, 1, 6, 9], dtype=int32)"
      ]
     },
     "execution_count": 115,
     "metadata": {},
     "output_type": "execute_result"
    }
   ],
   "source": [
    "arr = np.random.randint(1, 10, size = (9,))\n",
    "arr"
   ]
  },
  {
   "cell_type": "code",
   "execution_count": 116,
   "id": "267abe10",
   "metadata": {},
   "outputs": [
    {
     "data": {
      "text/plain": [
       "array([1, 2, 2, 5, 5, 6, 6, 8, 9], dtype=int32)"
      ]
     },
     "execution_count": 116,
     "metadata": {},
     "output_type": "execute_result"
    }
   ],
   "source": [
    "# sorting a 1D array\n",
    "sorted_arr = np.sort(arr)\n",
    "sorted_arr"
   ]
  },
  {
   "cell_type": "markdown",
   "id": "3327eeb2",
   "metadata": {},
   "source": [
    "- `np.sort()` does not modify the original array.\n",
    "- Use `arr.sort()` if you want to sort in-place."
   ]
  },
  {
   "cell_type": "markdown",
   "id": "4dfead4b",
   "metadata": {},
   "source": [
    "#### 2. Sorting a 2D Array\n",
    "By Default: `np.sort()` sorts each row (axis=1)"
   ]
  },
  {
   "cell_type": "code",
   "execution_count": 117,
   "id": "e54144f3",
   "metadata": {},
   "outputs": [
    {
     "data": {
      "text/plain": [
       "array([[2, 5, 8],\n",
       "       [1, 3, 9]])"
      ]
     },
     "execution_count": 117,
     "metadata": {},
     "output_type": "execute_result"
    }
   ],
   "source": [
    "x = np.array([[8, 2, 5],\n",
    "              [1, 9, 3]])\n",
    "\n",
    "np.sort(x)"
   ]
  },
  {
   "cell_type": "markdown",
   "id": "400da588",
   "metadata": {},
   "source": [
    "#### 3. Sorting by Columns or Rows\n",
    "You can control the axis with axis=:\n",
    "- axis=1: sort each row\n",
    "- axis=0: sort each column"
   ]
  },
  {
   "cell_type": "code",
   "execution_count": 119,
   "id": "a750fa9c",
   "metadata": {},
   "outputs": [
    {
     "data": {
      "text/plain": [
       "array([[8, 2, 5],\n",
       "       [1, 9, 3]])"
      ]
     },
     "execution_count": 119,
     "metadata": {},
     "output_type": "execute_result"
    }
   ],
   "source": [
    "x"
   ]
  },
  {
   "cell_type": "code",
   "execution_count": 118,
   "id": "a99203c6",
   "metadata": {},
   "outputs": [
    {
     "data": {
      "text/plain": [
       "array([[1, 2, 3],\n",
       "       [8, 9, 5]])"
      ]
     },
     "execution_count": 118,
     "metadata": {},
     "output_type": "execute_result"
    }
   ],
   "source": [
    "# Sort each column (axis=0)\n",
    "np.sort(x, axis=0)"
   ]
  },
  {
   "cell_type": "markdown",
   "id": "2b0f194b",
   "metadata": {},
   "source": [
    "#### 4. Get the Sorted Indices – np.argsort()\n",
    "Sometimes you want the indices that would sort the array:"
   ]
  },
  {
   "cell_type": "code",
   "execution_count": 120,
   "id": "9aa08508",
   "metadata": {},
   "outputs": [
    {
     "name": "stdout",
     "output_type": "stream",
     "text": [
      "[1 2 0]\n"
     ]
    }
   ],
   "source": [
    "arr = np.array([40, 10, 20])\n",
    "indices = np.argsort(arr)\n",
    "print(indices)"
   ]
  },
  {
   "cell_type": "markdown",
   "id": "89029d8b",
   "metadata": {},
   "source": [
    "You can use these indices to reorder another array:"
   ]
  },
  {
   "cell_type": "code",
   "execution_count": 121,
   "id": "d9ac27ee",
   "metadata": {},
   "outputs": [
    {
     "data": {
      "text/plain": [
       "array([10, 20, 40])"
      ]
     },
     "execution_count": 121,
     "metadata": {},
     "output_type": "execute_result"
    }
   ],
   "source": [
    "arr[indices]"
   ]
  },
  {
   "cell_type": "markdown",
   "id": "ce3a458c",
   "metadata": {},
   "source": [
    "#### 5. Sort in Descending Order\n",
    "NumPy doesn't have a built-in descending sort, but you can reverse the result:"
   ]
  },
  {
   "cell_type": "code",
   "execution_count": 122,
   "id": "2377b7f4",
   "metadata": {},
   "outputs": [
    {
     "name": "stdout",
     "output_type": "stream",
     "text": [
      "[5 4 1]\n"
     ]
    }
   ],
   "source": [
    "arr = np.array([4, 1, 5])\n",
    "sorted_desc = np.sort(arr)[::-1]\n",
    "print(sorted_desc)"
   ]
  },
  {
   "cell_type": "code",
   "execution_count": null,
   "id": "07753ff0",
   "metadata": {},
   "outputs": [],
   "source": []
  }
 ],
 "metadata": {
  "kernelspec": {
   "display_name": "env",
   "language": "python",
   "name": "python3"
  },
  "language_info": {
   "codemirror_mode": {
    "name": "ipython",
    "version": 3
   },
   "file_extension": ".py",
   "mimetype": "text/x-python",
   "name": "python",
   "nbconvert_exporter": "python",
   "pygments_lexer": "ipython3",
   "version": "3.13.3"
  }
 },
 "nbformat": 4,
 "nbformat_minor": 5
}
