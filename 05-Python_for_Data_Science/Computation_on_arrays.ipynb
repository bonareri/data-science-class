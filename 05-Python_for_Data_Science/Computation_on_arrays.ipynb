{
 "cells": [
  {
   "cell_type": "markdown",
   "id": "da143bb7",
   "metadata": {},
   "source": [
    "### Universal Functions (ufuncs) in NumPy\n",
    "\n",
    "- Universal Functions, or ufuncs, are `vectorized` functions provided by NumPy that operate element-wise on arrays. They are fast, efficient, and written in C under the hood for performance.\n",
    "- Vectorized operations are operations that act on whole arrays at once—no loops!\n",
    "- These operations are implemented using ufuncs (universal functions), which are:\n",
    "    - Written in low-level C (much faster than Python).\n",
    "    - Run internally on the entire array, avoiding slow Python loops.\n",
    "    - Take advantage of CPU-level optimizations and memory efficiency."
   ]
  },
  {
   "cell_type": "code",
   "execution_count": 57,
   "id": "e81194e7",
   "metadata": {},
   "outputs": [],
   "source": [
    "import numpy as np"
   ]
  },
  {
   "cell_type": "code",
   "execution_count": 131,
   "id": "a0762ec1",
   "metadata": {},
   "outputs": [
    {
     "name": "stdout",
     "output_type": "stream",
     "text": [
      "[5 7 9]\n"
     ]
    }
   ],
   "source": [
    "x = np.array([1, 2, 3])\n",
    "y = np.array([4, 5, 6])\n",
    "\n",
    "# Element-wise addition\n",
    "z = np.add(x, y)\n",
    "print(z) \n",
    "#x + y"
   ]
  },
  {
   "cell_type": "markdown",
   "id": "5f623f69",
   "metadata": {},
   "source": [
    "#### Slow: Using Python Loops Instead of Vectorization\n",
    "When you use Python for-loops to operate on each element one-by-one, it becomes much slower.\n",
    "\n",
    "##### Example of slow computation:"
   ]
  },
  {
   "cell_type": "code",
   "execution_count": 132,
   "id": "ef95ded6",
   "metadata": {},
   "outputs": [
    {
     "data": {
      "text/plain": [
       "[5, 7, 9]"
      ]
     },
     "execution_count": 132,
     "metadata": {},
     "output_type": "execute_result"
    }
   ],
   "source": [
    "x = [1, 2, 3]\n",
    "y = [4, 5, 6]\n",
    "z = []\n",
    "\n",
    "for i in range(len(x)):\n",
    "    z.append(x[i] + y[i])\n",
    "z"
   ]
  },
  {
   "cell_type": "markdown",
   "id": "5847693b",
   "metadata": {},
   "source": [
    "This is slow because:\n",
    "\n",
    "- Each iteration goes through the Python interpreter.\n",
    "- Python is not optimized for numeric computation."
   ]
  },
  {
   "cell_type": "markdown",
   "id": "998568f2",
   "metadata": {},
   "source": [
    "#### Benefits of ufuncs:\n",
    "- Fast: Implemented in C for performance.\n",
    "- Readable: Clean syntax compared to loops.\n",
    "- Broadcasting: Can handle arrays of different shapes.\n",
    "- Memory Efficient: Avoids unnecessary copying or looping."
   ]
  },
  {
   "cell_type": "markdown",
   "id": "38b4eeee",
   "metadata": {},
   "source": [
    "#### NumPy Operators and Their Equivalent Universal Functions (ufuncs)\n",
    "\n",
    "| **Operator** | **Equivalent ufunc**   | **Description**                        |\n",
    "|--------------|------------------------|----------------------------------------|\n",
    "| `+`          | `np.add`               | Addition (e.g., 1 + 1 = 2)             |\n",
    "| `-`          | `np.subtract`          | Subtraction (e.g., 3 - 2 = 1)          |\n",
    "| `-` (unary)  | `np.negative`          | Unary negation (e.g., -2)              |\n",
    "| `*`          | `np.multiply`          | Multiplication (e.g., 2 * 3 = 6)       |\n",
    "| `/`          | `np.divide`            | Division (e.g., 3 / 2 = 1.5)           |\n",
    "| `//`         | `np.floor_divide`      | Floor division (e.g., 3 // 2 = 1)      |\n",
    "| `**`         | `np.power`             | Exponentiation (e.g., 2 ** 3 = 8)      |\n",
    "| `%`          | `np.mod`               | Modulus/remainder (e.g., 9 % 4 = 1)    |\n"
   ]
  },
  {
   "cell_type": "code",
   "execution_count": 62,
   "id": "15fbaece",
   "metadata": {},
   "outputs": [
    {
     "name": "stdout",
     "output_type": "stream",
     "text": [
      "a: [10 20 30]\n",
      "b: [3 4 5]\n"
     ]
    }
   ],
   "source": [
    "# Define two sample arrays\n",
    "a = np.array([10, 20, 30])\n",
    "b = np.array([3, 4, 5])\n",
    "\n",
    "print(\"a:\", a)\n",
    "print(\"b:\", b)"
   ]
  },
  {
   "cell_type": "code",
   "execution_count": 63,
   "id": "9f38cb4c",
   "metadata": {},
   "outputs": [
    {
     "name": "stdout",
     "output_type": "stream",
     "text": [
      "\n",
      "Addition\n",
      "a + b: [13 24 35]\n",
      "np.add(a, b): [13 24 35]\n"
     ]
    }
   ],
   "source": [
    "# Addition\n",
    "print(\"\\nAddition\")\n",
    "print(\"a + b:\", a + b)                  # Using operator\n",
    "print(\"np.add(a, b):\", np.add(a, b))    # Using ufunc"
   ]
  },
  {
   "cell_type": "code",
   "execution_count": 64,
   "id": "07900180",
   "metadata": {},
   "outputs": [
    {
     "name": "stdout",
     "output_type": "stream",
     "text": [
      "\n",
      "Subtraction\n",
      "a - b: [ 7 16 25]\n",
      "np.subtract(a, b): [ 7 16 25]\n"
     ]
    }
   ],
   "source": [
    "# Subtraction\n",
    "print(\"\\nSubtraction\")\n",
    "print(\"a - b:\", a - b)\n",
    "print(\"np.subtract(a, b):\", np.subtract(a, b))"
   ]
  },
  {
   "cell_type": "code",
   "execution_count": 65,
   "id": "0bdf98e0",
   "metadata": {},
   "outputs": [
    {
     "name": "stdout",
     "output_type": "stream",
     "text": [
      "\n",
      "Unary Negation\n",
      "-a: [-10 -20 -30]\n",
      "np.negative(a): [-10 -20 -30]\n"
     ]
    }
   ],
   "source": [
    "# Unary Negation\n",
    "print(\"\\nUnary Negation\")\n",
    "print(\"-a:\", -a)\n",
    "print(\"np.negative(a):\", np.negative(a))"
   ]
  },
  {
   "cell_type": "code",
   "execution_count": 66,
   "id": "6c69c3a7",
   "metadata": {},
   "outputs": [
    {
     "name": "stdout",
     "output_type": "stream",
     "text": [
      "\n",
      "Multiplication\n",
      "a * b: [ 30  80 150]\n",
      "np.multiply(a, b): [ 30  80 150]\n"
     ]
    }
   ],
   "source": [
    "# Multiplication\n",
    "print(\"\\nMultiplication\")\n",
    "print(\"a * b:\", a * b)\n",
    "print(\"np.multiply(a, b):\", np.multiply(a, b))"
   ]
  },
  {
   "cell_type": "code",
   "execution_count": 67,
   "id": "40e5b91e",
   "metadata": {},
   "outputs": [
    {
     "name": "stdout",
     "output_type": "stream",
     "text": [
      "\n",
      "Division\n",
      "a / b: [3.33333333 5.         6.        ]\n",
      "np.divide(a, b): [3.33333333 5.         6.        ]\n"
     ]
    }
   ],
   "source": [
    "# Division\n",
    "print(\"\\nDivision\")\n",
    "print(\"a / b:\", a / b)\n",
    "print(\"np.divide(a, b):\", np.divide(a, b))"
   ]
  },
  {
   "cell_type": "code",
   "execution_count": 68,
   "id": "6e6e0ee9",
   "metadata": {},
   "outputs": [
    {
     "name": "stdout",
     "output_type": "stream",
     "text": [
      "\n",
      "Floor Division\n",
      "a // b: [3 5 6]\n",
      "np.floor_divide(a, b): [3 5 6]\n"
     ]
    }
   ],
   "source": [
    "# Floor Division\n",
    "print(\"\\nFloor Division\")\n",
    "print(\"a // b:\", a // b)\n",
    "print(\"np.floor_divide(a, b):\", np.floor_divide(a, b))"
   ]
  },
  {
   "cell_type": "code",
   "execution_count": 69,
   "id": "23cce427",
   "metadata": {},
   "outputs": [
    {
     "name": "stdout",
     "output_type": "stream",
     "text": [
      "\n",
      "Exponentiation\n",
      "a ** b: [    1000   160000 24300000]\n",
      "np.power(a, b): [    1000   160000 24300000]\n"
     ]
    }
   ],
   "source": [
    "# Exponentiation\n",
    "print(\"\\nExponentiation\")\n",
    "print(\"a ** b:\", a ** b)\n",
    "print(\"np.power(a, b):\", np.power(a, b))"
   ]
  },
  {
   "cell_type": "code",
   "execution_count": 70,
   "id": "0d28323f",
   "metadata": {},
   "outputs": [
    {
     "name": "stdout",
     "output_type": "stream",
     "text": [
      "\n",
      "Modulus\n",
      "a % b: [1 0 0]\n",
      "np.mod(a, b): [1 0 0]\n"
     ]
    }
   ],
   "source": [
    "# Modulus\n",
    "print(\"\\nModulus\")\n",
    "print(\"a % b:\", a % b)\n",
    "print(\"np.mod(a, b):\", np.mod(a, b))"
   ]
  },
  {
   "cell_type": "markdown",
   "id": "4db53fe3",
   "metadata": {},
   "source": [
    "### Aggregation in Numpy\n",
    "\n",
    "- Often when faced with a large amount of data, a first step is to compute summary statistics for the data in question.\n",
    "- Perhaps the most common summary statistics are the mean and standard deviation, which allow you to summarize the “typical” values in a dataset, but other aggregates are useful as well (the sum, product, median, minimum and maximum, quantiles, etc.)\n",
    "- NumPy has fast built-in aggregation functions for working on arrays; we’ll discuss and demonstrate some of them here.\n",
    "\n",
    "#### Summing the Values in an Array\n",
    "\n",
    "Python itself can do this using the built-in `sum` function"
   ]
  },
  {
   "cell_type": "code",
   "execution_count": 1,
   "id": "5333e9b1",
   "metadata": {},
   "outputs": [],
   "source": [
    "import numpy as np"
   ]
  },
  {
   "cell_type": "code",
   "execution_count": 136,
   "id": "4f107b8c",
   "metadata": {},
   "outputs": [
    {
     "data": {
      "text/plain": [
       "array([1, 2, 3, 4, 5, 6, 7, 8, 9])"
      ]
     },
     "execution_count": 136,
     "metadata": {},
     "output_type": "execute_result"
    }
   ],
   "source": [
    "L = np.arange(1, 10)\n",
    "L"
   ]
  },
  {
   "cell_type": "code",
   "execution_count": 138,
   "id": "5aa862c8",
   "metadata": {},
   "outputs": [
    {
     "name": "stdout",
     "output_type": "stream",
     "text": [
      "45\n"
     ]
    }
   ],
   "source": [
    "# using python sum function\n",
    "print(sum(L))"
   ]
  },
  {
   "cell_type": "code",
   "execution_count": 139,
   "id": "1ea7e8a1",
   "metadata": {},
   "outputs": [
    {
     "name": "stdout",
     "output_type": "stream",
     "text": [
      "45\n"
     ]
    }
   ],
   "source": [
    "# using NumPy’s sum function\n",
    "print(np.sum(L))"
   ]
  },
  {
   "cell_type": "code",
   "execution_count": 142,
   "id": "52a9821d",
   "metadata": {},
   "outputs": [
    {
     "data": {
      "text/plain": [
       "array([0.83228301, 0.92515159, 0.56283368, 0.73879196, 0.82239864,\n",
       "       0.66628648, 0.58521561, 0.382839  , 0.82249128, 0.98211114,\n",
       "       0.55632782, 0.52938123, 0.63812253, 0.33650516, 0.60826023,\n",
       "       0.28961307, 0.12366061, 0.35848841, 0.70389458, 0.21693803,\n",
       "       0.70368317, 0.25967293, 0.5189442 , 0.19932382, 0.6621334 ,\n",
       "       0.69177577, 0.62689146, 0.70194795, 0.03935499, 0.10927607,\n",
       "       0.29862856, 0.67681751, 0.75933015, 0.89115502, 0.670748  ,\n",
       "       0.61838308, 0.62311947, 0.37849324, 0.95983144, 0.31659032,\n",
       "       0.44156135, 0.70815906, 0.74746149, 0.57119435, 0.5982731 ,\n",
       "       0.07018558, 0.3517191 , 0.47580435, 0.2267789 , 0.3786267 ,\n",
       "       0.99255809, 0.19057276, 0.96599579, 0.63758636, 0.86652707,\n",
       "       0.43506456, 0.44497028, 0.55302618, 0.29846117, 0.02510281,\n",
       "       0.70544558, 0.01491077, 0.96732296, 0.69227771, 0.30786207,\n",
       "       0.05603385, 0.37101798, 0.36660153, 0.59538903, 0.58331037,\n",
       "       0.71592892, 0.36366874, 0.86697695, 0.36789483, 0.80155341,\n",
       "       0.54142676, 0.88955752, 0.31931926, 0.65133947, 0.14043299,\n",
       "       0.14986802, 0.11393732, 0.68283703, 0.63194264, 0.22494071,\n",
       "       0.54032265, 0.3826864 , 0.67409385, 0.32219223, 0.08190623,\n",
       "       0.76161523, 0.47874561, 0.70929838, 0.24137544, 0.01831901,\n",
       "       0.23211869, 0.08542945, 0.9580714 , 0.30617162, 0.51042232])"
      ]
     },
     "execution_count": 142,
     "metadata": {},
     "output_type": "execute_result"
    }
   ],
   "source": [
    "L2 = np.random.random(100)\n",
    "L2"
   ]
  },
  {
   "cell_type": "code",
   "execution_count": 143,
   "id": "889e965c",
   "metadata": {},
   "outputs": [
    {
     "name": "stdout",
     "output_type": "stream",
     "text": [
      "50.79188857611674\n"
     ]
    }
   ],
   "source": [
    "print(np.sum(L2))"
   ]
  },
  {
   "cell_type": "code",
   "execution_count": 144,
   "id": "17127cbf",
   "metadata": {},
   "outputs": [
    {
     "name": "stdout",
     "output_type": "stream",
     "text": [
      "50.791888576116726\n"
     ]
    }
   ],
   "source": [
    "print(sum(L2))"
   ]
  },
  {
   "cell_type": "markdown",
   "id": "0f62d7df",
   "metadata": {},
   "source": [
    "However, because it executes the operation in compiled code, NumPy’s version of the operation is computed much more\n",
    "quickly:"
   ]
  },
  {
   "cell_type": "code",
   "execution_count": 27,
   "id": "927d5e99",
   "metadata": {},
   "outputs": [],
   "source": [
    "big_array = np.random.rand(1000000)"
   ]
  },
  {
   "cell_type": "code",
   "execution_count": 145,
   "id": "6fa54fa5",
   "metadata": {},
   "outputs": [
    {
     "name": "stdout",
     "output_type": "stream",
     "text": [
      "2.04 ms ± 244 μs per loop (mean ± std. dev. of 7 runs, 100 loops each)\n"
     ]
    }
   ],
   "source": [
    "%timeit np.sum(big_array)"
   ]
  },
  {
   "cell_type": "code",
   "execution_count": 146,
   "id": "cbcf9dd2",
   "metadata": {},
   "outputs": [
    {
     "name": "stdout",
     "output_type": "stream",
     "text": [
      "217 ms ± 43.4 ms per loop (mean ± std. dev. of 7 runs, 1 loop each)\n"
     ]
    }
   ],
   "source": [
    "%timeit sum(big_array)"
   ]
  },
  {
   "cell_type": "markdown",
   "id": "be830718",
   "metadata": {},
   "source": [
    "#### Minimum and Maximum\n",
    "\n",
    "Similarly, Python has built-in min and max functions, used to find the minimum value and maximum value of any given array:"
   ]
  },
  {
   "cell_type": "code",
   "execution_count": 147,
   "id": "ab5ef758",
   "metadata": {},
   "outputs": [
    {
     "data": {
      "text/plain": [
       "array([ 1,  2,  3,  4,  5,  6,  7,  8,  9, 10, 11, 12, 13, 14, 15, 16, 17,\n",
       "       18, 19, 20, 21, 22, 23, 24, 25, 26, 27, 28, 29, 30, 31, 32, 33, 34,\n",
       "       35, 36, 37, 38, 39, 40, 41, 42, 43, 44, 45, 46, 47, 48, 49, 50, 51,\n",
       "       52, 53, 54, 55, 56, 57, 58, 59, 60, 61, 62, 63, 64, 65, 66, 67, 68,\n",
       "       69, 70, 71, 72, 73, 74, 75, 76, 77, 78, 79, 80, 81, 82, 83, 84, 85,\n",
       "       86, 87, 88, 89, 90, 91, 92, 93, 94, 95, 96, 97, 98, 99])"
      ]
     },
     "execution_count": 147,
     "metadata": {},
     "output_type": "execute_result"
    }
   ],
   "source": [
    "L = np.arange(1, 100)\n",
    "L"
   ]
  },
  {
   "cell_type": "code",
   "execution_count": 148,
   "id": "805f2b16",
   "metadata": {},
   "outputs": [
    {
     "name": "stdout",
     "output_type": "stream",
     "text": [
      "99\n"
     ]
    }
   ],
   "source": [
    "print(max(L))"
   ]
  },
  {
   "cell_type": "code",
   "execution_count": 149,
   "id": "a8cb7193",
   "metadata": {},
   "outputs": [
    {
     "name": "stdout",
     "output_type": "stream",
     "text": [
      "1\n"
     ]
    }
   ],
   "source": [
    "print(min(L))"
   ]
  },
  {
   "cell_type": "markdown",
   "id": "f570ee18",
   "metadata": {},
   "source": [
    "NumPy’s corresponding functions have similar syntax, and again operate much more quickly:"
   ]
  },
  {
   "cell_type": "code",
   "execution_count": 150,
   "id": "59a1c5a3",
   "metadata": {},
   "outputs": [
    {
     "name": "stdout",
     "output_type": "stream",
     "text": [
      "132 ms ± 22.2 ms per loop (mean ± std. dev. of 7 runs, 10 loops each)\n"
     ]
    }
   ],
   "source": [
    "%timeit min(big_array)"
   ]
  },
  {
   "cell_type": "code",
   "execution_count": 151,
   "id": "2580b367",
   "metadata": {},
   "outputs": [
    {
     "name": "stdout",
     "output_type": "stream",
     "text": [
      "897 μs ± 136 μs per loop (mean ± std. dev. of 7 runs, 1,000 loops each)\n"
     ]
    }
   ],
   "source": [
    "%timeit np.min(big_array)"
   ]
  },
  {
   "cell_type": "markdown",
   "id": "41bdf0b3",
   "metadata": {},
   "source": [
    "###  Multi dimensional aggregates\n",
    "\n",
    "One common type of aggregation operation is an aggregate along a row or column. "
   ]
  },
  {
   "cell_type": "code",
   "execution_count": 45,
   "id": "56dd312d",
   "metadata": {},
   "outputs": [
    {
     "name": "stdout",
     "output_type": "stream",
     "text": [
      "[[1 2 3]\n",
      " [4 5 6]\n",
      " [7 8 9]]\n"
     ]
    }
   ],
   "source": [
    "M = np.array([[1,2,3], [4,5,6], [7,8,9]])\n",
    "print(M)"
   ]
  },
  {
   "cell_type": "code",
   "execution_count": 47,
   "id": "6084f106",
   "metadata": {},
   "outputs": [
    {
     "data": {
      "text/plain": [
       "np.int64(45)"
      ]
     },
     "execution_count": 47,
     "metadata": {},
     "output_type": "execute_result"
    }
   ],
   "source": [
    "M.sum()"
   ]
  },
  {
   "cell_type": "markdown",
   "id": "7a296726",
   "metadata": {},
   "source": [
    "By default, each NumPy aggregation function will return the aggregate over the entire array:\n",
    "\n",
    "Aggregation functions take an additional argument specifying the axis along which the aggregate is computed. "
   ]
  },
  {
   "cell_type": "code",
   "execution_count": 49,
   "id": "53478d40",
   "metadata": {},
   "outputs": [
    {
     "data": {
      "text/plain": [
       "array([[1, 2, 3],\n",
       "       [4, 5, 6],\n",
       "       [7, 8, 9]])"
      ]
     },
     "execution_count": 49,
     "metadata": {},
     "output_type": "execute_result"
    }
   ],
   "source": [
    "M"
   ]
  },
  {
   "cell_type": "code",
   "execution_count": null,
   "id": "204e8c8f",
   "metadata": {},
   "outputs": [],
   "source": [
    "np.array([1,2,3], [4,5,6], [7,8,9])"
   ]
  },
  {
   "cell_type": "code",
   "execution_count": 56,
   "id": "f627873d",
   "metadata": {},
   "outputs": [
    {
     "data": {
      "text/plain": [
       "array([12, 15, 18])"
      ]
     },
     "execution_count": 56,
     "metadata": {},
     "output_type": "execute_result"
    }
   ],
   "source": [
    "# minimum value within each column\n",
    "# M.min(axis=0)\n",
    "M.sum(axis=0)"
   ]
  },
  {
   "cell_type": "code",
   "execution_count": 54,
   "id": "8421c44f",
   "metadata": {},
   "outputs": [
    {
     "data": {
      "text/plain": [
       "array([ 6, 15, 24])"
      ]
     },
     "execution_count": 54,
     "metadata": {},
     "output_type": "execute_result"
    }
   ],
   "source": [
    "#minimum value within each row\n",
    "# M.min(axis=1)\n",
    "M.sum(axis=1)\n"
   ]
  },
  {
   "cell_type": "markdown",
   "id": "5ad934b5",
   "metadata": {},
   "source": [
    "#### NumPy Aggregation Functions Summary\n",
    "\n",
    "In NumPy, a NaN-safe version of a function is a version that ignores NaN (Not a Number) values when performing computations.\n",
    "\n",
    "| **Function**      | **NaN-Safe Version** | **Description**                           |\n",
    "|-------------------|----------------------|-------------------------------------------|\n",
    "| `np.sum`          | `np.nansum`          | Compute sum of elements                   |\n",
    "| `np.prod`         | `np.nanprod`         | Compute product of elements               |\n",
    "| `np.mean`         | `np.nanmean`         | Compute mean of elements                  |\n",
    "| `np.std`          | `np.nanstd`          | Compute standard deviation                |\n",
    "| `np.var`          | `np.nanvar`          | Compute variance                          |\n",
    "| `np.min`          | `np.nanmin`          | Find minimum value                        |\n",
    "| `np.max`          | `np.nanmax`          | Find maximum value                        |\n",
    "| `np.argmin`       | `np.nanargmin`       | Find index of minimum value               |\n",
    "| `np.argmax`       | `np.nanargmax`       | Find index of maximum value               |\n",
    "| `np.median`       | `np.nanmedian`       | Compute median of elements                |\n",
    "| `np.percentile`   | `np.nanpercentile`   | Compute rank-based statistics (percentile)|\n",
    "| `np.any`          | N/A                  | Evaluate whether any elements are true    |\n",
    "| `np.all`          | N/A                  | Evaluate whether all elements are true    |\n"
   ]
  },
  {
   "cell_type": "markdown",
   "id": "87e5ee7f",
   "metadata": {},
   "source": [
    "### Broadcasting in NumPy\n",
    "\n",
    "Broadcasting is a powerful feature in NumPy that allows operations between arrays of different shapes, without manually reshaping or replicating data.\n",
    "\n",
    "`Think of it like this:`\n",
    "Instead of resizing arrays to the same shape, NumPy \"stretches\" the smaller one virtually, so operations can happen element-wise without copying data.\n",
    "\n"
   ]
  },
  {
   "cell_type": "code",
   "execution_count": 152,
   "id": "767d50c7",
   "metadata": {},
   "outputs": [
    {
     "data": {
      "text/plain": [
       "array([1, 2, 3])"
      ]
     },
     "execution_count": 152,
     "metadata": {},
     "output_type": "execute_result"
    }
   ],
   "source": [
    "# Add scalar to array (simple broadcasting)\n",
    "\n",
    "a = np.array([1, 2, 3])\n",
    "# b = 5\n",
    "\n",
    "# print(a+b)\n",
    "a\n"
   ]
  },
  {
   "cell_type": "markdown",
   "id": "94929427",
   "metadata": {},
   "source": [
    "`NumPy \"broadcasts\" 5 to [5, 5, 5] behind the scenes and adds it to a.`"
   ]
  },
  {
   "cell_type": "markdown",
   "id": "ac14ae7c",
   "metadata": {},
   "source": [
    "#### Broadcasting Rules\n",
    "Broadcasting in NumPy follows a strict set of rules to determine the interaction between the two arrays:\n",
    "- `Rule 1:`  If arrays have different numbers of dimensions, the smaller one is padded with ones on the left.\n",
    "```python\n",
    "(3, 2) and (2,) → becomes (3, 2) and (1, 2)\n",
    "```\n",
    "- `Rule 2:` Then, it compares dimensions from right to left. If the shape of the two arrays does not match in any dimension, the dimensions of size 1 can be stretched to match the other.\n",
    "```python\n",
    "(3, 1) and (3, 2) → the (3, 1) becomes (3, 2) during the operation\n",
    "```\n",
    "You can only stretch a dimension if it is 1.\n",
    "- `Rule 3:` If dimensions are not equal and not 1, the arrays are incompatible.\n",
    "```python\n",
    "(3, 2) and (3,) → becomes (3, 2) and (1, 3) → ❌ incompatible: 2 ≠ 3\n",
    "```"
   ]
  },
  {
   "cell_type": "markdown",
   "id": "82c6f5ea",
   "metadata": {},
   "source": [
    "#####  Broadcasting example 1"
   ]
  },
  {
   "cell_type": "code",
   "execution_count": 105,
   "id": "504e61c3",
   "metadata": {},
   "outputs": [
    {
     "name": "stdout",
     "output_type": "stream",
     "text": [
      "[[11 22 33]\n",
      " [14 25 36]]\n",
      "(2, 3)\n",
      "(3,)\n"
     ]
    }
   ],
   "source": [
    "#  Add 1D and 2D arrays\n",
    "a = np.array([[1, 2, 3],\n",
    "              [4, 5, 6]])\n",
    "b = np.array([10, 20, 30])\n",
    "\n",
    "print(a + b)\n",
    "\n",
    "print(a.shape)\n",
    "print(b.shape)"
   ]
  },
  {
   "cell_type": "markdown",
   "id": "72a4114e",
   "metadata": {},
   "source": [
    "We see by rule 1 that the array `b` has fewer dimensions, so we pad it on the left with ones:\n",
    "- a.shape -> (2, 3)\n",
    "- b.shape -> (1, 3)\n",
    "\n",
    "By rule 2, we now see that the first shapes disagrees, so we stretch this dimension to match:\n",
    "- a.shape -> (2, 3)\n",
    "- b.shape -> (2, 3)\n",
    "\n",
    "The shapes match, and we see that the final shape will be \n",
    "`(2,3)`\n"
   ]
  },
  {
   "cell_type": "code",
   "execution_count": 107,
   "id": "ebd7aa6c",
   "metadata": {},
   "outputs": [
    {
     "data": {
      "text/plain": [
       "(2, 3)"
      ]
     },
     "execution_count": 107,
     "metadata": {},
     "output_type": "execute_result"
    }
   ],
   "source": [
    "x = a + b\n",
    "x\n",
    "x.shape"
   ]
  },
  {
   "cell_type": "markdown",
   "id": "77af5611",
   "metadata": {},
   "source": [
    "####  Broadcasting example 2"
   ]
  },
  {
   "cell_type": "code",
   "execution_count": null,
   "id": "6ca8e2f4",
   "metadata": {},
   "outputs": [
    {
     "name": "stdout",
     "output_type": "stream",
     "text": [
      "[[0]\n",
      " [1]\n",
      " [2]]\n",
      "[0 1 2]\n",
      "(3, 1)\n",
      "(3,)\n"
     ]
    },
    {
     "data": {
      "text/plain": [
       "3"
      ]
     },
     "execution_count": 113,
     "metadata": {},
     "output_type": "execute_result"
    }
   ],
   "source": [
    "# example where both arrays need to be broadcast:\n",
    "a = np.arange(3).reshape((3, 1))\n",
    "b = np.arange(3)\n",
    "print(a)\n",
    "print(b)\n",
    "print(a.shape)\n",
    "print(b.shape)"
   ]
  },
  {
   "cell_type": "markdown",
   "id": "45a2f434",
   "metadata": {},
   "source": [
    "Step 1: Align dimensions\n",
    "Array\tShape\n",
    "a\t(3, 1)\n",
    "b\t(3,) → treated as (1, 3) for broadcasting\n",
    "\n",
    "So NumPy views this as:\n",
    "- a.shape = (3, 1)\n",
    "- b.shape = (1, 3)\n",
    "\n",
    "Now it applies broadcasting:\n",
    "| Dimension | `a` | `b` | Result |\n",
    "| --------- | --- | --- | ------ |\n",
    "| First     | 3   | 1   | 3      |\n",
    "| Second    | 1   | 3   | 3      |\n",
    "\n",
    "Final result shape = (3, 3)"
   ]
  },
  {
   "cell_type": "code",
   "execution_count": 114,
   "id": "642d0c38",
   "metadata": {},
   "outputs": [
    {
     "data": {
      "text/plain": [
       "array([[0, 1, 2],\n",
       "       [1, 2, 3],\n",
       "       [2, 3, 4]])"
      ]
     },
     "execution_count": 114,
     "metadata": {},
     "output_type": "execute_result"
    }
   ],
   "source": [
    "a + b"
   ]
  },
  {
   "cell_type": "markdown",
   "id": "cb4d4cf9",
   "metadata": {},
   "source": [
    "#### Broadcasting example 3"
   ]
  },
  {
   "cell_type": "code",
   "execution_count": 127,
   "id": "0ae29f4c",
   "metadata": {},
   "outputs": [
    {
     "name": "stdout",
     "output_type": "stream",
     "text": [
      "[[1 1]\n",
      " [1 1]\n",
      " [1 1]]\n",
      "[0 1 2]\n",
      "(3, 2)\n",
      "(3,)\n"
     ]
    }
   ],
   "source": [
    "# example in which the two arrays are not compatible:\n",
    "\n",
    "M = np.ones((3, 2), dtype=int)\n",
    "a = np.arange(3)\n",
    "print(M)\n",
    "print(a)\n",
    "print(M.shape)\n",
    "print(a.shape)"
   ]
  },
  {
   "cell_type": "markdown",
   "id": "9df7312a",
   "metadata": {},
   "source": [
    "Step 1: Check the shapes\n",
    "\n",
    "| Variable | Shape  | Meaning                  |\n",
    "| -------- | ------ | ------------------------ |\n",
    "| `M`      | (3, 2) | 3 rows × 2 columns       |\n",
    "| `a`      | (3,)   | A 1D array of 3 elements |\n",
    "\n",
    "Step 2: Apply broadcasting rules\n",
    "Broadcasting aligns from right to left, padding smaller shapes with 1s on the left.\n",
    "\n",
    "Let’s align the shapes:\n",
    "\n",
    "| M's shape | (3, 2) |\n",
    "| a's shape | (3,) → becomes (1, 3) when padded |\n",
    "\n",
    "Now compare dimension-wise from the right:\n",
    "\n",
    "| Dimension | M | a (broadcasted) | Compatible? |\n",
    "| --------- | - | --------------- | ----------- |\n",
    "| Last      | 2 | 3               |   No        |\n",
    "| 2nd Last  | 3 | 1               |   Yes       |\n",
    "\n",
    "The last dimension sizes are 2 and 3, which are not equal and neither is 1, so they cannot be broadcast together.\n"
   ]
  },
  {
   "cell_type": "code",
   "execution_count": 126,
   "id": "01d91bd7",
   "metadata": {},
   "outputs": [
    {
     "ename": "ValueError",
     "evalue": "operands could not be broadcast together with shapes (3,2) (3,) ",
     "output_type": "error",
     "traceback": [
      "\u001b[31m---------------------------------------------------------------------------\u001b[39m",
      "\u001b[31mValueError\u001b[39m                                Traceback (most recent call last)",
      "\u001b[36mCell\u001b[39m\u001b[36m \u001b[39m\u001b[32mIn[126]\u001b[39m\u001b[32m, line 1\u001b[39m\n\u001b[32m----> \u001b[39m\u001b[32m1\u001b[39m \u001b[43mM\u001b[49m\u001b[43m \u001b[49m\u001b[43m+\u001b[49m\u001b[43m \u001b[49m\u001b[43ma\u001b[49m\n",
      "\u001b[31mValueError\u001b[39m: operands could not be broadcast together with shapes (3,2) (3,) "
     ]
    }
   ],
   "source": [
    "M + a"
   ]
  }
 ],
 "metadata": {
  "kernelspec": {
   "display_name": "env",
   "language": "python",
   "name": "python3"
  },
  "language_info": {
   "codemirror_mode": {
    "name": "ipython",
    "version": 3
   },
   "file_extension": ".py",
   "mimetype": "text/x-python",
   "name": "python",
   "nbconvert_exporter": "python",
   "pygments_lexer": "ipython3",
   "version": "3.13.3"
  }
 },
 "nbformat": 4,
 "nbformat_minor": 5
}
